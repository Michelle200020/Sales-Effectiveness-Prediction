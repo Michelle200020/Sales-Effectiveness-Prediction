{
 "cells": [
  {
   "cell_type": "markdown",
   "id": "7f8078ef",
   "metadata": {},
   "source": [
    "# Business Case\n",
    "### Generating Data Exploration insights for sales effectiveness and creating an ML model to predict lead quality for FicZon Inc, an IT solutions provider. The main task is to help the company increase sales effectiveness by automating the categorisation of lead quality by using machine learning technology. This is a binary classification task that involves prediction of whether lead quality is high or low potential. "
   ]
  },
  {
   "cell_type": "markdown",
   "id": "44a85f87",
   "metadata": {},
   "source": [
    "# Importing the Libraries"
   ]
  },
  {
   "cell_type": "code",
   "execution_count": 1,
   "id": "be9cf570",
   "metadata": {},
   "outputs": [],
   "source": [
    "import numpy as np\n",
    "import pandas as pd\n",
    "import seaborn as sns\n",
    "import matplotlib.pyplot as plt\n",
    "%matplotlib inline\n",
    "\n",
    "import warnings\n",
    "warnings.filterwarnings('ignore')"
   ]
  },
  {
   "cell_type": "markdown",
   "id": "a92a31d7",
   "metadata": {},
   "source": [
    "# Querying Data from the SQL Database"
   ]
  },
  {
   "cell_type": "code",
   "execution_count": 2,
   "id": "5d7e8af8",
   "metadata": {},
   "outputs": [
    {
     "name": "stdout",
     "output_type": "stream",
     "text": [
      "Requirement already satisfied: pymysql in d:\\anaconda\\lib\\site-packages (1.0.2)\n",
      "Requirement already satisfied: mysql-connector in d:\\anaconda\\lib\\site-packages (2.2.9)\n"
     ]
    }
   ],
   "source": [
    "# PyMySQL is an interface for connecting to a MySQL database server from Python\n",
    "!pip install pymysql\n",
    "\n",
    "# MySQL driver written in Python \n",
    "!pip install mysql-connector"
   ]
  },
  {
   "cell_type": "code",
   "execution_count": 3,
   "id": "018a24be",
   "metadata": {},
   "outputs": [],
   "source": [
    "import mysql.connector"
   ]
  },
  {
   "cell_type": "code",
   "execution_count": 4,
   "id": "9b3af807",
   "metadata": {},
   "outputs": [],
   "source": [
    "# making connections to database server\n",
    "connection=mysql.connector.connect(host = '18.136.157.135',\n",
    "                                  user=' dm_team2',\n",
    "                                  password='DM!$Team&27@9!20!')"
   ]
  },
  {
   "cell_type": "code",
   "execution_count": 5,
   "id": "b9cf059a",
   "metadata": {},
   "outputs": [
    {
     "name": "stdout",
     "output_type": "stream",
     "text": [
      "('information_schema',)\n",
      "('project_sales',)\n"
     ]
    }
   ],
   "source": [
    "## Check the number of databases available on the server\n",
    "cursor=connection.cursor()\n",
    "cursor.execute('show databases')\n",
    "for i in cursor:\n",
    "    print(i)"
   ]
  },
  {
   "cell_type": "code",
   "execution_count": 6,
   "id": "5a27b7cb",
   "metadata": {},
   "outputs": [],
   "source": [
    "# connecting to the database\n",
    "connection=mysql.connector.connect(host = '18.136.157.135',\n",
    "                                  user=' dm_team2',\n",
    "                                  password='DM!$Team&27@9!20!',\n",
    "                                  database='project_sales')"
   ]
  },
  {
   "cell_type": "code",
   "execution_count": 7,
   "id": "41e6f110",
   "metadata": {},
   "outputs": [
    {
     "name": "stdout",
     "output_type": "stream",
     "text": [
      "  Tables_in_project_sales\n",
      "0                    data\n"
     ]
    }
   ],
   "source": [
    "db_tables=pd.read_sql_query('show tables',connection)\n",
    "print(db_tables)\n",
    "# The project sales database contains only one table"
   ]
  },
  {
   "cell_type": "code",
   "execution_count": 8,
   "id": "289b5a10",
   "metadata": {},
   "outputs": [
    {
     "data": {
      "text/html": [
       "<div>\n",
       "<style scoped>\n",
       "    .dataframe tbody tr th:only-of-type {\n",
       "        vertical-align: middle;\n",
       "    }\n",
       "\n",
       "    .dataframe tbody tr th {\n",
       "        vertical-align: top;\n",
       "    }\n",
       "\n",
       "    .dataframe thead th {\n",
       "        text-align: right;\n",
       "    }\n",
       "</style>\n",
       "<table border=\"1\" class=\"dataframe\">\n",
       "  <thead>\n",
       "    <tr style=\"text-align: right;\">\n",
       "      <th></th>\n",
       "      <th>Created</th>\n",
       "      <th>Product_ID</th>\n",
       "      <th>Source</th>\n",
       "      <th>Mobile</th>\n",
       "      <th>EMAIL</th>\n",
       "      <th>Sales_Agent</th>\n",
       "      <th>Location</th>\n",
       "      <th>Delivery_Mode</th>\n",
       "      <th>Status</th>\n",
       "    </tr>\n",
       "  </thead>\n",
       "  <tbody>\n",
       "    <tr>\n",
       "      <th>0</th>\n",
       "      <td>14-11-2018 10:05</td>\n",
       "      <td></td>\n",
       "      <td>Website</td>\n",
       "      <td>984XXXXXXX</td>\n",
       "      <td>aXXXXXXX@gmail.com</td>\n",
       "      <td>Sales-Agent-11</td>\n",
       "      <td></td>\n",
       "      <td>Mode-5</td>\n",
       "      <td>Open</td>\n",
       "    </tr>\n",
       "    <tr>\n",
       "      <th>1</th>\n",
       "      <td>14-11-2018 09:22</td>\n",
       "      <td></td>\n",
       "      <td>Website</td>\n",
       "      <td>XXXXXXX</td>\n",
       "      <td>#VALUE!</td>\n",
       "      <td>Sales-Agent-10</td>\n",
       "      <td></td>\n",
       "      <td>Mode-5</td>\n",
       "      <td>Open</td>\n",
       "    </tr>\n",
       "    <tr>\n",
       "      <th>2</th>\n",
       "      <td>14-11-2018 09:21</td>\n",
       "      <td></td>\n",
       "      <td>Website</td>\n",
       "      <td>XXXXXXX</td>\n",
       "      <td>dXXXXXXX@yahoo.com</td>\n",
       "      <td>Sales-Agent-10</td>\n",
       "      <td></td>\n",
       "      <td>Mode-5</td>\n",
       "      <td>Open</td>\n",
       "    </tr>\n",
       "    <tr>\n",
       "      <th>3</th>\n",
       "      <td>14-11-2018 08:46</td>\n",
       "      <td></td>\n",
       "      <td>Website</td>\n",
       "      <td>XXXXXXX</td>\n",
       "      <td>wXXXXXXX@gmail.com</td>\n",
       "      <td>Sales-Agent-10</td>\n",
       "      <td></td>\n",
       "      <td>Mode-5</td>\n",
       "      <td>Open</td>\n",
       "    </tr>\n",
       "    <tr>\n",
       "      <th>4</th>\n",
       "      <td>14-11-2018 07:34</td>\n",
       "      <td></td>\n",
       "      <td>Website</td>\n",
       "      <td>XXXXXXX</td>\n",
       "      <td>cXXXXXXX@gmail.com</td>\n",
       "      <td>Sales-Agent-10</td>\n",
       "      <td></td>\n",
       "      <td>Mode-5</td>\n",
       "      <td>Open</td>\n",
       "    </tr>\n",
       "    <tr>\n",
       "      <th>...</th>\n",
       "      <td>...</td>\n",
       "      <td>...</td>\n",
       "      <td>...</td>\n",
       "      <td>...</td>\n",
       "      <td>...</td>\n",
       "      <td>...</td>\n",
       "      <td>...</td>\n",
       "      <td>...</td>\n",
       "      <td>...</td>\n",
       "    </tr>\n",
       "    <tr>\n",
       "      <th>7417</th>\n",
       "      <td>28-04-2018 09:45</td>\n",
       "      <td>9</td>\n",
       "      <td>Call</td>\n",
       "      <td></td>\n",
       "      <td>aXXXXXXX@gmail.com</td>\n",
       "      <td>Sales-Agent-6</td>\n",
       "      <td>Mumbai</td>\n",
       "      <td>Mode-4</td>\n",
       "      <td>LOST</td>\n",
       "    </tr>\n",
       "    <tr>\n",
       "      <th>7418</th>\n",
       "      <td>28-04-2018 09:43</td>\n",
       "      <td>15</td>\n",
       "      <td>Call</td>\n",
       "      <td></td>\n",
       "      <td>#VALUE!</td>\n",
       "      <td>Sales-Agent-12</td>\n",
       "      <td>Other Locations</td>\n",
       "      <td>Mode-5</td>\n",
       "      <td>LOST</td>\n",
       "    </tr>\n",
       "    <tr>\n",
       "      <th>7419</th>\n",
       "      <td>28-04-2018 09:20</td>\n",
       "      <td>5</td>\n",
       "      <td>Live Chat-Direct</td>\n",
       "      <td></td>\n",
       "      <td>sXXXXXXX@gmail.com</td>\n",
       "      <td>Sales-Agent-11</td>\n",
       "      <td>Bangalore</td>\n",
       "      <td>Mode-1</td>\n",
       "      <td>Not Responding</td>\n",
       "    </tr>\n",
       "    <tr>\n",
       "      <th>7420</th>\n",
       "      <td>28-04-2018 08:04</td>\n",
       "      <td>21</td>\n",
       "      <td>CRM form</td>\n",
       "      <td></td>\n",
       "      <td>YXXXXXXX@gmail.com</td>\n",
       "      <td>Sales-Agent-4</td>\n",
       "      <td>Other Locations</td>\n",
       "      <td>Mode-1</td>\n",
       "      <td>Just Enquiry</td>\n",
       "    </tr>\n",
       "    <tr>\n",
       "      <th>7421</th>\n",
       "      <td>28-04-2018 07:54</td>\n",
       "      <td>25</td>\n",
       "      <td>Website</td>\n",
       "      <td></td>\n",
       "      <td>cXXXXXXX@gmail.com</td>\n",
       "      <td>Sales-Agent-3</td>\n",
       "      <td>Chennai</td>\n",
       "      <td>Mode-1</td>\n",
       "      <td>CONVERTED</td>\n",
       "    </tr>\n",
       "  </tbody>\n",
       "</table>\n",
       "<p>7422 rows × 9 columns</p>\n",
       "</div>"
      ],
      "text/plain": [
       "               Created Product_ID            Source      Mobile  \\\n",
       "0     14-11-2018 10:05                      Website  984XXXXXXX   \n",
       "1     14-11-2018 09:22                      Website     XXXXXXX   \n",
       "2     14-11-2018 09:21                      Website     XXXXXXX   \n",
       "3     14-11-2018 08:46                      Website     XXXXXXX   \n",
       "4     14-11-2018 07:34                      Website     XXXXXXX   \n",
       "...                ...        ...               ...         ...   \n",
       "7417  28-04-2018 09:45          9              Call               \n",
       "7418  28-04-2018 09:43         15              Call               \n",
       "7419  28-04-2018 09:20          5  Live Chat-Direct               \n",
       "7420  28-04-2018 08:04         21          CRM form               \n",
       "7421  28-04-2018 07:54         25           Website               \n",
       "\n",
       "                   EMAIL     Sales_Agent         Location Delivery_Mode  \\\n",
       "0     aXXXXXXX@gmail.com  Sales-Agent-11                         Mode-5   \n",
       "1                #VALUE!  Sales-Agent-10                         Mode-5   \n",
       "2     dXXXXXXX@yahoo.com  Sales-Agent-10                         Mode-5   \n",
       "3     wXXXXXXX@gmail.com  Sales-Agent-10                         Mode-5   \n",
       "4     cXXXXXXX@gmail.com  Sales-Agent-10                         Mode-5   \n",
       "...                  ...             ...              ...           ...   \n",
       "7417  aXXXXXXX@gmail.com   Sales-Agent-6           Mumbai        Mode-4   \n",
       "7418             #VALUE!  Sales-Agent-12  Other Locations        Mode-5   \n",
       "7419  sXXXXXXX@gmail.com  Sales-Agent-11        Bangalore        Mode-1   \n",
       "7420  YXXXXXXX@gmail.com   Sales-Agent-4  Other Locations        Mode-1   \n",
       "7421  cXXXXXXX@gmail.com   Sales-Agent-3          Chennai        Mode-1   \n",
       "\n",
       "              Status  \n",
       "0               Open  \n",
       "1               Open  \n",
       "2               Open  \n",
       "3               Open  \n",
       "4               Open  \n",
       "...              ...  \n",
       "7417            LOST  \n",
       "7418            LOST  \n",
       "7419  Not Responding  \n",
       "7420    Just Enquiry  \n",
       "7421       CONVERTED  \n",
       "\n",
       "[7422 rows x 9 columns]"
      ]
     },
     "execution_count": 8,
     "metadata": {},
     "output_type": "execute_result"
    }
   ],
   "source": [
    "#Displaying the details of the data table\n",
    "query = \"select * from data\" # SQL statement for selecting all rows and columns from the table\n",
    "data = pd.read_sql(query,connection)\n",
    "data"
   ]
  },
  {
   "cell_type": "code",
   "execution_count": 9,
   "id": "68bcfe95",
   "metadata": {},
   "outputs": [],
   "source": [
    "# Converting datafrom table to csv file\n",
    "data.to_csv(\"project_sales_data.csv\")"
   ]
  },
  {
   "cell_type": "markdown",
   "id": "799f0189",
   "metadata": {},
   "source": [
    "# Importing the data"
   ]
  },
  {
   "cell_type": "code",
   "execution_count": 56,
   "id": "bf3c6064",
   "metadata": {},
   "outputs": [
    {
     "data": {
      "text/html": [
       "<div>\n",
       "<style scoped>\n",
       "    .dataframe tbody tr th:only-of-type {\n",
       "        vertical-align: middle;\n",
       "    }\n",
       "\n",
       "    .dataframe tbody tr th {\n",
       "        vertical-align: top;\n",
       "    }\n",
       "\n",
       "    .dataframe thead th {\n",
       "        text-align: right;\n",
       "    }\n",
       "</style>\n",
       "<table border=\"1\" class=\"dataframe\">\n",
       "  <thead>\n",
       "    <tr style=\"text-align: right;\">\n",
       "      <th></th>\n",
       "      <th>Unnamed: 0</th>\n",
       "      <th>Created</th>\n",
       "      <th>Product_ID</th>\n",
       "      <th>Source</th>\n",
       "      <th>Mobile</th>\n",
       "      <th>EMAIL</th>\n",
       "      <th>Sales_Agent</th>\n",
       "      <th>Location</th>\n",
       "      <th>Delivery_Mode</th>\n",
       "      <th>Status</th>\n",
       "    </tr>\n",
       "  </thead>\n",
       "  <tbody>\n",
       "    <tr>\n",
       "      <th>0</th>\n",
       "      <td>0</td>\n",
       "      <td>14-11-2018 10:05</td>\n",
       "      <td>NaN</td>\n",
       "      <td>Website</td>\n",
       "      <td>984XXXXXXX</td>\n",
       "      <td>aXXXXXXX@gmail.com</td>\n",
       "      <td>Sales-Agent-11</td>\n",
       "      <td>NaN</td>\n",
       "      <td>Mode-5</td>\n",
       "      <td>Open</td>\n",
       "    </tr>\n",
       "    <tr>\n",
       "      <th>1</th>\n",
       "      <td>1</td>\n",
       "      <td>14-11-2018 09:22</td>\n",
       "      <td>NaN</td>\n",
       "      <td>Website</td>\n",
       "      <td>XXXXXXX</td>\n",
       "      <td>#VALUE!</td>\n",
       "      <td>Sales-Agent-10</td>\n",
       "      <td>NaN</td>\n",
       "      <td>Mode-5</td>\n",
       "      <td>Open</td>\n",
       "    </tr>\n",
       "    <tr>\n",
       "      <th>2</th>\n",
       "      <td>2</td>\n",
       "      <td>14-11-2018 09:21</td>\n",
       "      <td>NaN</td>\n",
       "      <td>Website</td>\n",
       "      <td>XXXXXXX</td>\n",
       "      <td>dXXXXXXX@yahoo.com</td>\n",
       "      <td>Sales-Agent-10</td>\n",
       "      <td>NaN</td>\n",
       "      <td>Mode-5</td>\n",
       "      <td>Open</td>\n",
       "    </tr>\n",
       "    <tr>\n",
       "      <th>3</th>\n",
       "      <td>3</td>\n",
       "      <td>14-11-2018 08:46</td>\n",
       "      <td>NaN</td>\n",
       "      <td>Website</td>\n",
       "      <td>XXXXXXX</td>\n",
       "      <td>wXXXXXXX@gmail.com</td>\n",
       "      <td>Sales-Agent-10</td>\n",
       "      <td>NaN</td>\n",
       "      <td>Mode-5</td>\n",
       "      <td>Open</td>\n",
       "    </tr>\n",
       "    <tr>\n",
       "      <th>4</th>\n",
       "      <td>4</td>\n",
       "      <td>14-11-2018 07:34</td>\n",
       "      <td>NaN</td>\n",
       "      <td>Website</td>\n",
       "      <td>XXXXXXX</td>\n",
       "      <td>cXXXXXXX@gmail.com</td>\n",
       "      <td>Sales-Agent-10</td>\n",
       "      <td>NaN</td>\n",
       "      <td>Mode-5</td>\n",
       "      <td>Open</td>\n",
       "    </tr>\n",
       "  </tbody>\n",
       "</table>\n",
       "</div>"
      ],
      "text/plain": [
       "   Unnamed: 0           Created  Product_ID   Source      Mobile  \\\n",
       "0           0  14-11-2018 10:05         NaN  Website  984XXXXXXX   \n",
       "1           1  14-11-2018 09:22         NaN  Website     XXXXXXX   \n",
       "2           2  14-11-2018 09:21         NaN  Website     XXXXXXX   \n",
       "3           3  14-11-2018 08:46         NaN  Website     XXXXXXX   \n",
       "4           4  14-11-2018 07:34         NaN  Website     XXXXXXX   \n",
       "\n",
       "                EMAIL     Sales_Agent Location Delivery_Mode Status  \n",
       "0  aXXXXXXX@gmail.com  Sales-Agent-11      NaN        Mode-5   Open  \n",
       "1             #VALUE!  Sales-Agent-10      NaN        Mode-5   Open  \n",
       "2  dXXXXXXX@yahoo.com  Sales-Agent-10      NaN        Mode-5   Open  \n",
       "3  wXXXXXXX@gmail.com  Sales-Agent-10      NaN        Mode-5   Open  \n",
       "4  cXXXXXXX@gmail.com  Sales-Agent-10      NaN        Mode-5   Open  "
      ]
     },
     "execution_count": 56,
     "metadata": {},
     "output_type": "execute_result"
    }
   ],
   "source": [
    "data = pd.read_csv(\"project_sales_data.csv\")\n",
    "data.head()"
   ]
  },
  {
   "cell_type": "code",
   "execution_count": 57,
   "id": "d5332d3b",
   "metadata": {},
   "outputs": [],
   "source": [
    "data.drop(\"Unnamed: 0\", axis=1, inplace=True)"
   ]
  },
  {
   "cell_type": "code",
   "execution_count": 58,
   "id": "ab546506",
   "metadata": {},
   "outputs": [
    {
     "name": "stdout",
     "output_type": "stream",
     "text": [
      "<class 'pandas.core.frame.DataFrame'>\n",
      "RangeIndex: 7422 entries, 0 to 7421\n",
      "Data columns (total 9 columns):\n",
      " #   Column         Non-Null Count  Dtype  \n",
      "---  ------         --------------  -----  \n",
      " 0   Created        7422 non-null   object \n",
      " 1   Product_ID     7364 non-null   float64\n",
      " 2   Source         7405 non-null   object \n",
      " 3   Mobile         5612 non-null   object \n",
      " 4   EMAIL          7422 non-null   object \n",
      " 5   Sales_Agent    7399 non-null   object \n",
      " 6   Location       7364 non-null   object \n",
      " 7   Delivery_Mode  7422 non-null   object \n",
      " 8   Status         7422 non-null   object \n",
      "dtypes: float64(1), object(8)\n",
      "memory usage: 522.0+ KB\n"
     ]
    }
   ],
   "source": [
    "data.info()\n"
   ]
  },
  {
   "cell_type": "code",
   "execution_count": 59,
   "id": "1dc05d22",
   "metadata": {},
   "outputs": [
    {
     "data": {
      "text/html": [
       "<div>\n",
       "<style scoped>\n",
       "    .dataframe tbody tr th:only-of-type {\n",
       "        vertical-align: middle;\n",
       "    }\n",
       "\n",
       "    .dataframe tbody tr th {\n",
       "        vertical-align: top;\n",
       "    }\n",
       "\n",
       "    .dataframe thead th {\n",
       "        text-align: right;\n",
       "    }\n",
       "</style>\n",
       "<table border=\"1\" class=\"dataframe\">\n",
       "  <thead>\n",
       "    <tr style=\"text-align: right;\">\n",
       "      <th></th>\n",
       "      <th>Created</th>\n",
       "      <th>Source</th>\n",
       "      <th>Mobile</th>\n",
       "      <th>EMAIL</th>\n",
       "      <th>Sales_Agent</th>\n",
       "      <th>Location</th>\n",
       "      <th>Delivery_Mode</th>\n",
       "      <th>Status</th>\n",
       "    </tr>\n",
       "  </thead>\n",
       "  <tbody>\n",
       "    <tr>\n",
       "      <th>count</th>\n",
       "      <td>7422</td>\n",
       "      <td>7405</td>\n",
       "      <td>5612</td>\n",
       "      <td>7422</td>\n",
       "      <td>7399</td>\n",
       "      <td>7364</td>\n",
       "      <td>7422</td>\n",
       "      <td>7422</td>\n",
       "    </tr>\n",
       "    <tr>\n",
       "      <th>unique</th>\n",
       "      <td>6752</td>\n",
       "      <td>25</td>\n",
       "      <td>486</td>\n",
       "      <td>883</td>\n",
       "      <td>12</td>\n",
       "      <td>17</td>\n",
       "      <td>5</td>\n",
       "      <td>11</td>\n",
       "    </tr>\n",
       "    <tr>\n",
       "      <th>top</th>\n",
       "      <td>26-09-2018 11:30</td>\n",
       "      <td>Call</td>\n",
       "      <td>XXXXXXX</td>\n",
       "      <td>#VALUE!</td>\n",
       "      <td>Sales-Agent-4</td>\n",
       "      <td>Other Locations</td>\n",
       "      <td>Mode-5</td>\n",
       "      <td>Junk Lead</td>\n",
       "    </tr>\n",
       "    <tr>\n",
       "      <th>freq</th>\n",
       "      <td>4</td>\n",
       "      <td>2547</td>\n",
       "      <td>222</td>\n",
       "      <td>1701</td>\n",
       "      <td>1500</td>\n",
       "      <td>2500</td>\n",
       "      <td>2975</td>\n",
       "      <td>1536</td>\n",
       "    </tr>\n",
       "  </tbody>\n",
       "</table>\n",
       "</div>"
      ],
      "text/plain": [
       "                 Created Source   Mobile    EMAIL    Sales_Agent  \\\n",
       "count               7422   7405     5612     7422           7399   \n",
       "unique              6752     25      486      883             12   \n",
       "top     26-09-2018 11:30   Call  XXXXXXX  #VALUE!  Sales-Agent-4   \n",
       "freq                   4   2547      222     1701           1500   \n",
       "\n",
       "               Location Delivery_Mode     Status  \n",
       "count              7364          7422       7422  \n",
       "unique               17             5         11  \n",
       "top     Other Locations        Mode-5  Junk Lead  \n",
       "freq               2500          2975       1536  "
      ]
     },
     "execution_count": 59,
     "metadata": {},
     "output_type": "execute_result"
    }
   ],
   "source": [
    "data.describe(include=\"O\")"
   ]
  },
  {
   "cell_type": "markdown",
   "id": "a8c9d889",
   "metadata": {},
   "source": [
    "- The dataset contains 7422 entries with 10 columns- 1 numeric and 9 categorical.\n",
    "- The \"Created\" column is a date time stamp which could be converted into a more usable form like day, month, hour columns etc.\n",
    "- The 'Mobile' column has many unique values and isn't much useful since most numbers are hidden for privacy purposes. This columns has some missing values. \n",
    "- The 'EMAIL' column is also a unique value column where all details except the first and last 10 charachters of the email id are hidden. We could however extract the internet domain extensions of the email id and maybe get some insights through it.This columns has some missing values hidden under the label '#VALUE!' which shows that the email id for that entry is missing. \n",
    "- The status column contains 11 different labels which has to categorized into high or low potential labels which would serve as our target variable. "
   ]
  },
  {
   "cell_type": "markdown",
   "id": "b35260c8",
   "metadata": {},
   "source": [
    "# Domain Analysis"
   ]
  },
  {
   "cell_type": "markdown",
   "id": "f68d7113",
   "metadata": {},
   "source": [
    "### Created\n",
    "This feature gives us details about the date and time the order was generated. This feature could give interesting insights on certain days, months or time of the days when orders are more or less etc.\n",
    "\n",
    "### Product_ID\n",
    "This features gives us the ID of the IT product ordered by the customer.  \n",
    "\n",
    "### Source\n",
    "This feature tells us the the mode in which the customer placed the order such as website, call, live-chat direct.\n",
    "\n",
    "### Mobile\n",
    "The contact number of the customer. \n",
    "\n",
    "### Email \n",
    "The email id if the business/customer.\n",
    "\n",
    "### Sales_Agent\n",
    "The sales agent who was responsible for that sales if the product to the customer. Therer are 12 different sales agents. \n",
    "\n",
    "### Location\n",
    "The location of the customer- domestic or international. There are 17 different locations. \n",
    "\n",
    "### Delivery_Mode\n",
    "The mode of delivery of the product. There are 5 types of modes.\n",
    "\n",
    "### Status\n",
    "The current status of the customer's order. "
   ]
  },
  {
   "cell_type": "markdown",
   "id": "a86668ad",
   "metadata": {},
   "source": [
    "# Data Preparation"
   ]
  },
  {
   "cell_type": "markdown",
   "id": "6bab3fca",
   "metadata": {},
   "source": [
    "- This preprocessing step involves the manipulation and consolidation of raw data  into a standardized format so that it can be used in a model. This would include feature creation, cleaning data, data augmentation, transformations etc.\n",
    "- In this case, we need to convert the date and time related columns into a format which can be used for analysis and be understood by the model. \n",
    "- We also need to create the new target variable. "
   ]
  },
  {
   "cell_type": "markdown",
   "id": "9d7cd691",
   "metadata": {},
   "source": [
    "## Creation of DateTime columns"
   ]
  },
  {
   "cell_type": "code",
   "execution_count": 60,
   "id": "9971468e",
   "metadata": {},
   "outputs": [
    {
     "name": "stdout",
     "output_type": "stream",
     "text": [
      "<class 'pandas.core.frame.DataFrame'>\n",
      "RangeIndex: 7422 entries, 0 to 7421\n",
      "Data columns (total 9 columns):\n",
      " #   Column         Non-Null Count  Dtype         \n",
      "---  ------         --------------  -----         \n",
      " 0   Created        7422 non-null   datetime64[ns]\n",
      " 1   Product_ID     7364 non-null   float64       \n",
      " 2   Source         7405 non-null   object        \n",
      " 3   Mobile         5612 non-null   object        \n",
      " 4   EMAIL          7422 non-null   object        \n",
      " 5   Sales_Agent    7399 non-null   object        \n",
      " 6   Location       7364 non-null   object        \n",
      " 7   Delivery_Mode  7422 non-null   object        \n",
      " 8   Status         7422 non-null   object        \n",
      "dtypes: datetime64[ns](1), float64(1), object(7)\n",
      "memory usage: 522.0+ KB\n"
     ]
    }
   ],
   "source": [
    "data[\"Created\"] = pd.to_datetime(data[\"Created\"])\n",
    "data.info()"
   ]
  },
  {
   "cell_type": "code",
   "execution_count": 61,
   "id": "2403af9e",
   "metadata": {},
   "outputs": [
    {
     "data": {
      "text/html": [
       "<div>\n",
       "<style scoped>\n",
       "    .dataframe tbody tr th:only-of-type {\n",
       "        vertical-align: middle;\n",
       "    }\n",
       "\n",
       "    .dataframe tbody tr th {\n",
       "        vertical-align: top;\n",
       "    }\n",
       "\n",
       "    .dataframe thead th {\n",
       "        text-align: right;\n",
       "    }\n",
       "</style>\n",
       "<table border=\"1\" class=\"dataframe\">\n",
       "  <thead>\n",
       "    <tr style=\"text-align: right;\">\n",
       "      <th></th>\n",
       "      <th>Created</th>\n",
       "      <th>Product_ID</th>\n",
       "      <th>Source</th>\n",
       "      <th>Mobile</th>\n",
       "      <th>EMAIL</th>\n",
       "      <th>Sales_Agent</th>\n",
       "      <th>Location</th>\n",
       "      <th>Delivery_Mode</th>\n",
       "      <th>Status</th>\n",
       "      <th>Weekday</th>\n",
       "      <th>Month</th>\n",
       "      <th>Day</th>\n",
       "      <th>Hour</th>\n",
       "    </tr>\n",
       "  </thead>\n",
       "  <tbody>\n",
       "    <tr>\n",
       "      <th>0</th>\n",
       "      <td>2018-11-14 10:05:00</td>\n",
       "      <td>NaN</td>\n",
       "      <td>Website</td>\n",
       "      <td>984XXXXXXX</td>\n",
       "      <td>aXXXXXXX@gmail.com</td>\n",
       "      <td>Sales-Agent-11</td>\n",
       "      <td>NaN</td>\n",
       "      <td>Mode-5</td>\n",
       "      <td>Open</td>\n",
       "      <td>2</td>\n",
       "      <td>11</td>\n",
       "      <td>14</td>\n",
       "      <td>10</td>\n",
       "    </tr>\n",
       "    <tr>\n",
       "      <th>1</th>\n",
       "      <td>2018-11-14 09:22:00</td>\n",
       "      <td>NaN</td>\n",
       "      <td>Website</td>\n",
       "      <td>XXXXXXX</td>\n",
       "      <td>#VALUE!</td>\n",
       "      <td>Sales-Agent-10</td>\n",
       "      <td>NaN</td>\n",
       "      <td>Mode-5</td>\n",
       "      <td>Open</td>\n",
       "      <td>2</td>\n",
       "      <td>11</td>\n",
       "      <td>14</td>\n",
       "      <td>9</td>\n",
       "    </tr>\n",
       "    <tr>\n",
       "      <th>2</th>\n",
       "      <td>2018-11-14 09:21:00</td>\n",
       "      <td>NaN</td>\n",
       "      <td>Website</td>\n",
       "      <td>XXXXXXX</td>\n",
       "      <td>dXXXXXXX@yahoo.com</td>\n",
       "      <td>Sales-Agent-10</td>\n",
       "      <td>NaN</td>\n",
       "      <td>Mode-5</td>\n",
       "      <td>Open</td>\n",
       "      <td>2</td>\n",
       "      <td>11</td>\n",
       "      <td>14</td>\n",
       "      <td>9</td>\n",
       "    </tr>\n",
       "    <tr>\n",
       "      <th>3</th>\n",
       "      <td>2018-11-14 08:46:00</td>\n",
       "      <td>NaN</td>\n",
       "      <td>Website</td>\n",
       "      <td>XXXXXXX</td>\n",
       "      <td>wXXXXXXX@gmail.com</td>\n",
       "      <td>Sales-Agent-10</td>\n",
       "      <td>NaN</td>\n",
       "      <td>Mode-5</td>\n",
       "      <td>Open</td>\n",
       "      <td>2</td>\n",
       "      <td>11</td>\n",
       "      <td>14</td>\n",
       "      <td>8</td>\n",
       "    </tr>\n",
       "    <tr>\n",
       "      <th>4</th>\n",
       "      <td>2018-11-14 07:34:00</td>\n",
       "      <td>NaN</td>\n",
       "      <td>Website</td>\n",
       "      <td>XXXXXXX</td>\n",
       "      <td>cXXXXXXX@gmail.com</td>\n",
       "      <td>Sales-Agent-10</td>\n",
       "      <td>NaN</td>\n",
       "      <td>Mode-5</td>\n",
       "      <td>Open</td>\n",
       "      <td>2</td>\n",
       "      <td>11</td>\n",
       "      <td>14</td>\n",
       "      <td>7</td>\n",
       "    </tr>\n",
       "  </tbody>\n",
       "</table>\n",
       "</div>"
      ],
      "text/plain": [
       "              Created  Product_ID   Source      Mobile               EMAIL  \\\n",
       "0 2018-11-14 10:05:00         NaN  Website  984XXXXXXX  aXXXXXXX@gmail.com   \n",
       "1 2018-11-14 09:22:00         NaN  Website     XXXXXXX             #VALUE!   \n",
       "2 2018-11-14 09:21:00         NaN  Website     XXXXXXX  dXXXXXXX@yahoo.com   \n",
       "3 2018-11-14 08:46:00         NaN  Website     XXXXXXX  wXXXXXXX@gmail.com   \n",
       "4 2018-11-14 07:34:00         NaN  Website     XXXXXXX  cXXXXXXX@gmail.com   \n",
       "\n",
       "      Sales_Agent Location Delivery_Mode Status  Weekday  Month  Day  Hour  \n",
       "0  Sales-Agent-11      NaN        Mode-5   Open        2     11   14    10  \n",
       "1  Sales-Agent-10      NaN        Mode-5   Open        2     11   14     9  \n",
       "2  Sales-Agent-10      NaN        Mode-5   Open        2     11   14     9  \n",
       "3  Sales-Agent-10      NaN        Mode-5   Open        2     11   14     8  \n",
       "4  Sales-Agent-10      NaN        Mode-5   Open        2     11   14     7  "
      ]
     },
     "execution_count": 61,
     "metadata": {},
     "output_type": "execute_result"
    }
   ],
   "source": [
    "data[\"Weekday\"] = data[\"Created\"].dt.weekday\n",
    "data[\"Month\"] = data[\"Created\"].dt.month\n",
    "data[\"Day\"]= data[\"Created\"].dt.day\n",
    "data[\"Hour\"] = data[\"Created\"].dt.hour\n",
    "data.head()"
   ]
  },
  {
   "cell_type": "markdown",
   "id": "af3850e8",
   "metadata": {},
   "source": [
    "## Dropping Unique Value Features\n"
   ]
  },
  {
   "cell_type": "markdown",
   "id": "8c3f05b1",
   "metadata": {},
   "source": [
    "Dropping unique value columns i.e., email and mobile since these columns don't provide useful information that would help in prediction of the target variable. "
   ]
  },
  {
   "cell_type": "code",
   "execution_count": 62,
   "id": "c4fe69a2",
   "metadata": {},
   "outputs": [],
   "source": [
    "data.drop(\"Created\", axis=1, inplace=True)\n",
    "data.drop(\"Mobile\", axis=1, inplace=True)\n",
    "data.drop(\"EMAIL\", axis=1, inplace=True)\n"
   ]
  },
  {
   "cell_type": "markdown",
   "id": "a9485b03",
   "metadata": {},
   "source": [
    "## Creation of Target Variable"
   ]
  },
  {
   "cell_type": "code",
   "execution_count": 63,
   "id": "46a39ee1",
   "metadata": {},
   "outputs": [
    {
     "data": {
      "text/plain": [
       "array(['open', 'potential', 'in progress positive', 'not responding',\n",
       "       'just enquiry', 'junk lead', 'converted', 'in progress negative',\n",
       "       'lost', 'long term'], dtype=object)"
      ]
     },
     "execution_count": 63,
     "metadata": {},
     "output_type": "execute_result"
    }
   ],
   "source": [
    "data['Status'] = data['Status'].str.lower()\n",
    "data.Status.unique()"
   ]
  },
  {
   "cell_type": "markdown",
   "id": "7eb040d6",
   "metadata": {},
   "source": [
    "Categorizing the status labels as low or high potential and assigning it to the respective values. "
   ]
  },
  {
   "cell_type": "code",
   "execution_count": 64,
   "id": "4958739f",
   "metadata": {},
   "outputs": [
    {
     "data": {
      "text/html": [
       "<div>\n",
       "<style scoped>\n",
       "    .dataframe tbody tr th:only-of-type {\n",
       "        vertical-align: middle;\n",
       "    }\n",
       "\n",
       "    .dataframe tbody tr th {\n",
       "        vertical-align: top;\n",
       "    }\n",
       "\n",
       "    .dataframe thead th {\n",
       "        text-align: right;\n",
       "    }\n",
       "</style>\n",
       "<table border=\"1\" class=\"dataframe\">\n",
       "  <thead>\n",
       "    <tr style=\"text-align: right;\">\n",
       "      <th></th>\n",
       "      <th>Product_ID</th>\n",
       "      <th>Source</th>\n",
       "      <th>Sales_Agent</th>\n",
       "      <th>Location</th>\n",
       "      <th>Delivery_Mode</th>\n",
       "      <th>Status</th>\n",
       "      <th>Weekday</th>\n",
       "      <th>Month</th>\n",
       "      <th>Day</th>\n",
       "      <th>Hour</th>\n",
       "    </tr>\n",
       "  </thead>\n",
       "  <tbody>\n",
       "    <tr>\n",
       "      <th>0</th>\n",
       "      <td>NaN</td>\n",
       "      <td>Website</td>\n",
       "      <td>Sales-Agent-11</td>\n",
       "      <td>NaN</td>\n",
       "      <td>Mode-5</td>\n",
       "      <td>High Potential</td>\n",
       "      <td>2</td>\n",
       "      <td>11</td>\n",
       "      <td>14</td>\n",
       "      <td>10</td>\n",
       "    </tr>\n",
       "    <tr>\n",
       "      <th>1</th>\n",
       "      <td>NaN</td>\n",
       "      <td>Website</td>\n",
       "      <td>Sales-Agent-10</td>\n",
       "      <td>NaN</td>\n",
       "      <td>Mode-5</td>\n",
       "      <td>High Potential</td>\n",
       "      <td>2</td>\n",
       "      <td>11</td>\n",
       "      <td>14</td>\n",
       "      <td>9</td>\n",
       "    </tr>\n",
       "    <tr>\n",
       "      <th>2</th>\n",
       "      <td>NaN</td>\n",
       "      <td>Website</td>\n",
       "      <td>Sales-Agent-10</td>\n",
       "      <td>NaN</td>\n",
       "      <td>Mode-5</td>\n",
       "      <td>High Potential</td>\n",
       "      <td>2</td>\n",
       "      <td>11</td>\n",
       "      <td>14</td>\n",
       "      <td>9</td>\n",
       "    </tr>\n",
       "    <tr>\n",
       "      <th>3</th>\n",
       "      <td>NaN</td>\n",
       "      <td>Website</td>\n",
       "      <td>Sales-Agent-10</td>\n",
       "      <td>NaN</td>\n",
       "      <td>Mode-5</td>\n",
       "      <td>High Potential</td>\n",
       "      <td>2</td>\n",
       "      <td>11</td>\n",
       "      <td>14</td>\n",
       "      <td>8</td>\n",
       "    </tr>\n",
       "    <tr>\n",
       "      <th>4</th>\n",
       "      <td>NaN</td>\n",
       "      <td>Website</td>\n",
       "      <td>Sales-Agent-10</td>\n",
       "      <td>NaN</td>\n",
       "      <td>Mode-5</td>\n",
       "      <td>High Potential</td>\n",
       "      <td>2</td>\n",
       "      <td>11</td>\n",
       "      <td>14</td>\n",
       "      <td>7</td>\n",
       "    </tr>\n",
       "  </tbody>\n",
       "</table>\n",
       "</div>"
      ],
      "text/plain": [
       "   Product_ID   Source     Sales_Agent Location Delivery_Mode          Status  \\\n",
       "0         NaN  Website  Sales-Agent-11      NaN        Mode-5  High Potential   \n",
       "1         NaN  Website  Sales-Agent-10      NaN        Mode-5  High Potential   \n",
       "2         NaN  Website  Sales-Agent-10      NaN        Mode-5  High Potential   \n",
       "3         NaN  Website  Sales-Agent-10      NaN        Mode-5  High Potential   \n",
       "4         NaN  Website  Sales-Agent-10      NaN        Mode-5  High Potential   \n",
       "\n",
       "   Weekday  Month  Day  Hour  \n",
       "0        2     11   14    10  \n",
       "1        2     11   14     9  \n",
       "2        2     11   14     9  \n",
       "3        2     11   14     8  \n",
       "4        2     11   14     7  "
      ]
     },
     "execution_count": 64,
     "metadata": {},
     "output_type": "execute_result"
    }
   ],
   "source": [
    "data.Status= data.Status.map({'converted':'High Potential',\n",
    "                            'in progress positive':'High Potential',\n",
    "                            'potential':'High Potential',\n",
    "                            'open':'High Potential',\n",
    "                            'just enquiry':'High Potential',\n",
    "                            'long term':'Low Potential',\n",
    "                            'not responding':'Low Potential',\n",
    "                            'in progress negative':'Low Potential',\n",
    "                            'junk lead':'Low Potential', \n",
    "                            'lost':'Low Potential'})\n",
    "data.head()"
   ]
  },
  {
   "cell_type": "markdown",
   "id": "5afb3307",
   "metadata": {},
   "source": [
    "# EDA"
   ]
  },
  {
   "cell_type": "markdown",
   "id": "af6cae8b",
   "metadata": {},
   "source": [
    "After data preparation and cleaning we have 10 features that are all categorical in nature. "
   ]
  },
  {
   "cell_type": "markdown",
   "id": "96b644d4",
   "metadata": {},
   "source": [
    "## Univariate Analysis"
   ]
  },
  {
   "cell_type": "code",
   "execution_count": null,
   "id": "bb07b916",
   "metadata": {},
   "outputs": [],
   "source": [
    "import sweetviz as sv\n",
    "report = sv.analyze(data)\n",
    "report.show_html()"
   ]
  },
  {
   "cell_type": "markdown",
   "id": "72a950f9",
   "metadata": {},
   "source": [
    "### Product_ID"
   ]
  },
  {
   "cell_type": "code",
   "execution_count": 19,
   "id": "7af3c36a",
   "metadata": {},
   "outputs": [
    {
     "data": {
      "text/plain": [
       "<AxesSubplot:xlabel='Product_ID', ylabel='count'>"
      ]
     },
     "execution_count": 19,
     "metadata": {},
     "output_type": "execute_result"
    },
    {
     "data": {
      "image/png": "[encoded data removed]",
      "text/plain": [
       "<Figure size 1080x576 with 1 Axes>"
      ]
     },
     "metadata": {
      "needs_background": "light"
     },
     "output_type": "display_data"
    }
   ],
   "source": [
    "plt.figure(figsize=(15,8))\n",
    "sns.countplot(data= data, x=\"Product_ID\")"
   ]
  },
  {
   "cell_type": "markdown",
   "id": "bfee9299",
   "metadata": {},
   "source": [
    "- Product ID is a categorical variable in a numeric form. The magnitude of the product id values have no impact on the target variable and hence need to be categorically encoded. \n",
    "- The most frequently ordered products are as follows in descending order- \n",
    "     - 18 (23.2%)\n",
    "     - 15 (20.6%)\n",
    "     - 19 (16.1%)\n",
    "     - 9  (13.5%)\n",
    "     - 27 (10.0%)\n",
    "     - 5  (6.6%)\n",
    "     - 10 (2.3%)\n",
    "- These 7 products make up 92% of the total products ordered while the remaining 22 products make up only 8%. \n",
    "- Product ID 18 is the most frequently ordered product while product IDs 4 & 7 are the least ordered products. "
   ]
  },
  {
   "cell_type": "markdown",
   "id": "e4850d52",
   "metadata": {},
   "source": [
    "### Source"
   ]
  },
  {
   "cell_type": "code",
   "execution_count": 20,
   "id": "3a13235a",
   "metadata": {},
   "outputs": [
    {
     "data": {
      "text/plain": [
       "<AxesSubplot:xlabel='count', ylabel='Source'>"
      ]
     },
     "execution_count": 20,
     "metadata": {},
     "output_type": "execute_result"
    },
    {
     "data": {
      "image/png": "[encoded data removed]",
      "text/plain": [
       "<Figure size 576x648 with 1 Axes>"
      ]
     },
     "metadata": {
      "needs_background": "light"
     },
     "output_type": "display_data"
    }
   ],
   "source": [
    "plt.figure(figsize=(8,9))\n",
    "sns.countplot(data= data, y=\"Source\")"
   ]
  },
  {
   "cell_type": "markdown",
   "id": "3bac4c2b",
   "metadata": {},
   "source": [
    "- There are 25 different sources from which the orders were recieved. \n",
    "- Calls is the most frequently used source with 34% observations followed by Live Chat-Direct with 25% and Website 22% of observations. \n",
    "- The reamining sources together make up less than 20 % of observations. \n",
    "- E-Mail Message and Live Chat-Justdial are the sources from where the least orders were recieved.\n",
    "- Overall, most of the sources were from online platforms like websites and live-chats with comaparitively fewer direct voice calls. This shows that customers tend to prefer using such online platforms as compared to making calls. Improving the quality of these online platforms could lead to higher customer churn and order conversion rates. "
   ]
  },
  {
   "cell_type": "markdown",
   "id": "e7406b7e",
   "metadata": {},
   "source": [
    "### Sales_Agent"
   ]
  },
  {
   "cell_type": "code",
   "execution_count": 21,
   "id": "4a7adee6",
   "metadata": {},
   "outputs": [
    {
     "data": {
      "text/plain": [
       "<AxesSubplot:xlabel='count', ylabel='Sales_Agent'>"
      ]
     },
     "execution_count": 21,
     "metadata": {},
     "output_type": "execute_result"
    },
    {
     "data": {
      "image/png": "[encoded data removed]",
      "text/plain": [
       "<Figure size 576x360 with 1 Axes>"
      ]
     },
     "metadata": {
      "needs_background": "light"
     },
     "output_type": "display_data"
    }
   ],
   "source": [
    "plt.figure(figsize=(8,5))\n",
    "sns.countplot(data= data, y=\"Sales_Agent\")"
   ]
  },
  {
   "cell_type": "markdown",
   "id": "9aa94fd1",
   "metadata": {},
   "source": [
    "- The sales agents responsible for a particular order could be one of the key indicators of lead quality as well as a mark of their work performance. This seems to be an important feature for our model.\n",
    "- There are 12 different sales agents\n",
    "- The top 6 sales agents with the most orders are as follows in descending order\n",
    "    - Sales-Agent-4:  20%\n",
    "    - Sales-Agent-11: 19%\n",
    "    - Sales-Agent-5:  16%\n",
    "    - Sales-Agent-9:  12%\n",
    "    - Sales-Agent-3:  11%\n",
    "    - Sales-Agent-7:  10%\n",
    "- The reamaining make up less than 12 % of the observations\n",
    "- Sales-Agent-1 has the least number of observations\n"
   ]
  },
  {
   "cell_type": "markdown",
   "id": "93e6e489",
   "metadata": {},
   "source": [
    "### Location"
   ]
  },
  {
   "cell_type": "code",
   "execution_count": 22,
   "id": "c84b72ce",
   "metadata": {},
   "outputs": [
    {
     "data": {
      "text/plain": [
       "<AxesSubplot:xlabel='count', ylabel='Location'>"
      ]
     },
     "execution_count": 22,
     "metadata": {},
     "output_type": "execute_result"
    },
    {
     "data": {
      "image/png": "[encoded data removed]",
      "text/plain": [
       "<Figure size 504x432 with 1 Axes>"
      ]
     },
     "metadata": {
      "needs_background": "light"
     },
     "output_type": "display_data"
    }
   ],
   "source": [
    "plt.figure(figsize=(7,6))\n",
    "sns.countplot(data= data, y=\"Location\")"
   ]
  },
  {
   "cell_type": "markdown",
   "id": "5e4c5c4f",
   "metadata": {},
   "source": [
    "- There are 17 different customer locations - 7 international, 9 domestic and one 'other' category that clubs all the remainng locations. \n",
    "- The top 6 most frequently occuring locations in descending order are as follows-\n",
    "  - Other Locations (34%)\n",
    "  - Bangalore (28%)\n",
    "  - Chennai (12%)\n",
    "  - Hyderabad (7%)\n",
    "  - Delhi (6%)\n",
    "  - Mumbai (5%)\n",
    "- Howrah is the location with the least number of sales leads of the product. \n",
    "- The sales in the domestic market is greater with almost 60% of the total as comapred to sales in the international markets with less than 6% of the total.\n",
    "- Bangalore is the domestic location with most sales while UAE is the international location with the most orders. "
   ]
  },
  {
   "cell_type": "markdown",
   "id": "d7265941",
   "metadata": {},
   "source": [
    "### Delivery Mode"
   ]
  },
  {
   "cell_type": "code",
   "execution_count": 23,
   "id": "e56b896c",
   "metadata": {},
   "outputs": [
    {
     "data": {
      "text/plain": [
       "<AxesSubplot:title={'center':'Delivery_Mode'}>"
      ]
     },
     "execution_count": 23,
     "metadata": {},
     "output_type": "execute_result"
    },
    {
     "data": {
      "image/png": "[encoded data removed]",
      "text/plain": [
       "<Figure size 792x360 with 2 Axes>"
      ]
     },
     "metadata": {
      "needs_background": "light"
     },
     "output_type": "display_data"
    }
   ],
   "source": [
    "plt.figure(figsize=(11,5))\n",
    "ax= plt.subplot(1,2,1)\n",
    "sns.countplot(data= data, x=\"Delivery_Mode\")\n",
    "ax= plt.subplot(1,2,2)\n",
    "data.groupby(\"Delivery_Mode\").size().plot(kind=\"pie\", title=\"Delivery_Mode\", ylabel=\"\", autopct='%1.1f%%', colormap=\"tab10\")"
   ]
  },
  {
   "cell_type": "markdown",
   "id": "42061cb3",
   "metadata": {},
   "source": [
    "- There are 5 types of delivery modes\n",
    "- Delivery mode-5 is the most frequently occuring type with 40% observations while delivery mode-2 is the least with 0.1% observations.\n"
   ]
  },
  {
   "cell_type": "markdown",
   "id": "9469b1a9",
   "metadata": {},
   "source": [
    "### Weekday"
   ]
  },
  {
   "cell_type": "code",
   "execution_count": 24,
   "id": "148d11d6",
   "metadata": {},
   "outputs": [
    {
     "data": {
      "text/plain": [
       "<AxesSubplot:xlabel='Weekday', ylabel='count'>"
      ]
     },
     "execution_count": 24,
     "metadata": {},
     "output_type": "execute_result"
    },
    {
     "data": {
      "image/png": "[encoded data removed]",
      "text/plain": [
       "<Figure size 432x288 with 1 Axes>"
      ]
     },
     "metadata": {
      "needs_background": "light"
     },
     "output_type": "display_data"
    }
   ],
   "source": [
    "plt.figure(figsize=(6,4))\n",
    "sns.countplot(data= data, x=\"Weekday\")"
   ]
  },
  {
   "cell_type": "markdown",
   "id": "6967dfd3",
   "metadata": {},
   "source": [
    "- The percentage orders recieved on the weekdays are as follows- \n",
    "  - 0-Monday: 20%\n",
    "  - 1-Tuesday: 16%\n",
    "  - 2-Wednesday: 16%\n",
    "  - 3-Thursday: 15%\n",
    "  - 4-Friday: 14%\n",
    "  - 5-Saturday: 11%\n",
    "  - 6-Sunday: 8%\n",
    "- Most orders are recieved on Monday while least on Sunday.\n",
    "- Percentage of orders placed decreases as the week progresses. \n"
   ]
  },
  {
   "cell_type": "markdown",
   "id": "86d2d0b8",
   "metadata": {},
   "source": [
    "### Month"
   ]
  },
  {
   "cell_type": "code",
   "execution_count": 25,
   "id": "248bb341",
   "metadata": {},
   "outputs": [
    {
     "data": {
      "text/plain": [
       "<AxesSubplot:xlabel='Month', ylabel='count'>"
      ]
     },
     "execution_count": 25,
     "metadata": {},
     "output_type": "execute_result"
    },
    {
     "data": {
      "image/png": "[encoded data removed]",
      "text/plain": [
       "<Figure size 576x360 with 1 Axes>"
      ]
     },
     "metadata": {
      "needs_background": "light"
     },
     "output_type": "display_data"
    }
   ],
   "source": [
    "plt.figure(figsize=(8,5))\n",
    "sns.countplot(data= data, x=\"Month\")"
   ]
  },
  {
   "cell_type": "markdown",
   "id": "decc549b",
   "metadata": {},
   "source": [
    "- The percentage orders recieved on a monthly basis arranged in descending order are as follows- \n",
    "   - 6-June: 14.1%\n",
    "   - 5-May: 14.0%\n",
    "   - 7-July: 12.9%\n",
    "   - 9-September: 12.4%\n",
    "   - 8-August: 12.3%\n",
    "   - 10-October: 11.2%\n",
    "   - 4-April: 5.0%\n",
    "   - 11-November: 4.7%\n",
    "   - 2-February: 4.0%\n",
    "   - 3-March: 3.4%\n",
    "   - 1-January: 3.0%\n",
    "   - 12-December: 2.9%\n",
    "- The maximum orders are in the month of June while the least is in the month of December. \n",
    "- Most sales happen mid year with the second and third quarter of the year making the maximum sales. The companies sales dip towards  the end and the beignning of the year i.e., the months of December and January. \n",
    "- The companies sales are best between May-September and peak during the months of May and June. "
   ]
  },
  {
   "cell_type": "markdown",
   "id": "3328d6c0",
   "metadata": {},
   "source": [
    "### Day"
   ]
  },
  {
   "cell_type": "code",
   "execution_count": 26,
   "id": "777707f8",
   "metadata": {},
   "outputs": [
    {
     "data": {
      "text/plain": [
       "<AxesSubplot:xlabel='Day', ylabel='count'>"
      ]
     },
     "execution_count": 26,
     "metadata": {},
     "output_type": "execute_result"
    },
    {
     "data": {
      "image/png": "[encoded data removed]",
      "text/plain": [
       "<Figure size 1080x576 with 1 Axes>"
      ]
     },
     "metadata": {
      "needs_background": "light"
     },
     "output_type": "display_data"
    }
   ],
   "source": [
    "plt.figure(figsize=(15,8))\n",
    "sns.countplot(data= data, x=\"Day\")"
   ]
  },
  {
   "cell_type": "markdown",
   "id": "a97f5265",
   "metadata": {},
   "source": [
    "- Most orders are recieved on the 6th day of the month while the least on the 31st.\n",
    "- In general, the number of orders recived are high in the beginning of the month from the 5h to 10th and gradually decline as the month progresses achieving somewhat of a constant graph with few small peaks. \n",
    "- In conclusion, more orders are placed during the beginning of the month as compared to the end or middle. "
   ]
  },
  {
   "cell_type": "markdown",
   "id": "860960c7",
   "metadata": {},
   "source": [
    "### Hour"
   ]
  },
  {
   "cell_type": "code",
   "execution_count": 27,
   "id": "6fd6da8c",
   "metadata": {},
   "outputs": [
    {
     "data": {
      "text/plain": [
       "<AxesSubplot:xlabel='Hour', ylabel='count'>"
      ]
     },
     "execution_count": 27,
     "metadata": {},
     "output_type": "execute_result"
    },
    {
     "data": {
      "image/png": "[encoded data removed]",
      "text/plain": [
       "<Figure size 1080x504 with 1 Axes>"
      ]
     },
     "metadata": {
      "needs_background": "light"
     },
     "output_type": "display_data"
    }
   ],
   "source": [
    "plt.figure(figsize=(15,7))\n",
    "sns.countplot(data= data, x=\"Hour\")"
   ]
  },
  {
   "cell_type": "markdown",
   "id": "6cb40268",
   "metadata": {},
   "source": [
    "- Late morning i.e. from 10:00a.m -12:00p.m seems to be the most popular time of the day to place orders while the early morning hours i.e, from 1:00a.m -6:00a.m is the least popular time. The evening and afternoon hours recieve lesser orders as compared to late mornings. This pattern seems to be in accordance with the genearl working hours of a company. \n",
    "- Most orders are placed at 11:00 a.m while the least at 2:00 a.m.\n",
    "- In conclusion, the orders placed are less till 8:00 am, then gradually increase and peak at 11:00 am and finally decrease as the hours progress. "
   ]
  },
  {
   "cell_type": "markdown",
   "id": "cc48d10f",
   "metadata": {},
   "source": [
    "### Status"
   ]
  },
  {
   "cell_type": "code",
   "execution_count": 28,
   "id": "c362b3ee",
   "metadata": {},
   "outputs": [
    {
     "data": {
      "text/plain": [
       "<AxesSubplot:xlabel='count', ylabel='Status'>"
      ]
     },
     "execution_count": 28,
     "metadata": {},
     "output_type": "execute_result"
    },
    {
     "data": {
      "image/png": "[encoded data removed]",
      "text/plain": [
       "<Figure size 432x216 with 1 Axes>"
      ]
     },
     "metadata": {
      "needs_background": "light"
     },
     "output_type": "display_data"
    }
   ],
   "source": [
    "plt.figure(figsize=(6,3))\n",
    "sns.countplot(data= data, y=\"Status\")"
   ]
  },
  {
   "cell_type": "markdown",
   "id": "6798090e",
   "metadata": {},
   "source": [
    "After categorizing the 12 different labels of the status column into high or low potential, we can see that more orders are low potential (60%) as comapred to high potential (40%). This is our target variable. "
   ]
  },
  {
   "cell_type": "markdown",
   "id": "16902d33",
   "metadata": {},
   "source": [
    "## Bivariate Analysis"
   ]
  },
  {
   "cell_type": "markdown",
   "id": "eb894f44",
   "metadata": {},
   "source": [
    "### Product_ID vs Status"
   ]
  },
  {
   "cell_type": "code",
   "execution_count": 29,
   "id": "566fbcef",
   "metadata": {},
   "outputs": [
    {
     "data": {
      "text/plain": [
       "<AxesSubplot:xlabel='count', ylabel='Product_ID'>"
      ]
     },
     "execution_count": 29,
     "metadata": {},
     "output_type": "execute_result"
    },
    {
     "data": {
      "image/png": "[encoded data removed]",
      "text/plain": [
       "<Figure size 720x504 with 1 Axes>"
      ]
     },
     "metadata": {
      "needs_background": "light"
     },
     "output_type": "display_data"
    }
   ],
   "source": [
    "plt.figure(figsize=(10,7))\n",
    "sns.countplot(data=data, y=\"Product_ID\", hue=\"Status\", palette=\"cool\")"
   ]
  },
  {
   "cell_type": "markdown",
   "id": "a13f194f",
   "metadata": {},
   "source": [
    "- In general, most products have low lead potential.\n",
    "- Product id 15 has almost 5 times more observations that are low lead potential as compared to high potential.\n",
    "- Product id 19 and 20 have more entries with higher lead potential i.e, customers seem to purchase these products more. "
   ]
  },
  {
   "cell_type": "markdown",
   "id": "8c206722",
   "metadata": {},
   "source": [
    "### Sales_Agent vs Status"
   ]
  },
  {
   "cell_type": "code",
   "execution_count": 30,
   "id": "e44bdd30",
   "metadata": {},
   "outputs": [
    {
     "data": {
      "text/plain": [
       "<AxesSubplot:xlabel='count', ylabel='Sales_Agent'>"
      ]
     },
     "execution_count": 30,
     "metadata": {},
     "output_type": "execute_result"
    },
    {
     "data": {
      "image/png": "[encoded data removed]",
      "text/plain": [
       "<Figure size 720x432 with 1 Axes>"
      ]
     },
     "metadata": {
      "needs_background": "light"
     },
     "output_type": "display_data"
    }
   ],
   "source": [
    "plt.figure(figsize=(10,6))\n",
    "sns.countplot(data=data, y=\"Sales_Agent\", hue=\"Status\")"
   ]
  },
  {
   "cell_type": "markdown",
   "id": "7be93345",
   "metadata": {},
   "source": [
    "- In general most sales agents have customers with low lead potential.\n",
    "- Customers with sales-agent-4 have the most observations with low lead potential while sales-agent-2 has proprtionally the most customers with low lead potential. This could be indicative of poor work performance of these sales agents.\n",
    "- Sales-agent-9 and 8 has more customers with high lead potential.  \n",
    "- Sales-agent 10 has proportionally the most customers with high lead potential. This could be indicative of excellent work performance. "
   ]
  },
  {
   "cell_type": "markdown",
   "id": "d081001f",
   "metadata": {},
   "source": [
    "### Source vs Status"
   ]
  },
  {
   "cell_type": "code",
   "execution_count": 31,
   "id": "e3611572",
   "metadata": {},
   "outputs": [
    {
     "data": {
      "text/plain": [
       "<AxesSubplot:xlabel='count', ylabel='Source'>"
      ]
     },
     "execution_count": 31,
     "metadata": {},
     "output_type": "execute_result"
    },
    {
     "data": {
      "image/png": "[encoded data removed]",
      "text/plain": [
       "<Figure size 720x504 with 1 Axes>"
      ]
     },
     "metadata": {
      "needs_background": "light"
     },
     "output_type": "display_data"
    }
   ],
   "source": [
    "plt.figure(figsize=(10,7))\n",
    "sns.countplot(data=data, y=\"Source\", hue=\"Status\", palette=\"gist_rainbow\")"
   ]
  },
  {
   "cell_type": "markdown",
   "id": "bfd94334",
   "metadata": {},
   "source": [
    "- Clients recieved through Customer referrals and recommendations generates the most high lead potential. Existing clents/customers and personal contacts are sources that generate more high lead qualities as well. \n",
    "- Customers from US Website source have the most low potential leads.\n",
    "- Sources from live chats and direct calls have more cutomers with low lead potential as compared to high. "
   ]
  },
  {
   "cell_type": "markdown",
   "id": "ee3850a4",
   "metadata": {},
   "source": [
    "### Delivery_Mode vs Status"
   ]
  },
  {
   "cell_type": "code",
   "execution_count": 32,
   "id": "e389bb73",
   "metadata": {},
   "outputs": [
    {
     "data": {
      "text/plain": [
       "<AxesSubplot:xlabel='Delivery_Mode', ylabel='count'>"
      ]
     },
     "execution_count": 32,
     "metadata": {},
     "output_type": "execute_result"
    },
    {
     "data": {
      "image/png": "[encoded data removed]",
      "text/plain": [
       "<Figure size 576x360 with 1 Axes>"
      ]
     },
     "metadata": {
      "needs_background": "light"
     },
     "output_type": "display_data"
    }
   ],
   "source": [
    "plt.figure(figsize=(8,5))\n",
    "sns.countplot(data=data, x=\"Delivery_Mode\", hue=\"Status\" ,palette=\"turbo\")"
   ]
  },
  {
   "cell_type": "markdown",
   "id": "27525655",
   "metadata": {},
   "source": [
    "- Delivery mode-2 and 4 have twice as more high potential clients as comapred to low.\n",
    "- Delivery mode-3 and 1 have almost the same number of high and low potential clients.\n",
    "- Delivery mode-5 has twice as many low potential customers as compared to high potential. "
   ]
  },
  {
   "cell_type": "markdown",
   "id": "f7d48692",
   "metadata": {},
   "source": [
    "### Location vs Status"
   ]
  },
  {
   "cell_type": "code",
   "execution_count": 33,
   "id": "ac3180e1",
   "metadata": {},
   "outputs": [
    {
     "data": {
      "text/plain": [
       "<AxesSubplot:xlabel='count', ylabel='Location'>"
      ]
     },
     "execution_count": 33,
     "metadata": {},
     "output_type": "execute_result"
    },
    {
     "data": {
      "image/png": "[encoded data removed]",
      "text/plain": [
       "<Figure size 720x432 with 1 Axes>"
      ]
     },
     "metadata": {
      "needs_background": "light"
     },
     "output_type": "display_data"
    }
   ],
   "source": [
    "plt.figure(figsize=(10,6))\n",
    "sns.countplot(data=data, y=\"Location\", hue=\"Status\", palette=\"Set1\")"
   ]
  },
  {
   "cell_type": "markdown",
   "id": "94abd0c7",
   "metadata": {},
   "source": [
    "- Chennai, Trivandrim, Bangalore and  have almost the same number of high and low potential customers.\n",
    "- Major Indian cities like Delhi, Mumbai, Kolkata and Pune have more low potential customers than high. \n",
    "- Other locations has the most low potential customers. \n",
    "- UK, Australia and UAE have almost half as more high potential customers as compared to low. \n",
    "- International locations seem to have more high potential customers as comapred to domestic locations although more number of orders come from the domestic market."
   ]
  },
  {
   "cell_type": "markdown",
   "id": "32e1a4af",
   "metadata": {},
   "source": [
    "### Weekday vs Status"
   ]
  },
  {
   "cell_type": "code",
   "execution_count": 34,
   "id": "83705316",
   "metadata": {},
   "outputs": [
    {
     "data": {
      "text/plain": [
       "<AxesSubplot:xlabel='Weekday', ylabel='count'>"
      ]
     },
     "execution_count": 34,
     "metadata": {},
     "output_type": "execute_result"
    },
    {
     "data": {
      "image/png": "[encoded data removed]",
      "text/plain": [
       "<Figure size 432x288 with 1 Axes>"
      ]
     },
     "metadata": {
      "needs_background": "light"
     },
     "output_type": "display_data"
    }
   ],
   "source": [
    "plt.figure(figsize=(6,4))\n",
    "sns.countplot(data=data, x=\"Weekday\", hue=\"Status\", palette=\"Paired\", )"
   ]
  },
  {
   "cell_type": "markdown",
   "id": "150946fe",
   "metadata": {},
   "source": [
    "- The lead quality i.e, high or low potential customers doesn't seem to be dependent on the weekday since all days have more low than high potential customers. This is in accordance to the fact that in general, the comapny recieves more low potential customers (60%) as seen in the univariate analysis."
   ]
  },
  {
   "cell_type": "markdown",
   "id": "e2046661",
   "metadata": {},
   "source": [
    "### Month vs Status"
   ]
  },
  {
   "cell_type": "code",
   "execution_count": 35,
   "id": "48fbdb2f",
   "metadata": {},
   "outputs": [
    {
     "data": {
      "text/plain": [
       "<AxesSubplot:xlabel='Month', ylabel='count'>"
      ]
     },
     "execution_count": 35,
     "metadata": {},
     "output_type": "execute_result"
    },
    {
     "data": {
      "image/png": "[encoded data removed]",
      "text/plain": [
       "<Figure size 864x432 with 1 Axes>"
      ]
     },
     "metadata": {
      "needs_background": "light"
     },
     "output_type": "display_data"
    }
   ],
   "source": [
    "plt.figure(figsize=(12,6))\n",
    "sns.countplot(data=data, x=\"Month\", hue=\"Status\", palette=\"viridis\")"
   ]
  },
  {
   "cell_type": "markdown",
   "id": "29b14df8",
   "metadata": {},
   "source": [
    "- The month of October has the most high potential customers.\n",
    "- The month of May has the most low potential customers.\n",
    "- The months of September, November and December have almost the same number of high and low potential customers.\n",
    "- In general, the number of low potential leads are higher for most months. "
   ]
  },
  {
   "cell_type": "markdown",
   "id": "fce52bf5",
   "metadata": {},
   "source": [
    "### Day vs Status"
   ]
  },
  {
   "cell_type": "code",
   "execution_count": 36,
   "id": "3ce657a3",
   "metadata": {},
   "outputs": [
    {
     "data": {
      "text/plain": [
       "<AxesSubplot:xlabel='Day', ylabel='count'>"
      ]
     },
     "execution_count": 36,
     "metadata": {},
     "output_type": "execute_result"
    },
    {
     "data": {
      "image/png": "[encoded data removed]",
      "text/plain": [
       "<Figure size 864x432 with 1 Axes>"
      ]
     },
     "metadata": {
      "needs_background": "light"
     },
     "output_type": "display_data"
    }
   ],
   "source": [
    "plt.figure(figsize=(12,6))\n",
    "sns.countplot(data=data, x=\"Day\", hue=\"Status\", palette=\"autumn\")"
   ]
  },
  {
   "cell_type": "markdown",
   "id": "4a5755c0",
   "metadata": {},
   "source": [
    "- The 10th and 11th days of the month have the most high potential clients.\n",
    "- The first week i.e 5th-8th days of the month have the most low potential customers. Despite there being more orders placed during this time, most of them are low potential. \n",
    "- Mid month days (15th-22nd) and the 31st i.e last days of the month have almost the same number of high and low potential clients.\n",
    "\n"
   ]
  },
  {
   "cell_type": "markdown",
   "id": "78d4be15",
   "metadata": {},
   "source": [
    "### Hour vs Status"
   ]
  },
  {
   "cell_type": "code",
   "execution_count": 37,
   "id": "d7b0d95a",
   "metadata": {},
   "outputs": [
    {
     "data": {
      "text/plain": [
       "<AxesSubplot:xlabel='Hour', ylabel='count'>"
      ]
     },
     "execution_count": 37,
     "metadata": {},
     "output_type": "execute_result"
    },
    {
     "data": {
      "image/png": "[encoded data removed]",
      "text/plain": [
       "<Figure size 864x432 with 1 Axes>"
      ]
     },
     "metadata": {
      "needs_background": "light"
     },
     "output_type": "display_data"
    }
   ],
   "source": [
    "plt.figure(figsize=(12,6))\n",
    "sns.countplot(data=data, x=\"Hour\", hue=\"Status\", palette=\"magma\")"
   ]
  },
  {
   "cell_type": "markdown",
   "id": "2303f086",
   "metadata": {},
   "source": [
    "- The hour doesn't seem to be a storng indicator of lead quality since on all hours low potential clients are higher.\n",
    "- In general orders placed during the evening/night (3:00p.m-12:00a.m) and early morning (7:00- 8:00a.m) hours have proportionally more number of customers with high lead quality. "
   ]
  },
  {
   "cell_type": "markdown",
   "id": "f4b90122",
   "metadata": {},
   "source": [
    "# Data Preprocessing"
   ]
  },
  {
   "cell_type": "markdown",
   "id": "e2c124ed",
   "metadata": {},
   "source": [
    "## Missing Values"
   ]
  },
  {
   "cell_type": "code",
   "execution_count": 38,
   "id": "4f761fd3",
   "metadata": {},
   "outputs": [
    {
     "data": {
      "text/plain": [
       "Product_ID       58\n",
       "Source           17\n",
       "Sales_Agent      23\n",
       "Location         58\n",
       "Delivery_Mode     0\n",
       "Status            0\n",
       "Weekday           0\n",
       "Month             0\n",
       "Day               0\n",
       "Hour              0\n",
       "dtype: int64"
      ]
     },
     "execution_count": 38,
     "metadata": {},
     "output_type": "execute_result"
    }
   ],
   "source": [
    "data.isnull().sum()"
   ]
  },
  {
   "cell_type": "markdown",
   "id": "0a18ae40",
   "metadata": {},
   "source": [
    "There are 4 features with missing values."
   ]
  },
  {
   "cell_type": "code",
   "execution_count": 39,
   "id": "b1b14bf7",
   "metadata": {},
   "outputs": [
    {
     "data": {
      "text/html": [
       "<div>\n",
       "<style scoped>\n",
       "    .dataframe tbody tr th:only-of-type {\n",
       "        vertical-align: middle;\n",
       "    }\n",
       "\n",
       "    .dataframe tbody tr th {\n",
       "        vertical-align: top;\n",
       "    }\n",
       "\n",
       "    .dataframe thead th {\n",
       "        text-align: right;\n",
       "    }\n",
       "</style>\n",
       "<table border=\"1\" class=\"dataframe\">\n",
       "  <thead>\n",
       "    <tr style=\"text-align: right;\">\n",
       "      <th></th>\n",
       "      <th>Product_ID</th>\n",
       "      <th>Source</th>\n",
       "      <th>Sales_Agent</th>\n",
       "      <th>Location</th>\n",
       "      <th>Delivery_Mode</th>\n",
       "      <th>Status</th>\n",
       "      <th>Weekday</th>\n",
       "      <th>Month</th>\n",
       "      <th>Day</th>\n",
       "      <th>Hour</th>\n",
       "    </tr>\n",
       "  </thead>\n",
       "  <tbody>\n",
       "    <tr>\n",
       "      <th>0</th>\n",
       "      <td>NaN</td>\n",
       "      <td>Website</td>\n",
       "      <td>Sales-Agent-11</td>\n",
       "      <td>NaN</td>\n",
       "      <td>Mode-5</td>\n",
       "      <td>High Potential</td>\n",
       "      <td>2</td>\n",
       "      <td>11</td>\n",
       "      <td>14</td>\n",
       "      <td>10</td>\n",
       "    </tr>\n",
       "    <tr>\n",
       "      <th>1</th>\n",
       "      <td>NaN</td>\n",
       "      <td>Website</td>\n",
       "      <td>Sales-Agent-10</td>\n",
       "      <td>NaN</td>\n",
       "      <td>Mode-5</td>\n",
       "      <td>High Potential</td>\n",
       "      <td>2</td>\n",
       "      <td>11</td>\n",
       "      <td>14</td>\n",
       "      <td>9</td>\n",
       "    </tr>\n",
       "    <tr>\n",
       "      <th>2</th>\n",
       "      <td>NaN</td>\n",
       "      <td>Website</td>\n",
       "      <td>Sales-Agent-10</td>\n",
       "      <td>NaN</td>\n",
       "      <td>Mode-5</td>\n",
       "      <td>High Potential</td>\n",
       "      <td>2</td>\n",
       "      <td>11</td>\n",
       "      <td>14</td>\n",
       "      <td>9</td>\n",
       "    </tr>\n",
       "    <tr>\n",
       "      <th>3</th>\n",
       "      <td>NaN</td>\n",
       "      <td>Website</td>\n",
       "      <td>Sales-Agent-10</td>\n",
       "      <td>NaN</td>\n",
       "      <td>Mode-5</td>\n",
       "      <td>High Potential</td>\n",
       "      <td>2</td>\n",
       "      <td>11</td>\n",
       "      <td>14</td>\n",
       "      <td>8</td>\n",
       "    </tr>\n",
       "    <tr>\n",
       "      <th>4</th>\n",
       "      <td>NaN</td>\n",
       "      <td>Website</td>\n",
       "      <td>Sales-Agent-10</td>\n",
       "      <td>NaN</td>\n",
       "      <td>Mode-5</td>\n",
       "      <td>High Potential</td>\n",
       "      <td>2</td>\n",
       "      <td>11</td>\n",
       "      <td>14</td>\n",
       "      <td>7</td>\n",
       "    </tr>\n",
       "    <tr>\n",
       "      <th>5</th>\n",
       "      <td>NaN</td>\n",
       "      <td>Website</td>\n",
       "      <td>Sales-Agent-10</td>\n",
       "      <td>NaN</td>\n",
       "      <td>Mode-5</td>\n",
       "      <td>High Potential</td>\n",
       "      <td>2</td>\n",
       "      <td>11</td>\n",
       "      <td>14</td>\n",
       "      <td>7</td>\n",
       "    </tr>\n",
       "    <tr>\n",
       "      <th>6</th>\n",
       "      <td>NaN</td>\n",
       "      <td>Website</td>\n",
       "      <td>Sales-Agent-10</td>\n",
       "      <td>NaN</td>\n",
       "      <td>Mode-5</td>\n",
       "      <td>High Potential</td>\n",
       "      <td>2</td>\n",
       "      <td>11</td>\n",
       "      <td>14</td>\n",
       "      <td>5</td>\n",
       "    </tr>\n",
       "    <tr>\n",
       "      <th>7</th>\n",
       "      <td>NaN</td>\n",
       "      <td>Website</td>\n",
       "      <td>Sales-Agent-10</td>\n",
       "      <td>NaN</td>\n",
       "      <td>Mode-5</td>\n",
       "      <td>High Potential</td>\n",
       "      <td>2</td>\n",
       "      <td>11</td>\n",
       "      <td>14</td>\n",
       "      <td>5</td>\n",
       "    </tr>\n",
       "    <tr>\n",
       "      <th>8</th>\n",
       "      <td>NaN</td>\n",
       "      <td>Website</td>\n",
       "      <td>Sales-Agent-10</td>\n",
       "      <td>NaN</td>\n",
       "      <td>Mode-5</td>\n",
       "      <td>High Potential</td>\n",
       "      <td>2</td>\n",
       "      <td>11</td>\n",
       "      <td>14</td>\n",
       "      <td>5</td>\n",
       "    </tr>\n",
       "    <tr>\n",
       "      <th>9</th>\n",
       "      <td>NaN</td>\n",
       "      <td>Website</td>\n",
       "      <td>Sales-Agent-10</td>\n",
       "      <td>NaN</td>\n",
       "      <td>Mode-5</td>\n",
       "      <td>High Potential</td>\n",
       "      <td>2</td>\n",
       "      <td>11</td>\n",
       "      <td>14</td>\n",
       "      <td>5</td>\n",
       "    </tr>\n",
       "    <tr>\n",
       "      <th>10</th>\n",
       "      <td>NaN</td>\n",
       "      <td>Website</td>\n",
       "      <td>Sales-Agent-10</td>\n",
       "      <td>NaN</td>\n",
       "      <td>Mode-5</td>\n",
       "      <td>High Potential</td>\n",
       "      <td>2</td>\n",
       "      <td>11</td>\n",
       "      <td>14</td>\n",
       "      <td>5</td>\n",
       "    </tr>\n",
       "    <tr>\n",
       "      <th>11</th>\n",
       "      <td>NaN</td>\n",
       "      <td>Website</td>\n",
       "      <td>Sales-Agent-10</td>\n",
       "      <td>NaN</td>\n",
       "      <td>Mode-5</td>\n",
       "      <td>High Potential</td>\n",
       "      <td>2</td>\n",
       "      <td>11</td>\n",
       "      <td>14</td>\n",
       "      <td>4</td>\n",
       "    </tr>\n",
       "    <tr>\n",
       "      <th>12</th>\n",
       "      <td>NaN</td>\n",
       "      <td>Website</td>\n",
       "      <td>Sales-Agent-10</td>\n",
       "      <td>NaN</td>\n",
       "      <td>Mode-5</td>\n",
       "      <td>High Potential</td>\n",
       "      <td>2</td>\n",
       "      <td>11</td>\n",
       "      <td>14</td>\n",
       "      <td>2</td>\n",
       "    </tr>\n",
       "    <tr>\n",
       "      <th>13</th>\n",
       "      <td>NaN</td>\n",
       "      <td>NaN</td>\n",
       "      <td>Sales-Agent-10</td>\n",
       "      <td>NaN</td>\n",
       "      <td>Mode-5</td>\n",
       "      <td>High Potential</td>\n",
       "      <td>1</td>\n",
       "      <td>11</td>\n",
       "      <td>13</td>\n",
       "      <td>23</td>\n",
       "    </tr>\n",
       "    <tr>\n",
       "      <th>14</th>\n",
       "      <td>NaN</td>\n",
       "      <td>Website</td>\n",
       "      <td>Sales-Agent-10</td>\n",
       "      <td>NaN</td>\n",
       "      <td>Mode-5</td>\n",
       "      <td>High Potential</td>\n",
       "      <td>1</td>\n",
       "      <td>11</td>\n",
       "      <td>13</td>\n",
       "      <td>21</td>\n",
       "    </tr>\n",
       "    <tr>\n",
       "      <th>15</th>\n",
       "      <td>NaN</td>\n",
       "      <td>NaN</td>\n",
       "      <td>Sales-Agent-10</td>\n",
       "      <td>NaN</td>\n",
       "      <td>Mode-5</td>\n",
       "      <td>High Potential</td>\n",
       "      <td>1</td>\n",
       "      <td>11</td>\n",
       "      <td>13</td>\n",
       "      <td>20</td>\n",
       "    </tr>\n",
       "    <tr>\n",
       "      <th>16</th>\n",
       "      <td>NaN</td>\n",
       "      <td>Website</td>\n",
       "      <td>Sales-Agent-10</td>\n",
       "      <td>NaN</td>\n",
       "      <td>Mode-5</td>\n",
       "      <td>High Potential</td>\n",
       "      <td>1</td>\n",
       "      <td>11</td>\n",
       "      <td>13</td>\n",
       "      <td>20</td>\n",
       "    </tr>\n",
       "    <tr>\n",
       "      <th>17</th>\n",
       "      <td>NaN</td>\n",
       "      <td>Website</td>\n",
       "      <td>Sales-Agent-10</td>\n",
       "      <td>NaN</td>\n",
       "      <td>Mode-5</td>\n",
       "      <td>High Potential</td>\n",
       "      <td>1</td>\n",
       "      <td>11</td>\n",
       "      <td>13</td>\n",
       "      <td>20</td>\n",
       "    </tr>\n",
       "    <tr>\n",
       "      <th>20</th>\n",
       "      <td>NaN</td>\n",
       "      <td>Website</td>\n",
       "      <td>Sales-Agent-10</td>\n",
       "      <td>NaN</td>\n",
       "      <td>Mode-5</td>\n",
       "      <td>High Potential</td>\n",
       "      <td>1</td>\n",
       "      <td>11</td>\n",
       "      <td>13</td>\n",
       "      <td>18</td>\n",
       "    </tr>\n",
       "    <tr>\n",
       "      <th>21</th>\n",
       "      <td>NaN</td>\n",
       "      <td>NaN</td>\n",
       "      <td>Sales-Agent-10</td>\n",
       "      <td>NaN</td>\n",
       "      <td>Mode-5</td>\n",
       "      <td>High Potential</td>\n",
       "      <td>1</td>\n",
       "      <td>11</td>\n",
       "      <td>13</td>\n",
       "      <td>18</td>\n",
       "    </tr>\n",
       "    <tr>\n",
       "      <th>22</th>\n",
       "      <td>NaN</td>\n",
       "      <td>Website</td>\n",
       "      <td>Sales-Agent-10</td>\n",
       "      <td>NaN</td>\n",
       "      <td>Mode-5</td>\n",
       "      <td>High Potential</td>\n",
       "      <td>1</td>\n",
       "      <td>11</td>\n",
       "      <td>13</td>\n",
       "      <td>18</td>\n",
       "    </tr>\n",
       "    <tr>\n",
       "      <th>23</th>\n",
       "      <td>NaN</td>\n",
       "      <td>Call</td>\n",
       "      <td>Sales-Agent-9</td>\n",
       "      <td>UAE</td>\n",
       "      <td>Mode-3</td>\n",
       "      <td>High Potential</td>\n",
       "      <td>1</td>\n",
       "      <td>11</td>\n",
       "      <td>13</td>\n",
       "      <td>17</td>\n",
       "    </tr>\n",
       "    <tr>\n",
       "      <th>126</th>\n",
       "      <td>NaN</td>\n",
       "      <td>Website</td>\n",
       "      <td>Sales-Agent-10</td>\n",
       "      <td>NaN</td>\n",
       "      <td>Mode-5</td>\n",
       "      <td>High Potential</td>\n",
       "      <td>3</td>\n",
       "      <td>10</td>\n",
       "      <td>11</td>\n",
       "      <td>22</td>\n",
       "    </tr>\n",
       "    <tr>\n",
       "      <th>127</th>\n",
       "      <td>NaN</td>\n",
       "      <td>Website</td>\n",
       "      <td>Sales-Agent-10</td>\n",
       "      <td>NaN</td>\n",
       "      <td>Mode-5</td>\n",
       "      <td>High Potential</td>\n",
       "      <td>3</td>\n",
       "      <td>10</td>\n",
       "      <td>11</td>\n",
       "      <td>21</td>\n",
       "    </tr>\n",
       "    <tr>\n",
       "      <th>128</th>\n",
       "      <td>NaN</td>\n",
       "      <td>NaN</td>\n",
       "      <td>Sales-Agent-10</td>\n",
       "      <td>NaN</td>\n",
       "      <td>Mode-5</td>\n",
       "      <td>High Potential</td>\n",
       "      <td>3</td>\n",
       "      <td>10</td>\n",
       "      <td>11</td>\n",
       "      <td>20</td>\n",
       "    </tr>\n",
       "    <tr>\n",
       "      <th>129</th>\n",
       "      <td>NaN</td>\n",
       "      <td>Website</td>\n",
       "      <td>Sales-Agent-10</td>\n",
       "      <td>NaN</td>\n",
       "      <td>Mode-5</td>\n",
       "      <td>High Potential</td>\n",
       "      <td>3</td>\n",
       "      <td>10</td>\n",
       "      <td>11</td>\n",
       "      <td>20</td>\n",
       "    </tr>\n",
       "    <tr>\n",
       "      <th>130</th>\n",
       "      <td>NaN</td>\n",
       "      <td>Website</td>\n",
       "      <td>Sales-Agent-10</td>\n",
       "      <td>NaN</td>\n",
       "      <td>Mode-5</td>\n",
       "      <td>High Potential</td>\n",
       "      <td>3</td>\n",
       "      <td>10</td>\n",
       "      <td>11</td>\n",
       "      <td>20</td>\n",
       "    </tr>\n",
       "    <tr>\n",
       "      <th>131</th>\n",
       "      <td>NaN</td>\n",
       "      <td>Website</td>\n",
       "      <td>Sales-Agent-10</td>\n",
       "      <td>NaN</td>\n",
       "      <td>Mode-5</td>\n",
       "      <td>High Potential</td>\n",
       "      <td>3</td>\n",
       "      <td>10</td>\n",
       "      <td>11</td>\n",
       "      <td>20</td>\n",
       "    </tr>\n",
       "    <tr>\n",
       "      <th>132</th>\n",
       "      <td>NaN</td>\n",
       "      <td>Website</td>\n",
       "      <td>Sales-Agent-10</td>\n",
       "      <td>NaN</td>\n",
       "      <td>Mode-5</td>\n",
       "      <td>High Potential</td>\n",
       "      <td>3</td>\n",
       "      <td>10</td>\n",
       "      <td>11</td>\n",
       "      <td>20</td>\n",
       "    </tr>\n",
       "    <tr>\n",
       "      <th>133</th>\n",
       "      <td>NaN</td>\n",
       "      <td>Website</td>\n",
       "      <td>Sales-Agent-10</td>\n",
       "      <td>NaN</td>\n",
       "      <td>Mode-5</td>\n",
       "      <td>High Potential</td>\n",
       "      <td>3</td>\n",
       "      <td>10</td>\n",
       "      <td>11</td>\n",
       "      <td>20</td>\n",
       "    </tr>\n",
       "    <tr>\n",
       "      <th>134</th>\n",
       "      <td>NaN</td>\n",
       "      <td>Website</td>\n",
       "      <td>Sales-Agent-10</td>\n",
       "      <td>NaN</td>\n",
       "      <td>Mode-5</td>\n",
       "      <td>High Potential</td>\n",
       "      <td>3</td>\n",
       "      <td>10</td>\n",
       "      <td>11</td>\n",
       "      <td>20</td>\n",
       "    </tr>\n",
       "    <tr>\n",
       "      <th>135</th>\n",
       "      <td>NaN</td>\n",
       "      <td>Website</td>\n",
       "      <td>Sales-Agent-10</td>\n",
       "      <td>NaN</td>\n",
       "      <td>Mode-5</td>\n",
       "      <td>High Potential</td>\n",
       "      <td>3</td>\n",
       "      <td>10</td>\n",
       "      <td>11</td>\n",
       "      <td>20</td>\n",
       "    </tr>\n",
       "    <tr>\n",
       "      <th>136</th>\n",
       "      <td>NaN</td>\n",
       "      <td>Website</td>\n",
       "      <td>Sales-Agent-10</td>\n",
       "      <td>NaN</td>\n",
       "      <td>Mode-5</td>\n",
       "      <td>High Potential</td>\n",
       "      <td>3</td>\n",
       "      <td>10</td>\n",
       "      <td>11</td>\n",
       "      <td>19</td>\n",
       "    </tr>\n",
       "    <tr>\n",
       "      <th>137</th>\n",
       "      <td>NaN</td>\n",
       "      <td>Website</td>\n",
       "      <td>Sales-Agent-10</td>\n",
       "      <td>NaN</td>\n",
       "      <td>Mode-5</td>\n",
       "      <td>High Potential</td>\n",
       "      <td>3</td>\n",
       "      <td>10</td>\n",
       "      <td>11</td>\n",
       "      <td>19</td>\n",
       "    </tr>\n",
       "    <tr>\n",
       "      <th>138</th>\n",
       "      <td>NaN</td>\n",
       "      <td>NaN</td>\n",
       "      <td>Sales-Agent-10</td>\n",
       "      <td>NaN</td>\n",
       "      <td>Mode-5</td>\n",
       "      <td>High Potential</td>\n",
       "      <td>3</td>\n",
       "      <td>10</td>\n",
       "      <td>11</td>\n",
       "      <td>18</td>\n",
       "    </tr>\n",
       "    <tr>\n",
       "      <th>1888</th>\n",
       "      <td>NaN</td>\n",
       "      <td>Live Chat-Direct</td>\n",
       "      <td>Sales-Agent-5</td>\n",
       "      <td>Mumbai</td>\n",
       "      <td>Mode-3</td>\n",
       "      <td>Low Potential</td>\n",
       "      <td>0</td>\n",
       "      <td>9</td>\n",
       "      <td>17</td>\n",
       "      <td>18</td>\n",
       "    </tr>\n",
       "    <tr>\n",
       "      <th>2487</th>\n",
       "      <td>NaN</td>\n",
       "      <td>Website</td>\n",
       "      <td>Sales-Agent-10</td>\n",
       "      <td>NaN</td>\n",
       "      <td>Mode-5</td>\n",
       "      <td>High Potential</td>\n",
       "      <td>4</td>\n",
       "      <td>8</td>\n",
       "      <td>31</td>\n",
       "      <td>22</td>\n",
       "    </tr>\n",
       "    <tr>\n",
       "      <th>2488</th>\n",
       "      <td>NaN</td>\n",
       "      <td>Website</td>\n",
       "      <td>Sales-Agent-10</td>\n",
       "      <td>NaN</td>\n",
       "      <td>Mode-5</td>\n",
       "      <td>High Potential</td>\n",
       "      <td>4</td>\n",
       "      <td>8</td>\n",
       "      <td>31</td>\n",
       "      <td>21</td>\n",
       "    </tr>\n",
       "    <tr>\n",
       "      <th>2489</th>\n",
       "      <td>NaN</td>\n",
       "      <td>Website</td>\n",
       "      <td>Sales-Agent-10</td>\n",
       "      <td>NaN</td>\n",
       "      <td>Mode-5</td>\n",
       "      <td>High Potential</td>\n",
       "      <td>4</td>\n",
       "      <td>8</td>\n",
       "      <td>31</td>\n",
       "      <td>20</td>\n",
       "    </tr>\n",
       "    <tr>\n",
       "      <th>2556</th>\n",
       "      <td>NaN</td>\n",
       "      <td>NaN</td>\n",
       "      <td>Sales-Agent-1</td>\n",
       "      <td>NaN</td>\n",
       "      <td>Mode-5</td>\n",
       "      <td>High Potential</td>\n",
       "      <td>2</td>\n",
       "      <td>8</td>\n",
       "      <td>29</td>\n",
       "      <td>19</td>\n",
       "    </tr>\n",
       "    <tr>\n",
       "      <th>2726</th>\n",
       "      <td>NaN</td>\n",
       "      <td>Website</td>\n",
       "      <td>Sales-Agent-11</td>\n",
       "      <td>NaN</td>\n",
       "      <td>Mode-5</td>\n",
       "      <td>High Potential</td>\n",
       "      <td>4</td>\n",
       "      <td>8</td>\n",
       "      <td>24</td>\n",
       "      <td>15</td>\n",
       "    </tr>\n",
       "    <tr>\n",
       "      <th>2727</th>\n",
       "      <td>NaN</td>\n",
       "      <td>US Website</td>\n",
       "      <td>Sales-Agent-5</td>\n",
       "      <td>NaN</td>\n",
       "      <td>Mode-5</td>\n",
       "      <td>Low Potential</td>\n",
       "      <td>4</td>\n",
       "      <td>8</td>\n",
       "      <td>24</td>\n",
       "      <td>14</td>\n",
       "    </tr>\n",
       "    <tr>\n",
       "      <th>2729</th>\n",
       "      <td>NaN</td>\n",
       "      <td>US Website</td>\n",
       "      <td>Sales-Agent-11</td>\n",
       "      <td>NaN</td>\n",
       "      <td>Mode-5</td>\n",
       "      <td>High Potential</td>\n",
       "      <td>4</td>\n",
       "      <td>8</td>\n",
       "      <td>24</td>\n",
       "      <td>13</td>\n",
       "    </tr>\n",
       "    <tr>\n",
       "      <th>3023</th>\n",
       "      <td>NaN</td>\n",
       "      <td>Call</td>\n",
       "      <td>Sales-Agent-5</td>\n",
       "      <td>Other Locations</td>\n",
       "      <td>Mode-5</td>\n",
       "      <td>Low Potential</td>\n",
       "      <td>3</td>\n",
       "      <td>8</td>\n",
       "      <td>16</td>\n",
       "      <td>12</td>\n",
       "    </tr>\n",
       "    <tr>\n",
       "      <th>3051</th>\n",
       "      <td>NaN</td>\n",
       "      <td>NaN</td>\n",
       "      <td>Sales-Agent-1</td>\n",
       "      <td>NaN</td>\n",
       "      <td>Mode-5</td>\n",
       "      <td>High Potential</td>\n",
       "      <td>2</td>\n",
       "      <td>8</td>\n",
       "      <td>15</td>\n",
       "      <td>21</td>\n",
       "    </tr>\n",
       "    <tr>\n",
       "      <th>3053</th>\n",
       "      <td>NaN</td>\n",
       "      <td>Website</td>\n",
       "      <td>Sales-Agent-10</td>\n",
       "      <td>NaN</td>\n",
       "      <td>Mode-5</td>\n",
       "      <td>High Potential</td>\n",
       "      <td>2</td>\n",
       "      <td>8</td>\n",
       "      <td>15</td>\n",
       "      <td>20</td>\n",
       "    </tr>\n",
       "    <tr>\n",
       "      <th>3061</th>\n",
       "      <td>NaN</td>\n",
       "      <td>Website</td>\n",
       "      <td>Sales-Agent-10</td>\n",
       "      <td>NaN</td>\n",
       "      <td>Mode-5</td>\n",
       "      <td>High Potential</td>\n",
       "      <td>1</td>\n",
       "      <td>8</td>\n",
       "      <td>14</td>\n",
       "      <td>21</td>\n",
       "    </tr>\n",
       "    <tr>\n",
       "      <th>3130</th>\n",
       "      <td>NaN</td>\n",
       "      <td>Website</td>\n",
       "      <td>Sales-Agent-10</td>\n",
       "      <td>NaN</td>\n",
       "      <td>Mode-5</td>\n",
       "      <td>High Potential</td>\n",
       "      <td>0</td>\n",
       "      <td>8</td>\n",
       "      <td>13</td>\n",
       "      <td>16</td>\n",
       "    </tr>\n",
       "    <tr>\n",
       "      <th>3250</th>\n",
       "      <td>NaN</td>\n",
       "      <td>Website</td>\n",
       "      <td>Sales-Agent-10</td>\n",
       "      <td>NaN</td>\n",
       "      <td>Mode-5</td>\n",
       "      <td>High Potential</td>\n",
       "      <td>5</td>\n",
       "      <td>9</td>\n",
       "      <td>8</td>\n",
       "      <td>18</td>\n",
       "    </tr>\n",
       "    <tr>\n",
       "      <th>3384</th>\n",
       "      <td>NaN</td>\n",
       "      <td>US Website</td>\n",
       "      <td>Sales-Agent-10</td>\n",
       "      <td>NaN</td>\n",
       "      <td>Mode-5</td>\n",
       "      <td>High Potential</td>\n",
       "      <td>4</td>\n",
       "      <td>6</td>\n",
       "      <td>8</td>\n",
       "      <td>20</td>\n",
       "    </tr>\n",
       "    <tr>\n",
       "      <th>3740</th>\n",
       "      <td>NaN</td>\n",
       "      <td>Website</td>\n",
       "      <td>Sales-Agent-10</td>\n",
       "      <td>NaN</td>\n",
       "      <td>Mode-5</td>\n",
       "      <td>High Potential</td>\n",
       "      <td>5</td>\n",
       "      <td>7</td>\n",
       "      <td>28</td>\n",
       "      <td>23</td>\n",
       "    </tr>\n",
       "    <tr>\n",
       "      <th>3752</th>\n",
       "      <td>NaN</td>\n",
       "      <td>Live Chat-Direct</td>\n",
       "      <td>Sales-Agent-5</td>\n",
       "      <td>Other Locations</td>\n",
       "      <td>Mode-5</td>\n",
       "      <td>High Potential</td>\n",
       "      <td>5</td>\n",
       "      <td>7</td>\n",
       "      <td>28</td>\n",
       "      <td>12</td>\n",
       "    </tr>\n",
       "    <tr>\n",
       "      <th>4979</th>\n",
       "      <td>NaN</td>\n",
       "      <td>NaN</td>\n",
       "      <td>Sales-Agent-1</td>\n",
       "      <td>NaN</td>\n",
       "      <td>Mode-5</td>\n",
       "      <td>High Potential</td>\n",
       "      <td>0</td>\n",
       "      <td>6</td>\n",
       "      <td>25</td>\n",
       "      <td>16</td>\n",
       "    </tr>\n",
       "    <tr>\n",
       "      <th>5086</th>\n",
       "      <td>NaN</td>\n",
       "      <td>Website</td>\n",
       "      <td>Sales-Agent-4</td>\n",
       "      <td>Other Locations</td>\n",
       "      <td>Mode-3</td>\n",
       "      <td>Low Potential</td>\n",
       "      <td>4</td>\n",
       "      <td>6</td>\n",
       "      <td>22</td>\n",
       "      <td>15</td>\n",
       "    </tr>\n",
       "    <tr>\n",
       "      <th>5235</th>\n",
       "      <td>NaN</td>\n",
       "      <td>Website</td>\n",
       "      <td>Sales-Agent-10</td>\n",
       "      <td>NaN</td>\n",
       "      <td>Mode-5</td>\n",
       "      <td>High Potential</td>\n",
       "      <td>1</td>\n",
       "      <td>6</td>\n",
       "      <td>19</td>\n",
       "      <td>23</td>\n",
       "    </tr>\n",
       "    <tr>\n",
       "      <th>5258</th>\n",
       "      <td>NaN</td>\n",
       "      <td>NaN</td>\n",
       "      <td>Sales-Agent-1</td>\n",
       "      <td>NaN</td>\n",
       "      <td>Mode-5</td>\n",
       "      <td>High Potential</td>\n",
       "      <td>1</td>\n",
       "      <td>6</td>\n",
       "      <td>19</td>\n",
       "      <td>17</td>\n",
       "    </tr>\n",
       "    <tr>\n",
       "      <th>5549</th>\n",
       "      <td>NaN</td>\n",
       "      <td>NaN</td>\n",
       "      <td>Sales-Agent-10</td>\n",
       "      <td>NaN</td>\n",
       "      <td>Mode-5</td>\n",
       "      <td>High Potential</td>\n",
       "      <td>3</td>\n",
       "      <td>12</td>\n",
       "      <td>6</td>\n",
       "      <td>21</td>\n",
       "    </tr>\n",
       "    <tr>\n",
       "      <th>5664</th>\n",
       "      <td>NaN</td>\n",
       "      <td>US Website</td>\n",
       "      <td>Sales-Agent-4</td>\n",
       "      <td>Other Locations</td>\n",
       "      <td>Mode-5</td>\n",
       "      <td>Low Potential</td>\n",
       "      <td>5</td>\n",
       "      <td>10</td>\n",
       "      <td>6</td>\n",
       "      <td>11</td>\n",
       "    </tr>\n",
       "  </tbody>\n",
       "</table>\n",
       "</div>"
      ],
      "text/plain": [
       "      Product_ID            Source     Sales_Agent         Location  \\\n",
       "0            NaN           Website  Sales-Agent-11              NaN   \n",
       "1            NaN           Website  Sales-Agent-10              NaN   \n",
       "2            NaN           Website  Sales-Agent-10              NaN   \n",
       "3            NaN           Website  Sales-Agent-10              NaN   \n",
       "4            NaN           Website  Sales-Agent-10              NaN   \n",
       "5            NaN           Website  Sales-Agent-10              NaN   \n",
       "6            NaN           Website  Sales-Agent-10              NaN   \n",
       "7            NaN           Website  Sales-Agent-10              NaN   \n",
       "8            NaN           Website  Sales-Agent-10              NaN   \n",
       "9            NaN           Website  Sales-Agent-10              NaN   \n",
       "10           NaN           Website  Sales-Agent-10              NaN   \n",
       "11           NaN           Website  Sales-Agent-10              NaN   \n",
       "12           NaN           Website  Sales-Agent-10              NaN   \n",
       "13           NaN               NaN  Sales-Agent-10              NaN   \n",
       "14           NaN           Website  Sales-Agent-10              NaN   \n",
       "15           NaN               NaN  Sales-Agent-10              NaN   \n",
       "16           NaN           Website  Sales-Agent-10              NaN   \n",
       "17           NaN           Website  Sales-Agent-10              NaN   \n",
       "20           NaN           Website  Sales-Agent-10              NaN   \n",
       "21           NaN               NaN  Sales-Agent-10              NaN   \n",
       "22           NaN           Website  Sales-Agent-10              NaN   \n",
       "23           NaN              Call   Sales-Agent-9              UAE   \n",
       "126          NaN           Website  Sales-Agent-10              NaN   \n",
       "127          NaN           Website  Sales-Agent-10              NaN   \n",
       "128          NaN               NaN  Sales-Agent-10              NaN   \n",
       "129          NaN           Website  Sales-Agent-10              NaN   \n",
       "130          NaN           Website  Sales-Agent-10              NaN   \n",
       "131          NaN           Website  Sales-Agent-10              NaN   \n",
       "132          NaN           Website  Sales-Agent-10              NaN   \n",
       "133          NaN           Website  Sales-Agent-10              NaN   \n",
       "134          NaN           Website  Sales-Agent-10              NaN   \n",
       "135          NaN           Website  Sales-Agent-10              NaN   \n",
       "136          NaN           Website  Sales-Agent-10              NaN   \n",
       "137          NaN           Website  Sales-Agent-10              NaN   \n",
       "138          NaN               NaN  Sales-Agent-10              NaN   \n",
       "1888         NaN  Live Chat-Direct   Sales-Agent-5           Mumbai   \n",
       "2487         NaN           Website  Sales-Agent-10              NaN   \n",
       "2488         NaN           Website  Sales-Agent-10              NaN   \n",
       "2489         NaN           Website  Sales-Agent-10              NaN   \n",
       "2556         NaN               NaN   Sales-Agent-1              NaN   \n",
       "2726         NaN           Website  Sales-Agent-11              NaN   \n",
       "2727         NaN        US Website   Sales-Agent-5              NaN   \n",
       "2729         NaN        US Website  Sales-Agent-11              NaN   \n",
       "3023         NaN              Call   Sales-Agent-5  Other Locations   \n",
       "3051         NaN               NaN   Sales-Agent-1              NaN   \n",
       "3053         NaN           Website  Sales-Agent-10              NaN   \n",
       "3061         NaN           Website  Sales-Agent-10              NaN   \n",
       "3130         NaN           Website  Sales-Agent-10              NaN   \n",
       "3250         NaN           Website  Sales-Agent-10              NaN   \n",
       "3384         NaN        US Website  Sales-Agent-10              NaN   \n",
       "3740         NaN           Website  Sales-Agent-10              NaN   \n",
       "3752         NaN  Live Chat-Direct   Sales-Agent-5  Other Locations   \n",
       "4979         NaN               NaN   Sales-Agent-1              NaN   \n",
       "5086         NaN           Website   Sales-Agent-4  Other Locations   \n",
       "5235         NaN           Website  Sales-Agent-10              NaN   \n",
       "5258         NaN               NaN   Sales-Agent-1              NaN   \n",
       "5549         NaN               NaN  Sales-Agent-10              NaN   \n",
       "5664         NaN        US Website   Sales-Agent-4  Other Locations   \n",
       "\n",
       "     Delivery_Mode          Status  Weekday  Month  Day  Hour  \n",
       "0           Mode-5  High Potential        2     11   14    10  \n",
       "1           Mode-5  High Potential        2     11   14     9  \n",
       "2           Mode-5  High Potential        2     11   14     9  \n",
       "3           Mode-5  High Potential        2     11   14     8  \n",
       "4           Mode-5  High Potential        2     11   14     7  \n",
       "5           Mode-5  High Potential        2     11   14     7  \n",
       "6           Mode-5  High Potential        2     11   14     5  \n",
       "7           Mode-5  High Potential        2     11   14     5  \n",
       "8           Mode-5  High Potential        2     11   14     5  \n",
       "9           Mode-5  High Potential        2     11   14     5  \n",
       "10          Mode-5  High Potential        2     11   14     5  \n",
       "11          Mode-5  High Potential        2     11   14     4  \n",
       "12          Mode-5  High Potential        2     11   14     2  \n",
       "13          Mode-5  High Potential        1     11   13    23  \n",
       "14          Mode-5  High Potential        1     11   13    21  \n",
       "15          Mode-5  High Potential        1     11   13    20  \n",
       "16          Mode-5  High Potential        1     11   13    20  \n",
       "17          Mode-5  High Potential        1     11   13    20  \n",
       "20          Mode-5  High Potential        1     11   13    18  \n",
       "21          Mode-5  High Potential        1     11   13    18  \n",
       "22          Mode-5  High Potential        1     11   13    18  \n",
       "23          Mode-3  High Potential        1     11   13    17  \n",
       "126         Mode-5  High Potential        3     10   11    22  \n",
       "127         Mode-5  High Potential        3     10   11    21  \n",
       "128         Mode-5  High Potential        3     10   11    20  \n",
       "129         Mode-5  High Potential        3     10   11    20  \n",
       "130         Mode-5  High Potential        3     10   11    20  \n",
       "131         Mode-5  High Potential        3     10   11    20  \n",
       "132         Mode-5  High Potential        3     10   11    20  \n",
       "133         Mode-5  High Potential        3     10   11    20  \n",
       "134         Mode-5  High Potential        3     10   11    20  \n",
       "135         Mode-5  High Potential        3     10   11    20  \n",
       "136         Mode-5  High Potential        3     10   11    19  \n",
       "137         Mode-5  High Potential        3     10   11    19  \n",
       "138         Mode-5  High Potential        3     10   11    18  \n",
       "1888        Mode-3   Low Potential        0      9   17    18  \n",
       "2487        Mode-5  High Potential        4      8   31    22  \n",
       "2488        Mode-5  High Potential        4      8   31    21  \n",
       "2489        Mode-5  High Potential        4      8   31    20  \n",
       "2556        Mode-5  High Potential        2      8   29    19  \n",
       "2726        Mode-5  High Potential        4      8   24    15  \n",
       "2727        Mode-5   Low Potential        4      8   24    14  \n",
       "2729        Mode-5  High Potential        4      8   24    13  \n",
       "3023        Mode-5   Low Potential        3      8   16    12  \n",
       "3051        Mode-5  High Potential        2      8   15    21  \n",
       "3053        Mode-5  High Potential        2      8   15    20  \n",
       "3061        Mode-5  High Potential        1      8   14    21  \n",
       "3130        Mode-5  High Potential        0      8   13    16  \n",
       "3250        Mode-5  High Potential        5      9    8    18  \n",
       "3384        Mode-5  High Potential        4      6    8    20  \n",
       "3740        Mode-5  High Potential        5      7   28    23  \n",
       "3752        Mode-5  High Potential        5      7   28    12  \n",
       "4979        Mode-5  High Potential        0      6   25    16  \n",
       "5086        Mode-3   Low Potential        4      6   22    15  \n",
       "5235        Mode-5  High Potential        1      6   19    23  \n",
       "5258        Mode-5  High Potential        1      6   19    17  \n",
       "5549        Mode-5  High Potential        3     12    6    21  \n",
       "5664        Mode-5   Low Potential        5     10    6    11  "
      ]
     },
     "execution_count": 39,
     "metadata": {},
     "output_type": "execute_result"
    }
   ],
   "source": [
    "data.loc[data.Product_ID.isnull()]"
   ]
  },
  {
   "cell_type": "code",
   "execution_count": 40,
   "id": "8f061e8e",
   "metadata": {},
   "outputs": [
    {
     "data": {
      "text/html": [
       "<div>\n",
       "<style scoped>\n",
       "    .dataframe tbody tr th:only-of-type {\n",
       "        vertical-align: middle;\n",
       "    }\n",
       "\n",
       "    .dataframe tbody tr th {\n",
       "        vertical-align: top;\n",
       "    }\n",
       "\n",
       "    .dataframe thead th {\n",
       "        text-align: right;\n",
       "    }\n",
       "</style>\n",
       "<table border=\"1\" class=\"dataframe\">\n",
       "  <thead>\n",
       "    <tr style=\"text-align: right;\">\n",
       "      <th></th>\n",
       "      <th>Product_ID</th>\n",
       "      <th>Source</th>\n",
       "      <th>Sales_Agent</th>\n",
       "      <th>Location</th>\n",
       "      <th>Delivery_Mode</th>\n",
       "      <th>Status</th>\n",
       "      <th>Weekday</th>\n",
       "      <th>Month</th>\n",
       "      <th>Day</th>\n",
       "      <th>Hour</th>\n",
       "    </tr>\n",
       "  </thead>\n",
       "  <tbody>\n",
       "    <tr>\n",
       "      <th>13</th>\n",
       "      <td>NaN</td>\n",
       "      <td>NaN</td>\n",
       "      <td>Sales-Agent-10</td>\n",
       "      <td>NaN</td>\n",
       "      <td>Mode-5</td>\n",
       "      <td>High Potential</td>\n",
       "      <td>1</td>\n",
       "      <td>11</td>\n",
       "      <td>13</td>\n",
       "      <td>23</td>\n",
       "    </tr>\n",
       "    <tr>\n",
       "      <th>15</th>\n",
       "      <td>NaN</td>\n",
       "      <td>NaN</td>\n",
       "      <td>Sales-Agent-10</td>\n",
       "      <td>NaN</td>\n",
       "      <td>Mode-5</td>\n",
       "      <td>High Potential</td>\n",
       "      <td>1</td>\n",
       "      <td>11</td>\n",
       "      <td>13</td>\n",
       "      <td>20</td>\n",
       "    </tr>\n",
       "    <tr>\n",
       "      <th>21</th>\n",
       "      <td>NaN</td>\n",
       "      <td>NaN</td>\n",
       "      <td>Sales-Agent-10</td>\n",
       "      <td>NaN</td>\n",
       "      <td>Mode-5</td>\n",
       "      <td>High Potential</td>\n",
       "      <td>1</td>\n",
       "      <td>11</td>\n",
       "      <td>13</td>\n",
       "      <td>18</td>\n",
       "    </tr>\n",
       "    <tr>\n",
       "      <th>128</th>\n",
       "      <td>NaN</td>\n",
       "      <td>NaN</td>\n",
       "      <td>Sales-Agent-10</td>\n",
       "      <td>NaN</td>\n",
       "      <td>Mode-5</td>\n",
       "      <td>High Potential</td>\n",
       "      <td>3</td>\n",
       "      <td>10</td>\n",
       "      <td>11</td>\n",
       "      <td>20</td>\n",
       "    </tr>\n",
       "    <tr>\n",
       "      <th>138</th>\n",
       "      <td>NaN</td>\n",
       "      <td>NaN</td>\n",
       "      <td>Sales-Agent-10</td>\n",
       "      <td>NaN</td>\n",
       "      <td>Mode-5</td>\n",
       "      <td>High Potential</td>\n",
       "      <td>3</td>\n",
       "      <td>10</td>\n",
       "      <td>11</td>\n",
       "      <td>18</td>\n",
       "    </tr>\n",
       "    <tr>\n",
       "      <th>2518</th>\n",
       "      <td>18.0</td>\n",
       "      <td>NaN</td>\n",
       "      <td>Sales-Agent-5</td>\n",
       "      <td>Other Locations</td>\n",
       "      <td>Mode-3</td>\n",
       "      <td>Low Potential</td>\n",
       "      <td>3</td>\n",
       "      <td>8</td>\n",
       "      <td>30</td>\n",
       "      <td>20</td>\n",
       "    </tr>\n",
       "    <tr>\n",
       "      <th>2556</th>\n",
       "      <td>NaN</td>\n",
       "      <td>NaN</td>\n",
       "      <td>Sales-Agent-1</td>\n",
       "      <td>NaN</td>\n",
       "      <td>Mode-5</td>\n",
       "      <td>High Potential</td>\n",
       "      <td>2</td>\n",
       "      <td>8</td>\n",
       "      <td>29</td>\n",
       "      <td>19</td>\n",
       "    </tr>\n",
       "    <tr>\n",
       "      <th>2686</th>\n",
       "      <td>9.0</td>\n",
       "      <td>NaN</td>\n",
       "      <td>Sales-Agent-5</td>\n",
       "      <td>Mumbai</td>\n",
       "      <td>Mode-3</td>\n",
       "      <td>High Potential</td>\n",
       "      <td>6</td>\n",
       "      <td>8</td>\n",
       "      <td>26</td>\n",
       "      <td>11</td>\n",
       "    </tr>\n",
       "    <tr>\n",
       "      <th>2712</th>\n",
       "      <td>15.0</td>\n",
       "      <td>NaN</td>\n",
       "      <td>Sales-Agent-5</td>\n",
       "      <td>Mumbai</td>\n",
       "      <td>Mode-5</td>\n",
       "      <td>Low Potential</td>\n",
       "      <td>5</td>\n",
       "      <td>8</td>\n",
       "      <td>25</td>\n",
       "      <td>10</td>\n",
       "    </tr>\n",
       "    <tr>\n",
       "      <th>2767</th>\n",
       "      <td>15.0</td>\n",
       "      <td>NaN</td>\n",
       "      <td>Sales-Agent-11</td>\n",
       "      <td>Hyderabad</td>\n",
       "      <td>Mode-5</td>\n",
       "      <td>Low Potential</td>\n",
       "      <td>3</td>\n",
       "      <td>8</td>\n",
       "      <td>23</td>\n",
       "      <td>14</td>\n",
       "    </tr>\n",
       "    <tr>\n",
       "      <th>3051</th>\n",
       "      <td>NaN</td>\n",
       "      <td>NaN</td>\n",
       "      <td>Sales-Agent-1</td>\n",
       "      <td>NaN</td>\n",
       "      <td>Mode-5</td>\n",
       "      <td>High Potential</td>\n",
       "      <td>2</td>\n",
       "      <td>8</td>\n",
       "      <td>15</td>\n",
       "      <td>21</td>\n",
       "    </tr>\n",
       "    <tr>\n",
       "      <th>4979</th>\n",
       "      <td>NaN</td>\n",
       "      <td>NaN</td>\n",
       "      <td>Sales-Agent-1</td>\n",
       "      <td>NaN</td>\n",
       "      <td>Mode-5</td>\n",
       "      <td>High Potential</td>\n",
       "      <td>0</td>\n",
       "      <td>6</td>\n",
       "      <td>25</td>\n",
       "      <td>16</td>\n",
       "    </tr>\n",
       "    <tr>\n",
       "      <th>5258</th>\n",
       "      <td>NaN</td>\n",
       "      <td>NaN</td>\n",
       "      <td>Sales-Agent-1</td>\n",
       "      <td>NaN</td>\n",
       "      <td>Mode-5</td>\n",
       "      <td>High Potential</td>\n",
       "      <td>1</td>\n",
       "      <td>6</td>\n",
       "      <td>19</td>\n",
       "      <td>17</td>\n",
       "    </tr>\n",
       "    <tr>\n",
       "      <th>5549</th>\n",
       "      <td>NaN</td>\n",
       "      <td>NaN</td>\n",
       "      <td>Sales-Agent-10</td>\n",
       "      <td>NaN</td>\n",
       "      <td>Mode-5</td>\n",
       "      <td>High Potential</td>\n",
       "      <td>3</td>\n",
       "      <td>12</td>\n",
       "      <td>6</td>\n",
       "      <td>21</td>\n",
       "    </tr>\n",
       "    <tr>\n",
       "      <th>6627</th>\n",
       "      <td>9.0</td>\n",
       "      <td>NaN</td>\n",
       "      <td>Sales-Agent-7</td>\n",
       "      <td>Bangalore</td>\n",
       "      <td>Mode-1</td>\n",
       "      <td>Low Potential</td>\n",
       "      <td>3</td>\n",
       "      <td>5</td>\n",
       "      <td>17</td>\n",
       "      <td>14</td>\n",
       "    </tr>\n",
       "    <tr>\n",
       "      <th>6886</th>\n",
       "      <td>5.0</td>\n",
       "      <td>NaN</td>\n",
       "      <td>Sales-Agent-11</td>\n",
       "      <td>Other Locations</td>\n",
       "      <td>Mode-1</td>\n",
       "      <td>High Potential</td>\n",
       "      <td>4</td>\n",
       "      <td>10</td>\n",
       "      <td>5</td>\n",
       "      <td>21</td>\n",
       "    </tr>\n",
       "    <tr>\n",
       "      <th>6910</th>\n",
       "      <td>18.0</td>\n",
       "      <td>NaN</td>\n",
       "      <td>Sales-Agent-7</td>\n",
       "      <td>Chennai</td>\n",
       "      <td>Mode-1</td>\n",
       "      <td>Low Potential</td>\n",
       "      <td>4</td>\n",
       "      <td>10</td>\n",
       "      <td>5</td>\n",
       "      <td>14</td>\n",
       "    </tr>\n",
       "  </tbody>\n",
       "</table>\n",
       "</div>"
      ],
      "text/plain": [
       "      Product_ID Source     Sales_Agent         Location Delivery_Mode  \\\n",
       "13           NaN    NaN  Sales-Agent-10              NaN        Mode-5   \n",
       "15           NaN    NaN  Sales-Agent-10              NaN        Mode-5   \n",
       "21           NaN    NaN  Sales-Agent-10              NaN        Mode-5   \n",
       "128          NaN    NaN  Sales-Agent-10              NaN        Mode-5   \n",
       "138          NaN    NaN  Sales-Agent-10              NaN        Mode-5   \n",
       "2518        18.0    NaN   Sales-Agent-5  Other Locations        Mode-3   \n",
       "2556         NaN    NaN   Sales-Agent-1              NaN        Mode-5   \n",
       "2686         9.0    NaN   Sales-Agent-5           Mumbai        Mode-3   \n",
       "2712        15.0    NaN   Sales-Agent-5           Mumbai        Mode-5   \n",
       "2767        15.0    NaN  Sales-Agent-11        Hyderabad        Mode-5   \n",
       "3051         NaN    NaN   Sales-Agent-1              NaN        Mode-5   \n",
       "4979         NaN    NaN   Sales-Agent-1              NaN        Mode-5   \n",
       "5258         NaN    NaN   Sales-Agent-1              NaN        Mode-5   \n",
       "5549         NaN    NaN  Sales-Agent-10              NaN        Mode-5   \n",
       "6627         9.0    NaN   Sales-Agent-7        Bangalore        Mode-1   \n",
       "6886         5.0    NaN  Sales-Agent-11  Other Locations        Mode-1   \n",
       "6910        18.0    NaN   Sales-Agent-7          Chennai        Mode-1   \n",
       "\n",
       "              Status  Weekday  Month  Day  Hour  \n",
       "13    High Potential        1     11   13    23  \n",
       "15    High Potential        1     11   13    20  \n",
       "21    High Potential        1     11   13    18  \n",
       "128   High Potential        3     10   11    20  \n",
       "138   High Potential        3     10   11    18  \n",
       "2518   Low Potential        3      8   30    20  \n",
       "2556  High Potential        2      8   29    19  \n",
       "2686  High Potential        6      8   26    11  \n",
       "2712   Low Potential        5      8   25    10  \n",
       "2767   Low Potential        3      8   23    14  \n",
       "3051  High Potential        2      8   15    21  \n",
       "4979  High Potential        0      6   25    16  \n",
       "5258  High Potential        1      6   19    17  \n",
       "5549  High Potential        3     12    6    21  \n",
       "6627   Low Potential        3      5   17    14  \n",
       "6886  High Potential        4     10    5    21  \n",
       "6910   Low Potential        4     10    5    14  "
      ]
     },
     "execution_count": 40,
     "metadata": {},
     "output_type": "execute_result"
    }
   ],
   "source": [
    "data.loc[data.Source.isnull()]"
   ]
  },
  {
   "cell_type": "markdown",
   "id": "f757db73",
   "metadata": {},
   "source": [
    "As we can see from the above subsets of the dataframe, most rows contain multiple missing values. Thus it would be better to drop these NaN values rather than imputing them. Also there are only 156 missing values which makes up only about 0.02% of total observations. Moreover since some rows contain multiple columns with NaN values, the actual number of rows dropped is reduced to 94."
   ]
  },
  {
   "cell_type": "code",
   "execution_count": 65,
   "id": "694169f3",
   "metadata": {},
   "outputs": [
    {
     "data": {
      "text/plain": [
       "Product_ID       0\n",
       "Source           0\n",
       "Sales_Agent      0\n",
       "Location         0\n",
       "Delivery_Mode    0\n",
       "Status           0\n",
       "Weekday          0\n",
       "Month            0\n",
       "Day              0\n",
       "Hour             0\n",
       "dtype: int64"
      ]
     },
     "execution_count": 65,
     "metadata": {},
     "output_type": "execute_result"
    }
   ],
   "source": [
    "data.dropna(inplace=True)\n",
    "data.isnull().sum()\n"
   ]
  },
  {
   "cell_type": "markdown",
   "id": "d0c4cf1c",
   "metadata": {},
   "source": [
    "## Categorical Encoding"
   ]
  },
  {
   "cell_type": "markdown",
   "id": "ee1e3d23",
   "metadata": {},
   "source": [
    "One of the main challenges of this dataset is that it contains multiple high cardinality categorical features which need to be encoded. Using a combination of various types of encoding for different columns like target encoding, one hot encoding, manual encoding etc. would be the best approach since it would help reduce the number of new dimensions created and thus avoid the curse of dimensionality."
   ]
  },
  {
   "cell_type": "markdown",
   "id": "5f457742",
   "metadata": {},
   "source": [
    "#### Manual Encoding 'Status' (target variable)\n",
    "Since our target variable is binary in nature, we will manually encode it by assinging 0 to Low Potential and 1 to High Potential. "
   ]
  },
  {
   "cell_type": "code",
   "execution_count": 66,
   "id": "dc8240d1",
   "metadata": {},
   "outputs": [],
   "source": [
    "data.Status= data.Status.map({'Low Potential':0,'High Potential':1})\n"
   ]
  },
  {
   "cell_type": "markdown",
   "id": "793bfbe5",
   "metadata": {},
   "source": [
    "#### One Hot Encoding "
   ]
  },
  {
   "cell_type": "code",
   "execution_count": 67,
   "id": "f24b632d",
   "metadata": {},
   "outputs": [],
   "source": [
    "data.Weekday = data.Weekday.astype('object')\n",
    "data.Month = data.Month.astype('object')\n",
    "data.Hour = data.Hour.astype('object')\n",
    "data.Product_ID = data.Product_ID.astype('object')\n",
    "data.Day=data.Day.astype('object')\n",
    "data = pd.get_dummies(data=data, drop_first=True)"
   ]
  },
  {
   "cell_type": "code",
   "execution_count": 68,
   "id": "8e643b90",
   "metadata": {},
   "outputs": [
    {
     "data": {
      "text/html": [
       "<div>\n",
       "<style scoped>\n",
       "    .dataframe tbody tr th:only-of-type {\n",
       "        vertical-align: middle;\n",
       "    }\n",
       "\n",
       "    .dataframe tbody tr th {\n",
       "        vertical-align: top;\n",
       "    }\n",
       "\n",
       "    .dataframe thead th {\n",
       "        text-align: right;\n",
       "    }\n",
       "</style>\n",
       "<table border=\"1\" class=\"dataframe\">\n",
       "  <thead>\n",
       "    <tr style=\"text-align: right;\">\n",
       "      <th></th>\n",
       "      <th>Status</th>\n",
       "      <th>Product_ID_1.0</th>\n",
       "      <th>Product_ID_2.0</th>\n",
       "      <th>Product_ID_3.0</th>\n",
       "      <th>Product_ID_4.0</th>\n",
       "      <th>Product_ID_5.0</th>\n",
       "      <th>Product_ID_6.0</th>\n",
       "      <th>Product_ID_7.0</th>\n",
       "      <th>Product_ID_8.0</th>\n",
       "      <th>Product_ID_9.0</th>\n",
       "      <th>...</th>\n",
       "      <th>Hour_14</th>\n",
       "      <th>Hour_15</th>\n",
       "      <th>Hour_16</th>\n",
       "      <th>Hour_17</th>\n",
       "      <th>Hour_18</th>\n",
       "      <th>Hour_19</th>\n",
       "      <th>Hour_20</th>\n",
       "      <th>Hour_21</th>\n",
       "      <th>Hour_22</th>\n",
       "      <th>Hour_23</th>\n",
       "    </tr>\n",
       "  </thead>\n",
       "  <tbody>\n",
       "    <tr>\n",
       "      <th>18</th>\n",
       "      <td>1</td>\n",
       "      <td>0</td>\n",
       "      <td>0</td>\n",
       "      <td>0</td>\n",
       "      <td>0</td>\n",
       "      <td>0</td>\n",
       "      <td>0</td>\n",
       "      <td>0</td>\n",
       "      <td>0</td>\n",
       "      <td>1</td>\n",
       "      <td>...</td>\n",
       "      <td>0</td>\n",
       "      <td>0</td>\n",
       "      <td>0</td>\n",
       "      <td>0</td>\n",
       "      <td>1</td>\n",
       "      <td>0</td>\n",
       "      <td>0</td>\n",
       "      <td>0</td>\n",
       "      <td>0</td>\n",
       "      <td>0</td>\n",
       "    </tr>\n",
       "    <tr>\n",
       "      <th>19</th>\n",
       "      <td>1</td>\n",
       "      <td>0</td>\n",
       "      <td>0</td>\n",
       "      <td>0</td>\n",
       "      <td>0</td>\n",
       "      <td>0</td>\n",
       "      <td>0</td>\n",
       "      <td>0</td>\n",
       "      <td>0</td>\n",
       "      <td>0</td>\n",
       "      <td>...</td>\n",
       "      <td>0</td>\n",
       "      <td>0</td>\n",
       "      <td>0</td>\n",
       "      <td>0</td>\n",
       "      <td>1</td>\n",
       "      <td>0</td>\n",
       "      <td>0</td>\n",
       "      <td>0</td>\n",
       "      <td>0</td>\n",
       "      <td>0</td>\n",
       "    </tr>\n",
       "    <tr>\n",
       "      <th>24</th>\n",
       "      <td>1</td>\n",
       "      <td>0</td>\n",
       "      <td>0</td>\n",
       "      <td>0</td>\n",
       "      <td>0</td>\n",
       "      <td>0</td>\n",
       "      <td>0</td>\n",
       "      <td>0</td>\n",
       "      <td>0</td>\n",
       "      <td>0</td>\n",
       "      <td>...</td>\n",
       "      <td>0</td>\n",
       "      <td>0</td>\n",
       "      <td>0</td>\n",
       "      <td>1</td>\n",
       "      <td>0</td>\n",
       "      <td>0</td>\n",
       "      <td>0</td>\n",
       "      <td>0</td>\n",
       "      <td>0</td>\n",
       "      <td>0</td>\n",
       "    </tr>\n",
       "    <tr>\n",
       "      <th>25</th>\n",
       "      <td>0</td>\n",
       "      <td>0</td>\n",
       "      <td>0</td>\n",
       "      <td>0</td>\n",
       "      <td>0</td>\n",
       "      <td>0</td>\n",
       "      <td>0</td>\n",
       "      <td>0</td>\n",
       "      <td>0</td>\n",
       "      <td>0</td>\n",
       "      <td>...</td>\n",
       "      <td>0</td>\n",
       "      <td>0</td>\n",
       "      <td>1</td>\n",
       "      <td>0</td>\n",
       "      <td>0</td>\n",
       "      <td>0</td>\n",
       "      <td>0</td>\n",
       "      <td>0</td>\n",
       "      <td>0</td>\n",
       "      <td>0</td>\n",
       "    </tr>\n",
       "    <tr>\n",
       "      <th>26</th>\n",
       "      <td>1</td>\n",
       "      <td>0</td>\n",
       "      <td>0</td>\n",
       "      <td>0</td>\n",
       "      <td>0</td>\n",
       "      <td>0</td>\n",
       "      <td>0</td>\n",
       "      <td>0</td>\n",
       "      <td>0</td>\n",
       "      <td>0</td>\n",
       "      <td>...</td>\n",
       "      <td>0</td>\n",
       "      <td>0</td>\n",
       "      <td>1</td>\n",
       "      <td>0</td>\n",
       "      <td>0</td>\n",
       "      <td>0</td>\n",
       "      <td>0</td>\n",
       "      <td>0</td>\n",
       "      <td>0</td>\n",
       "      <td>0</td>\n",
       "    </tr>\n",
       "    <tr>\n",
       "      <th>...</th>\n",
       "      <td>...</td>\n",
       "      <td>...</td>\n",
       "      <td>...</td>\n",
       "      <td>...</td>\n",
       "      <td>...</td>\n",
       "      <td>...</td>\n",
       "      <td>...</td>\n",
       "      <td>...</td>\n",
       "      <td>...</td>\n",
       "      <td>...</td>\n",
       "      <td>...</td>\n",
       "      <td>...</td>\n",
       "      <td>...</td>\n",
       "      <td>...</td>\n",
       "      <td>...</td>\n",
       "      <td>...</td>\n",
       "      <td>...</td>\n",
       "      <td>...</td>\n",
       "      <td>...</td>\n",
       "      <td>...</td>\n",
       "      <td>...</td>\n",
       "    </tr>\n",
       "    <tr>\n",
       "      <th>7417</th>\n",
       "      <td>0</td>\n",
       "      <td>0</td>\n",
       "      <td>0</td>\n",
       "      <td>0</td>\n",
       "      <td>0</td>\n",
       "      <td>0</td>\n",
       "      <td>0</td>\n",
       "      <td>0</td>\n",
       "      <td>0</td>\n",
       "      <td>1</td>\n",
       "      <td>...</td>\n",
       "      <td>0</td>\n",
       "      <td>0</td>\n",
       "      <td>0</td>\n",
       "      <td>0</td>\n",
       "      <td>0</td>\n",
       "      <td>0</td>\n",
       "      <td>0</td>\n",
       "      <td>0</td>\n",
       "      <td>0</td>\n",
       "      <td>0</td>\n",
       "    </tr>\n",
       "    <tr>\n",
       "      <th>7418</th>\n",
       "      <td>0</td>\n",
       "      <td>0</td>\n",
       "      <td>0</td>\n",
       "      <td>0</td>\n",
       "      <td>0</td>\n",
       "      <td>0</td>\n",
       "      <td>0</td>\n",
       "      <td>0</td>\n",
       "      <td>0</td>\n",
       "      <td>0</td>\n",
       "      <td>...</td>\n",
       "      <td>0</td>\n",
       "      <td>0</td>\n",
       "      <td>0</td>\n",
       "      <td>0</td>\n",
       "      <td>0</td>\n",
       "      <td>0</td>\n",
       "      <td>0</td>\n",
       "      <td>0</td>\n",
       "      <td>0</td>\n",
       "      <td>0</td>\n",
       "    </tr>\n",
       "    <tr>\n",
       "      <th>7419</th>\n",
       "      <td>0</td>\n",
       "      <td>0</td>\n",
       "      <td>0</td>\n",
       "      <td>0</td>\n",
       "      <td>0</td>\n",
       "      <td>1</td>\n",
       "      <td>0</td>\n",
       "      <td>0</td>\n",
       "      <td>0</td>\n",
       "      <td>0</td>\n",
       "      <td>...</td>\n",
       "      <td>0</td>\n",
       "      <td>0</td>\n",
       "      <td>0</td>\n",
       "      <td>0</td>\n",
       "      <td>0</td>\n",
       "      <td>0</td>\n",
       "      <td>0</td>\n",
       "      <td>0</td>\n",
       "      <td>0</td>\n",
       "      <td>0</td>\n",
       "    </tr>\n",
       "    <tr>\n",
       "      <th>7420</th>\n",
       "      <td>1</td>\n",
       "      <td>0</td>\n",
       "      <td>0</td>\n",
       "      <td>0</td>\n",
       "      <td>0</td>\n",
       "      <td>0</td>\n",
       "      <td>0</td>\n",
       "      <td>0</td>\n",
       "      <td>0</td>\n",
       "      <td>0</td>\n",
       "      <td>...</td>\n",
       "      <td>0</td>\n",
       "      <td>0</td>\n",
       "      <td>0</td>\n",
       "      <td>0</td>\n",
       "      <td>0</td>\n",
       "      <td>0</td>\n",
       "      <td>0</td>\n",
       "      <td>0</td>\n",
       "      <td>0</td>\n",
       "      <td>0</td>\n",
       "    </tr>\n",
       "    <tr>\n",
       "      <th>7421</th>\n",
       "      <td>1</td>\n",
       "      <td>0</td>\n",
       "      <td>0</td>\n",
       "      <td>0</td>\n",
       "      <td>0</td>\n",
       "      <td>0</td>\n",
       "      <td>0</td>\n",
       "      <td>0</td>\n",
       "      <td>0</td>\n",
       "      <td>0</td>\n",
       "      <td>...</td>\n",
       "      <td>0</td>\n",
       "      <td>0</td>\n",
       "      <td>0</td>\n",
       "      <td>0</td>\n",
       "      <td>0</td>\n",
       "      <td>0</td>\n",
       "      <td>0</td>\n",
       "      <td>0</td>\n",
       "      <td>0</td>\n",
       "      <td>0</td>\n",
       "    </tr>\n",
       "  </tbody>\n",
       "</table>\n",
       "<p>7328 rows × 148 columns</p>\n",
       "</div>"
      ],
      "text/plain": [
       "      Status  Product_ID_1.0  Product_ID_2.0  Product_ID_3.0  Product_ID_4.0  \\\n",
       "18         1               0               0               0               0   \n",
       "19         1               0               0               0               0   \n",
       "24         1               0               0               0               0   \n",
       "25         0               0               0               0               0   \n",
       "26         1               0               0               0               0   \n",
       "...      ...             ...             ...             ...             ...   \n",
       "7417       0               0               0               0               0   \n",
       "7418       0               0               0               0               0   \n",
       "7419       0               0               0               0               0   \n",
       "7420       1               0               0               0               0   \n",
       "7421       1               0               0               0               0   \n",
       "\n",
       "      Product_ID_5.0  Product_ID_6.0  Product_ID_7.0  Product_ID_8.0  \\\n",
       "18                 0               0               0               0   \n",
       "19                 0               0               0               0   \n",
       "24                 0               0               0               0   \n",
       "25                 0               0               0               0   \n",
       "26                 0               0               0               0   \n",
       "...              ...             ...             ...             ...   \n",
       "7417               0               0               0               0   \n",
       "7418               0               0               0               0   \n",
       "7419               1               0               0               0   \n",
       "7420               0               0               0               0   \n",
       "7421               0               0               0               0   \n",
       "\n",
       "      Product_ID_9.0  ...  Hour_14  Hour_15  Hour_16  Hour_17  Hour_18  \\\n",
       "18                 1  ...        0        0        0        0        1   \n",
       "19                 0  ...        0        0        0        0        1   \n",
       "24                 0  ...        0        0        0        1        0   \n",
       "25                 0  ...        0        0        1        0        0   \n",
       "26                 0  ...        0        0        1        0        0   \n",
       "...              ...  ...      ...      ...      ...      ...      ...   \n",
       "7417               1  ...        0        0        0        0        0   \n",
       "7418               0  ...        0        0        0        0        0   \n",
       "7419               0  ...        0        0        0        0        0   \n",
       "7420               0  ...        0        0        0        0        0   \n",
       "7421               0  ...        0        0        0        0        0   \n",
       "\n",
       "      Hour_19  Hour_20  Hour_21  Hour_22  Hour_23  \n",
       "18          0        0        0        0        0  \n",
       "19          0        0        0        0        0  \n",
       "24          0        0        0        0        0  \n",
       "25          0        0        0        0        0  \n",
       "26          0        0        0        0        0  \n",
       "...       ...      ...      ...      ...      ...  \n",
       "7417        0        0        0        0        0  \n",
       "7418        0        0        0        0        0  \n",
       "7419        0        0        0        0        0  \n",
       "7420        0        0        0        0        0  \n",
       "7421        0        0        0        0        0  \n",
       "\n",
       "[7328 rows x 148 columns]"
      ]
     },
     "execution_count": 68,
     "metadata": {},
     "output_type": "execute_result"
    }
   ],
   "source": [
    "data"
   ]
  },
  {
   "cell_type": "markdown",
   "id": "bbf14667",
   "metadata": {},
   "source": [
    "## Handling Outliers\n",
    "Since all of our features are categorical in nature, we dont have to handle any outliers. "
   ]
  },
  {
   "cell_type": "markdown",
   "id": "3a83fc68",
   "metadata": {},
   "source": [
    "# Model Creation"
   ]
  },
  {
   "cell_type": "markdown",
   "id": "e278f64f",
   "metadata": {},
   "source": [
    "## Splitting the Dataset"
   ]
  },
  {
   "cell_type": "code",
   "execution_count": 86,
   "id": "63713981",
   "metadata": {},
   "outputs": [],
   "source": [
    "from sklearn.model_selection import train_test_split\n",
    "\n",
    "X= data.drop(\"Status\", axis=1)\n",
    "y = data.Status\n",
    "\n",
    "X_train,X_test,y_train,y_test=train_test_split(X,y,random_state=42)"
   ]
  },
  {
   "cell_type": "markdown",
   "id": "640df1a3",
   "metadata": {},
   "source": [
    "## Feature Scaling\n"
   ]
  },
  {
   "cell_type": "markdown",
   "id": "4c12ebe3",
   "metadata": {},
   "source": [
    "Since all values are from 0 to 1, we dont need to perform feature scaling."
   ]
  },
  {
   "cell_type": "markdown",
   "id": "dcf6627b",
   "metadata": {},
   "source": [
    "## Model\n"
   ]
  },
  {
   "cell_type": "code",
   "execution_count": 87,
   "id": "7737bf35",
   "metadata": {},
   "outputs": [],
   "source": [
    "from sklearn.svm import SVC\n",
    "model_1 = SVC(kernel=\"sigmoid\")\n",
    "model_1.fit(X_train,y_train)\n",
    "y_pred = model_1.predict(X_test)"
   ]
  },
  {
   "cell_type": "markdown",
   "id": "6bf34b50",
   "metadata": {},
   "source": [
    "## Model Evaluation"
   ]
  },
  {
   "cell_type": "code",
   "execution_count": 88,
   "id": "3dce2d14",
   "metadata": {},
   "outputs": [
    {
     "data": {
      "text/plain": [
       "array([[792, 270],\n",
       "       [372, 398]], dtype=int64)"
      ]
     },
     "execution_count": 88,
     "metadata": {},
     "output_type": "execute_result"
    }
   ],
   "source": [
    "from sklearn.metrics import confusion_matrix, classification_report, RocCurveDisplay, roc_curve, roc_auc_score\n",
    "cm = confusion_matrix(y_test, y_pred)\n",
    "cm"
   ]
  },
  {
   "cell_type": "code",
   "execution_count": 89,
   "id": "77fc6e22",
   "metadata": {},
   "outputs": [
    {
     "name": "stdout",
     "output_type": "stream",
     "text": [
      "The model's Recall score is 0.52.\n",
      "he model's Precision score is 0.6\n",
      "The model's f1 score is 0.55\n"
     ]
    }
   ],
   "source": [
    "from sklearn.metrics import recall_score, precision_score, f1_score\n",
    "print(f\"The model's Recall score is {round(recall_score(y_test, y_pred),2)}.\\nhe model's Precision score is {round(precision_score(y_test, y_pred),2)}\\nThe model's f1 score is {round(f1_score(y_test, y_pred),2)}\")"
   ]
  },
  {
   "cell_type": "code",
   "execution_count": 90,
   "id": "b7f6f040",
   "metadata": {},
   "outputs": [
    {
     "name": "stdout",
     "output_type": "stream",
     "text": [
      "              precision    recall  f1-score   support\n",
      "\n",
      "           0       0.68      0.75      0.71      1062\n",
      "           1       0.60      0.52      0.55       770\n",
      "\n",
      "    accuracy                           0.65      1832\n",
      "   macro avg       0.64      0.63      0.63      1832\n",
      "weighted avg       0.64      0.65      0.65      1832\n",
      "\n"
     ]
    }
   ],
   "source": [
    "print(classification_report(y_test, y_pred))"
   ]
  },
  {
   "cell_type": "markdown",
   "id": "d930dcac",
   "metadata": {},
   "source": [
    "In this use case, it is important that our recall is high. The number of false negatives i.e., a customer actually being high potential but model predicting low potential must be low. We could be linient on the False Positives i.e customer being low potential but model predicting customer to be high potential i.e. lower Precison score for higher Recall. This is because it would be more costly to the business to lose out on a high potential customer than following up with a low potential customer."
   ]
  },
  {
   "cell_type": "markdown",
   "id": "714a4718",
   "metadata": {},
   "source": [
    "From the classification report we can see that the recall is avaerage for the negative class ('0') but is extremely poor for the positive class. The accuracy and precison scores as well are poor for this SVM model. "
   ]
  },
  {
   "cell_type": "markdown",
   "id": "46dc84de",
   "metadata": {},
   "source": [
    "## Cross Validation"
   ]
  },
  {
   "cell_type": "code",
   "execution_count": 92,
   "id": "163866f8",
   "metadata": {},
   "outputs": [
    {
     "name": "stdout",
     "output_type": "stream",
     "text": [
      "[0.61616162 0.31986532 0.21885522 0.42424242 0.28956229 0.17845118\n",
      " 0.17171717 0.20538721 0.20875421 0.41554054]\n",
      "Cross validation Score: 0.30485371735371736\n",
      "Std : 0.1356850787370121\n"
     ]
    }
   ],
   "source": [
    "from sklearn.model_selection import cross_val_score\n",
    "\n",
    "crossval_score = cross_val_score(model_1,X,y,cv=10,scoring='recall')\n",
    "print(crossval_score)\n",
    "print(\"Cross validation Score:\",crossval_score.mean())\n",
    "print(\"Std :\",crossval_score.std())\n",
    "#std of < 0.05 is good. "
   ]
  },
  {
   "cell_type": "markdown",
   "id": "526365f7",
   "metadata": {},
   "source": [
    "Cross validation scores are extremely poor with an average of 0.3 with a std of 0.135. Thus this model seems unreliable and ahs a very poor performance."
   ]
  },
  {
   "cell_type": "markdown",
   "id": "934287ed",
   "metadata": {},
   "source": [
    "## Hyperparameter Tuning"
   ]
  },
  {
   "cell_type": "code",
   "execution_count": 39,
   "id": "e89482a7",
   "metadata": {},
   "outputs": [
    {
     "name": "stdout",
     "output_type": "stream",
     "text": [
      "Fitting 5 folds for each of 25 candidates, totalling 125 fits\n",
      "[CV] END .....................................C=0.1, gamma=1; total time=   6.1s\n",
      "[CV] END .....................................C=0.1, gamma=1; total time=   5.7s\n",
      "[CV] END .....................................C=0.1, gamma=1; total time=   5.5s\n",
      "[CV] END .....................................C=0.1, gamma=1; total time=   5.6s\n",
      "[CV] END .....................................C=0.1, gamma=1; total time=   5.8s\n",
      "[CV] END ...................................C=0.1, gamma=0.1; total time=   4.7s\n",
      "[CV] END ...................................C=0.1, gamma=0.1; total time=   4.5s\n",
      "[CV] END ...................................C=0.1, gamma=0.1; total time=   4.5s\n",
      "[CV] END ...................................C=0.1, gamma=0.1; total time=   5.2s\n",
      "[CV] END ...................................C=0.1, gamma=0.1; total time=   5.3s\n",
      "[CV] END ..................................C=0.1, gamma=0.01; total time=   5.7s\n",
      "[CV] END ..................................C=0.1, gamma=0.01; total time=   4.9s\n",
      "[CV] END ..................................C=0.1, gamma=0.01; total time=   4.6s\n",
      "[CV] END ..................................C=0.1, gamma=0.01; total time=   4.9s\n",
      "[CV] END ..................................C=0.1, gamma=0.01; total time=   4.8s\n",
      "[CV] END .................................C=0.1, gamma=0.001; total time=   4.9s\n",
      "[CV] END .................................C=0.1, gamma=0.001; total time=   5.1s\n",
      "[CV] END .................................C=0.1, gamma=0.001; total time=   5.8s\n",
      "[CV] END .................................C=0.1, gamma=0.001; total time=   6.7s\n",
      "[CV] END .................................C=0.1, gamma=0.001; total time=   5.6s\n",
      "[CV] END ................................C=0.1, gamma=0.0001; total time=   5.9s\n",
      "[CV] END ................................C=0.1, gamma=0.0001; total time=   5.8s\n",
      "[CV] END ................................C=0.1, gamma=0.0001; total time=   5.2s\n",
      "[CV] END ................................C=0.1, gamma=0.0001; total time=   5.4s\n",
      "[CV] END ................................C=0.1, gamma=0.0001; total time=   4.9s\n",
      "[CV] END .......................................C=1, gamma=1; total time=   5.8s\n",
      "[CV] END .......................................C=1, gamma=1; total time=   5.7s\n",
      "[CV] END .......................................C=1, gamma=1; total time=   5.6s\n",
      "[CV] END .......................................C=1, gamma=1; total time=   5.8s\n",
      "[CV] END .......................................C=1, gamma=1; total time=   5.7s\n",
      "[CV] END .....................................C=1, gamma=0.1; total time=   4.3s\n",
      "[CV] END .....................................C=1, gamma=0.1; total time=   3.8s\n",
      "[CV] END .....................................C=1, gamma=0.1; total time=   4.0s\n",
      "[CV] END .....................................C=1, gamma=0.1; total time=   4.4s\n",
      "[CV] END .....................................C=1, gamma=0.1; total time=   4.5s\n",
      "[CV] END ....................................C=1, gamma=0.01; total time=   4.4s\n",
      "[CV] END ....................................C=1, gamma=0.01; total time=   4.3s\n",
      "[CV] END ....................................C=1, gamma=0.01; total time=   4.1s\n",
      "[CV] END ....................................C=1, gamma=0.01; total time=   5.2s\n",
      "[CV] END ....................................C=1, gamma=0.01; total time=   7.6s\n",
      "[CV] END ...................................C=1, gamma=0.001; total time=   5.4s\n",
      "[CV] END ...................................C=1, gamma=0.001; total time=   4.9s\n",
      "[CV] END ...................................C=1, gamma=0.001; total time=   5.5s\n",
      "[CV] END ...................................C=1, gamma=0.001; total time=   5.3s\n",
      "[CV] END ...................................C=1, gamma=0.001; total time=   7.6s\n",
      "[CV] END ..................................C=1, gamma=0.0001; total time=   4.7s\n",
      "[CV] END ..................................C=1, gamma=0.0001; total time=   5.6s\n",
      "[CV] END ..................................C=1, gamma=0.0001; total time=   4.6s\n",
      "[CV] END ..................................C=1, gamma=0.0001; total time=   5.1s\n",
      "[CV] END ..................................C=1, gamma=0.0001; total time=   5.0s\n",
      "[CV] END ......................................C=10, gamma=1; total time=   5.8s\n",
      "[CV] END ......................................C=10, gamma=1; total time=   7.4s\n",
      "[CV] END ......................................C=10, gamma=1; total time=   6.9s\n",
      "[CV] END ......................................C=10, gamma=1; total time=   6.6s\n",
      "[CV] END ......................................C=10, gamma=1; total time=   9.1s\n",
      "[CV] END ....................................C=10, gamma=0.1; total time=   5.8s\n",
      "[CV] END ....................................C=10, gamma=0.1; total time=   6.8s\n",
      "[CV] END ....................................C=10, gamma=0.1; total time=   5.2s\n",
      "[CV] END ....................................C=10, gamma=0.1; total time=   8.3s\n",
      "[CV] END ....................................C=10, gamma=0.1; total time=   5.9s\n",
      "[CV] END ...................................C=10, gamma=0.01; total time=   4.8s\n",
      "[CV] END ...................................C=10, gamma=0.01; total time=   3.6s\n",
      "[CV] END ...................................C=10, gamma=0.01; total time=   5.7s\n",
      "[CV] END ...................................C=10, gamma=0.01; total time=   5.2s\n",
      "[CV] END ...................................C=10, gamma=0.01; total time=   5.1s\n",
      "[CV] END ..................................C=10, gamma=0.001; total time=   7.0s\n",
      "[CV] END ..................................C=10, gamma=0.001; total time=   5.5s\n",
      "[CV] END ..................................C=10, gamma=0.001; total time=   4.2s\n",
      "[CV] END ..................................C=10, gamma=0.001; total time=   5.5s\n",
      "[CV] END ..................................C=10, gamma=0.001; total time=   6.6s\n",
      "[CV] END .................................C=10, gamma=0.0001; total time=   5.6s\n",
      "[CV] END .................................C=10, gamma=0.0001; total time=   5.1s\n",
      "[CV] END .................................C=10, gamma=0.0001; total time=   7.5s\n",
      "[CV] END .................................C=10, gamma=0.0001; total time=   5.9s\n",
      "[CV] END .................................C=10, gamma=0.0001; total time=   5.9s\n",
      "[CV] END .....................................C=100, gamma=1; total time=   6.3s\n",
      "[CV] END .....................................C=100, gamma=1; total time=   6.0s\n",
      "[CV] END .....................................C=100, gamma=1; total time=   8.3s\n",
      "[CV] END .....................................C=100, gamma=1; total time=   6.2s\n",
      "[CV] END .....................................C=100, gamma=1; total time=   7.6s\n",
      "[CV] END ...................................C=100, gamma=0.1; total time=   7.7s\n",
      "[CV] END ...................................C=100, gamma=0.1; total time=   9.0s\n",
      "[CV] END ...................................C=100, gamma=0.1; total time=   5.8s\n",
      "[CV] END ...................................C=100, gamma=0.1; total time=   5.8s\n",
      "[CV] END ...................................C=100, gamma=0.1; total time=   6.6s\n",
      "[CV] END ..................................C=100, gamma=0.01; total time=   5.2s\n",
      "[CV] END ..................................C=100, gamma=0.01; total time=   5.4s\n",
      "[CV] END ..................................C=100, gamma=0.01; total time=   6.6s\n",
      "[CV] END ..................................C=100, gamma=0.01; total time=   4.7s\n",
      "[CV] END ..................................C=100, gamma=0.01; total time=   5.9s\n",
      "[CV] END .................................C=100, gamma=0.001; total time=   4.8s\n",
      "[CV] END .................................C=100, gamma=0.001; total time=   4.7s\n",
      "[CV] END .................................C=100, gamma=0.001; total time=   5.4s\n",
      "[CV] END .................................C=100, gamma=0.001; total time=   4.7s\n",
      "[CV] END .................................C=100, gamma=0.001; total time=   4.6s\n",
      "[CV] END ................................C=100, gamma=0.0001; total time=   5.0s\n",
      "[CV] END ................................C=100, gamma=0.0001; total time=   4.7s\n",
      "[CV] END ................................C=100, gamma=0.0001; total time=   6.7s\n",
      "[CV] END ................................C=100, gamma=0.0001; total time=   4.7s\n",
      "[CV] END ................................C=100, gamma=0.0001; total time=   4.8s\n",
      "[CV] END ....................................C=1000, gamma=1; total time=   6.4s\n"
     ]
    },
    {
     "name": "stdout",
     "output_type": "stream",
     "text": [
      "[CV] END ....................................C=1000, gamma=1; total time=   6.8s\n",
      "[CV] END ....................................C=1000, gamma=1; total time=   6.1s\n",
      "[CV] END ....................................C=1000, gamma=1; total time=   6.1s\n",
      "[CV] END ....................................C=1000, gamma=1; total time=   6.3s\n",
      "[CV] END ..................................C=1000, gamma=0.1; total time=   8.9s\n",
      "[CV] END ..................................C=1000, gamma=0.1; total time=   5.8s\n",
      "[CV] END ..................................C=1000, gamma=0.1; total time=   6.1s\n",
      "[CV] END ..................................C=1000, gamma=0.1; total time=   6.0s\n",
      "[CV] END ..................................C=1000, gamma=0.1; total time=   6.1s\n",
      "[CV] END .................................C=1000, gamma=0.01; total time=  15.7s\n",
      "[CV] END .................................C=1000, gamma=0.01; total time=  14.7s\n",
      "[CV] END .................................C=1000, gamma=0.01; total time=  13.6s\n",
      "[CV] END .................................C=1000, gamma=0.01; total time=  14.1s\n",
      "[CV] END .................................C=1000, gamma=0.01; total time=  17.6s\n",
      "[CV] END ................................C=1000, gamma=0.001; total time=   5.7s\n",
      "[CV] END ................................C=1000, gamma=0.001; total time=   5.0s\n",
      "[CV] END ................................C=1000, gamma=0.001; total time=   7.1s\n",
      "[CV] END ................................C=1000, gamma=0.001; total time=   5.3s\n",
      "[CV] END ................................C=1000, gamma=0.001; total time=   5.7s\n",
      "[CV] END ...............................C=1000, gamma=0.0001; total time=   5.8s\n",
      "[CV] END ...............................C=1000, gamma=0.0001; total time=   5.4s\n",
      "[CV] END ...............................C=1000, gamma=0.0001; total time=   3.9s\n",
      "[CV] END ...............................C=1000, gamma=0.0001; total time=   4.7s\n",
      "[CV] END ...............................C=1000, gamma=0.0001; total time=   6.2s\n",
      "{'C': 1000, 'gamma': 0.01}\n"
     ]
    }
   ],
   "source": [
    "from sklearn.model_selection import GridSearchCV\n",
    "  \n",
    "# defining parameter range\n",
    "param_grid = {'C': [0.1, 1, 10, 100, 1000], \n",
    "              'gamma': [1, 0.1, 0.01, 0.001, 0.0001]} \n",
    "model=SVC()\n",
    "grid = GridSearchCV(model, param_grid, refit = True, verbose = 2,scoring='recall',cv=5)\n",
    "  \n",
    "# fitting the model for grid search\n",
    "grid.fit(X,y)\n",
    "# print best parameter after tuning\n",
    "print(grid.best_params_)"
   ]
  },
  {
   "cell_type": "markdown",
   "id": "b130b81a",
   "metadata": {},
   "source": [
    "Hyper parameter tuning gave best params as {'C': 1000, 'gamma': 0.01}. Creating a model with these parameters as follows-"
   ]
  },
  {
   "cell_type": "code",
   "execution_count": 93,
   "id": "6bb40251",
   "metadata": {},
   "outputs": [],
   "source": [
    "from sklearn.svm import SVC\n",
    "model_1 = SVC(kernel=\"sigmoid\", C= 1000, gamma= 0.01 )\n",
    "model_1.fit(X_train,y_train)\n",
    "y_pred = model_1.predict(X_test)"
   ]
  },
  {
   "cell_type": "code",
   "execution_count": 96,
   "id": "bc1ac11c",
   "metadata": {},
   "outputs": [
    {
     "name": "stdout",
     "output_type": "stream",
     "text": [
      "[[821 241]\n",
      " [373 397]]\n",
      "The model's Recall score is 0.52.\n",
      "The model's Precision score is 0.62\n",
      "The model's f1 score is 0.56\n",
      "              precision    recall  f1-score   support\n",
      "\n",
      "           0       0.69      0.77      0.73      1062\n",
      "           1       0.62      0.52      0.56       770\n",
      "\n",
      "    accuracy                           0.66      1832\n",
      "   macro avg       0.65      0.64      0.65      1832\n",
      "weighted avg       0.66      0.66      0.66      1832\n",
      "\n"
     ]
    }
   ],
   "source": [
    "cm = confusion_matrix(y_test, y_pred)\n",
    "print(cm)\n",
    "print(f\"The model's Recall score is {round(recall_score(y_test, y_pred),2)}.\\nThe model's Precision score is {round(precision_score(y_test, y_pred),2)}\\nThe model's f1 score is {round(f1_score(y_test, y_pred),2)}\")\n",
    "print(classification_report(y_test, y_pred))"
   ]
  },
  {
   "cell_type": "markdown",
   "id": "5488a79e",
   "metadata": {},
   "source": [
    "Hyperparameter tuning shows no significant changes in the recall, precision and accuracy scores."
   ]
  },
  {
   "cell_type": "markdown",
   "id": "6827efbc",
   "metadata": {},
   "source": [
    "## Conclusion\n",
    "This model was not selected as our final model becuase it performed poorly on recall and even after hyperparameter tuning therre was no significant change in the evaluation metrics. Moreover cross validation scores revealed that the model's scores were poor and unreliable. "
   ]
  },
  {
   "cell_type": "code",
   "execution_count": null,
   "id": "8625ad3b",
   "metadata": {},
   "outputs": [],
   "source": []
  }
 ],
 "metadata": {
  "kernelspec": {
   "display_name": "Python 3 (ipykernel)",
   "language": "python",
   "name": "python3"
  },
  "language_info": {
   "codemirror_mode": {
    "name": "ipython",
    "version": 3
   },
   "file_extension": ".py",
   "mimetype": "text/x-python",
   "name": "python",
   "nbconvert_exporter": "python",
   "pygments_lexer": "ipython3",
   "version": "3.9.7"
  }
 },
 "nbformat": 4,
 "nbformat_minor": 5
}
