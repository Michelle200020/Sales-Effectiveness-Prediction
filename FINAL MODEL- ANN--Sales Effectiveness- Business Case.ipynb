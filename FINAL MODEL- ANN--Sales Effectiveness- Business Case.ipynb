{
 "cells": [
  {
   "cell_type": "markdown",
   "id": "7f8078ef",
   "metadata": {},
   "source": [
    "# Business Case\n",
    "### Generating Data Exploration insights for sales effectiveness and creating an ML model to predict lead quality for FicZon Inc, an IT solutions provider. The main task is to help the company increase sales effectiveness by automating the categorisation of lead quality by using machine learning technology. This is a binary classification task that involves prediction of whether lead quality is high or low potential. "
   ]
  },
  {
   "cell_type": "markdown",
   "id": "44a85f87",
   "metadata": {},
   "source": [
    "# Importing the Libraries"
   ]
  },
  {
   "cell_type": "code",
   "execution_count": 1,
   "id": "be9cf570",
   "metadata": {},
   "outputs": [],
   "source": [
    "import numpy as np\n",
    "import pandas as pd\n",
    "import seaborn as sns\n",
    "import matplotlib.pyplot as plt\n",
    "%matplotlib inline\n",
    "\n",
    "import warnings\n",
    "warnings.filterwarnings('ignore')"
   ]
  },
  {
   "cell_type": "markdown",
   "id": "a92a31d7",
   "metadata": {},
   "source": [
    "# Querying Data from the SQL Database"
   ]
  },
  {
   "cell_type": "code",
   "execution_count": 57,
   "id": "5d7e8af8",
   "metadata": {},
   "outputs": [
    {
     "name": "stdout",
     "output_type": "stream",
     "text": [
      "Requirement already satisfied: pymysql in d:\\anaconda\\lib\\site-packages (1.0.2)\n",
      "Requirement already satisfied: mysql-connector in d:\\anaconda\\lib\\site-packages (2.2.9)\n"
     ]
    }
   ],
   "source": [
    "# PyMySQL is an interface for connecting to a MySQL database server from Python\n",
    "!pip install pymysql\n",
    "\n",
    "# MySQL driver written in Python \n",
    "!pip install mysql-connector"
   ]
  },
  {
   "cell_type": "code",
   "execution_count": 58,
   "id": "018a24be",
   "metadata": {},
   "outputs": [],
   "source": [
    "import mysql.connector"
   ]
  },
  {
   "cell_type": "code",
   "execution_count": 59,
   "id": "9b3af807",
   "metadata": {},
   "outputs": [],
   "source": [
    "# making connections to database server\n",
    "connection=mysql.connector.connect(host = '18.136.157.135',\n",
    "                                  user=' dm_team2',\n",
    "                                  password='DM!$Team&27@9!20!')"
   ]
  },
  {
   "cell_type": "code",
   "execution_count": 60,
   "id": "b9cf059a",
   "metadata": {},
   "outputs": [
    {
     "name": "stdout",
     "output_type": "stream",
     "text": [
      "('information_schema',)\n",
      "('project_sales',)\n"
     ]
    }
   ],
   "source": [
    "## Check the number of databases available on the server\n",
    "cursor=connection.cursor()\n",
    "cursor.execute('show databases')\n",
    "for i in cursor:\n",
    "    print(i)"
   ]
  },
  {
   "cell_type": "code",
   "execution_count": 61,
   "id": "5a27b7cb",
   "metadata": {},
   "outputs": [],
   "source": [
    "# connecting to the database\n",
    "connection=mysql.connector.connect(host = '18.136.157.135',\n",
    "                                  user=' dm_team2',\n",
    "                                  password='DM!$Team&27@9!20!',\n",
    "                                  database='project_sales')"
   ]
  },
  {
   "cell_type": "code",
   "execution_count": 62,
   "id": "41e6f110",
   "metadata": {},
   "outputs": [
    {
     "name": "stdout",
     "output_type": "stream",
     "text": [
      "  Tables_in_project_sales\n",
      "0                    data\n"
     ]
    }
   ],
   "source": [
    "db_tables=pd.read_sql_query('show tables',connection)\n",
    "print(db_tables)\n",
    "# The project sales database contains only one table"
   ]
  },
  {
   "cell_type": "code",
   "execution_count": 63,
   "id": "289b5a10",
   "metadata": {},
   "outputs": [
    {
     "data": {
      "text/html": [
       "<div>\n",
       "<style scoped>\n",
       "    .dataframe tbody tr th:only-of-type {\n",
       "        vertical-align: middle;\n",
       "    }\n",
       "\n",
       "    .dataframe tbody tr th {\n",
       "        vertical-align: top;\n",
       "    }\n",
       "\n",
       "    .dataframe thead th {\n",
       "        text-align: right;\n",
       "    }\n",
       "</style>\n",
       "<table border=\"1\" class=\"dataframe\">\n",
       "  <thead>\n",
       "    <tr style=\"text-align: right;\">\n",
       "      <th></th>\n",
       "      <th>Created</th>\n",
       "      <th>Product_ID</th>\n",
       "      <th>Source</th>\n",
       "      <th>Mobile</th>\n",
       "      <th>EMAIL</th>\n",
       "      <th>Sales_Agent</th>\n",
       "      <th>Location</th>\n",
       "      <th>Delivery_Mode</th>\n",
       "      <th>Status</th>\n",
       "    </tr>\n",
       "  </thead>\n",
       "  <tbody>\n",
       "    <tr>\n",
       "      <th>0</th>\n",
       "      <td>14-11-2018 10:05</td>\n",
       "      <td></td>\n",
       "      <td>Website</td>\n",
       "      <td>984XXXXXXX</td>\n",
       "      <td>aXXXXXXX@gmail.com</td>\n",
       "      <td>Sales-Agent-11</td>\n",
       "      <td></td>\n",
       "      <td>Mode-5</td>\n",
       "      <td>Open</td>\n",
       "    </tr>\n",
       "    <tr>\n",
       "      <th>1</th>\n",
       "      <td>14-11-2018 09:22</td>\n",
       "      <td></td>\n",
       "      <td>Website</td>\n",
       "      <td>XXXXXXX</td>\n",
       "      <td>#VALUE!</td>\n",
       "      <td>Sales-Agent-10</td>\n",
       "      <td></td>\n",
       "      <td>Mode-5</td>\n",
       "      <td>Open</td>\n",
       "    </tr>\n",
       "    <tr>\n",
       "      <th>2</th>\n",
       "      <td>14-11-2018 09:21</td>\n",
       "      <td></td>\n",
       "      <td>Website</td>\n",
       "      <td>XXXXXXX</td>\n",
       "      <td>dXXXXXXX@yahoo.com</td>\n",
       "      <td>Sales-Agent-10</td>\n",
       "      <td></td>\n",
       "      <td>Mode-5</td>\n",
       "      <td>Open</td>\n",
       "    </tr>\n",
       "    <tr>\n",
       "      <th>3</th>\n",
       "      <td>14-11-2018 08:46</td>\n",
       "      <td></td>\n",
       "      <td>Website</td>\n",
       "      <td>XXXXXXX</td>\n",
       "      <td>wXXXXXXX@gmail.com</td>\n",
       "      <td>Sales-Agent-10</td>\n",
       "      <td></td>\n",
       "      <td>Mode-5</td>\n",
       "      <td>Open</td>\n",
       "    </tr>\n",
       "    <tr>\n",
       "      <th>4</th>\n",
       "      <td>14-11-2018 07:34</td>\n",
       "      <td></td>\n",
       "      <td>Website</td>\n",
       "      <td>XXXXXXX</td>\n",
       "      <td>cXXXXXXX@gmail.com</td>\n",
       "      <td>Sales-Agent-10</td>\n",
       "      <td></td>\n",
       "      <td>Mode-5</td>\n",
       "      <td>Open</td>\n",
       "    </tr>\n",
       "    <tr>\n",
       "      <th>...</th>\n",
       "      <td>...</td>\n",
       "      <td>...</td>\n",
       "      <td>...</td>\n",
       "      <td>...</td>\n",
       "      <td>...</td>\n",
       "      <td>...</td>\n",
       "      <td>...</td>\n",
       "      <td>...</td>\n",
       "      <td>...</td>\n",
       "    </tr>\n",
       "    <tr>\n",
       "      <th>7417</th>\n",
       "      <td>28-04-2018 09:45</td>\n",
       "      <td>9</td>\n",
       "      <td>Call</td>\n",
       "      <td></td>\n",
       "      <td>aXXXXXXX@gmail.com</td>\n",
       "      <td>Sales-Agent-6</td>\n",
       "      <td>Mumbai</td>\n",
       "      <td>Mode-4</td>\n",
       "      <td>LOST</td>\n",
       "    </tr>\n",
       "    <tr>\n",
       "      <th>7418</th>\n",
       "      <td>28-04-2018 09:43</td>\n",
       "      <td>15</td>\n",
       "      <td>Call</td>\n",
       "      <td></td>\n",
       "      <td>#VALUE!</td>\n",
       "      <td>Sales-Agent-12</td>\n",
       "      <td>Other Locations</td>\n",
       "      <td>Mode-5</td>\n",
       "      <td>LOST</td>\n",
       "    </tr>\n",
       "    <tr>\n",
       "      <th>7419</th>\n",
       "      <td>28-04-2018 09:20</td>\n",
       "      <td>5</td>\n",
       "      <td>Live Chat-Direct</td>\n",
       "      <td></td>\n",
       "      <td>sXXXXXXX@gmail.com</td>\n",
       "      <td>Sales-Agent-11</td>\n",
       "      <td>Bangalore</td>\n",
       "      <td>Mode-1</td>\n",
       "      <td>Not Responding</td>\n",
       "    </tr>\n",
       "    <tr>\n",
       "      <th>7420</th>\n",
       "      <td>28-04-2018 08:04</td>\n",
       "      <td>21</td>\n",
       "      <td>CRM form</td>\n",
       "      <td></td>\n",
       "      <td>YXXXXXXX@gmail.com</td>\n",
       "      <td>Sales-Agent-4</td>\n",
       "      <td>Other Locations</td>\n",
       "      <td>Mode-1</td>\n",
       "      <td>Just Enquiry</td>\n",
       "    </tr>\n",
       "    <tr>\n",
       "      <th>7421</th>\n",
       "      <td>28-04-2018 07:54</td>\n",
       "      <td>25</td>\n",
       "      <td>Website</td>\n",
       "      <td></td>\n",
       "      <td>cXXXXXXX@gmail.com</td>\n",
       "      <td>Sales-Agent-3</td>\n",
       "      <td>Chennai</td>\n",
       "      <td>Mode-1</td>\n",
       "      <td>CONVERTED</td>\n",
       "    </tr>\n",
       "  </tbody>\n",
       "</table>\n",
       "<p>7422 rows × 9 columns</p>\n",
       "</div>"
      ],
      "text/plain": [
       "               Created Product_ID            Source      Mobile  \\\n",
       "0     14-11-2018 10:05                      Website  984XXXXXXX   \n",
       "1     14-11-2018 09:22                      Website     XXXXXXX   \n",
       "2     14-11-2018 09:21                      Website     XXXXXXX   \n",
       "3     14-11-2018 08:46                      Website     XXXXXXX   \n",
       "4     14-11-2018 07:34                      Website     XXXXXXX   \n",
       "...                ...        ...               ...         ...   \n",
       "7417  28-04-2018 09:45          9              Call               \n",
       "7418  28-04-2018 09:43         15              Call               \n",
       "7419  28-04-2018 09:20          5  Live Chat-Direct               \n",
       "7420  28-04-2018 08:04         21          CRM form               \n",
       "7421  28-04-2018 07:54         25           Website               \n",
       "\n",
       "                   EMAIL     Sales_Agent         Location Delivery_Mode  \\\n",
       "0     aXXXXXXX@gmail.com  Sales-Agent-11                         Mode-5   \n",
       "1                #VALUE!  Sales-Agent-10                         Mode-5   \n",
       "2     dXXXXXXX@yahoo.com  Sales-Agent-10                         Mode-5   \n",
       "3     wXXXXXXX@gmail.com  Sales-Agent-10                         Mode-5   \n",
       "4     cXXXXXXX@gmail.com  Sales-Agent-10                         Mode-5   \n",
       "...                  ...             ...              ...           ...   \n",
       "7417  aXXXXXXX@gmail.com   Sales-Agent-6           Mumbai        Mode-4   \n",
       "7418             #VALUE!  Sales-Agent-12  Other Locations        Mode-5   \n",
       "7419  sXXXXXXX@gmail.com  Sales-Agent-11        Bangalore        Mode-1   \n",
       "7420  YXXXXXXX@gmail.com   Sales-Agent-4  Other Locations        Mode-1   \n",
       "7421  cXXXXXXX@gmail.com   Sales-Agent-3          Chennai        Mode-1   \n",
       "\n",
       "              Status  \n",
       "0               Open  \n",
       "1               Open  \n",
       "2               Open  \n",
       "3               Open  \n",
       "4               Open  \n",
       "...              ...  \n",
       "7417            LOST  \n",
       "7418            LOST  \n",
       "7419  Not Responding  \n",
       "7420    Just Enquiry  \n",
       "7421       CONVERTED  \n",
       "\n",
       "[7422 rows x 9 columns]"
      ]
     },
     "execution_count": 63,
     "metadata": {},
     "output_type": "execute_result"
    }
   ],
   "source": [
    "#Displaying the details of the data table\n",
    "query = \"select * from data\" # SQL statement for selecting all rows and columns from the table\n",
    "data = pd.read_sql(query,connection)\n",
    "data"
   ]
  },
  {
   "cell_type": "code",
   "execution_count": 64,
   "id": "68bcfe95",
   "metadata": {},
   "outputs": [],
   "source": [
    "# Converting datafrom table to csv file\n",
    "data.to_csv(\"project_sales_data.csv\")"
   ]
  },
  {
   "cell_type": "markdown",
   "id": "799f0189",
   "metadata": {},
   "source": [
    "# Importing the data"
   ]
  },
  {
   "cell_type": "code",
   "execution_count": 2,
   "id": "bf3c6064",
   "metadata": {},
   "outputs": [
    {
     "data": {
      "text/html": [
       "<div>\n",
       "<style scoped>\n",
       "    .dataframe tbody tr th:only-of-type {\n",
       "        vertical-align: middle;\n",
       "    }\n",
       "\n",
       "    .dataframe tbody tr th {\n",
       "        vertical-align: top;\n",
       "    }\n",
       "\n",
       "    .dataframe thead th {\n",
       "        text-align: right;\n",
       "    }\n",
       "</style>\n",
       "<table border=\"1\" class=\"dataframe\">\n",
       "  <thead>\n",
       "    <tr style=\"text-align: right;\">\n",
       "      <th></th>\n",
       "      <th>Unnamed: 0</th>\n",
       "      <th>Created</th>\n",
       "      <th>Product_ID</th>\n",
       "      <th>Source</th>\n",
       "      <th>Mobile</th>\n",
       "      <th>EMAIL</th>\n",
       "      <th>Sales_Agent</th>\n",
       "      <th>Location</th>\n",
       "      <th>Delivery_Mode</th>\n",
       "      <th>Status</th>\n",
       "    </tr>\n",
       "  </thead>\n",
       "  <tbody>\n",
       "    <tr>\n",
       "      <th>0</th>\n",
       "      <td>0</td>\n",
       "      <td>14-11-2018 10:05</td>\n",
       "      <td>NaN</td>\n",
       "      <td>Website</td>\n",
       "      <td>984XXXXXXX</td>\n",
       "      <td>aXXXXXXX@gmail.com</td>\n",
       "      <td>Sales-Agent-11</td>\n",
       "      <td>NaN</td>\n",
       "      <td>Mode-5</td>\n",
       "      <td>Open</td>\n",
       "    </tr>\n",
       "    <tr>\n",
       "      <th>1</th>\n",
       "      <td>1</td>\n",
       "      <td>14-11-2018 09:22</td>\n",
       "      <td>NaN</td>\n",
       "      <td>Website</td>\n",
       "      <td>XXXXXXX</td>\n",
       "      <td>#VALUE!</td>\n",
       "      <td>Sales-Agent-10</td>\n",
       "      <td>NaN</td>\n",
       "      <td>Mode-5</td>\n",
       "      <td>Open</td>\n",
       "    </tr>\n",
       "    <tr>\n",
       "      <th>2</th>\n",
       "      <td>2</td>\n",
       "      <td>14-11-2018 09:21</td>\n",
       "      <td>NaN</td>\n",
       "      <td>Website</td>\n",
       "      <td>XXXXXXX</td>\n",
       "      <td>dXXXXXXX@yahoo.com</td>\n",
       "      <td>Sales-Agent-10</td>\n",
       "      <td>NaN</td>\n",
       "      <td>Mode-5</td>\n",
       "      <td>Open</td>\n",
       "    </tr>\n",
       "    <tr>\n",
       "      <th>3</th>\n",
       "      <td>3</td>\n",
       "      <td>14-11-2018 08:46</td>\n",
       "      <td>NaN</td>\n",
       "      <td>Website</td>\n",
       "      <td>XXXXXXX</td>\n",
       "      <td>wXXXXXXX@gmail.com</td>\n",
       "      <td>Sales-Agent-10</td>\n",
       "      <td>NaN</td>\n",
       "      <td>Mode-5</td>\n",
       "      <td>Open</td>\n",
       "    </tr>\n",
       "    <tr>\n",
       "      <th>4</th>\n",
       "      <td>4</td>\n",
       "      <td>14-11-2018 07:34</td>\n",
       "      <td>NaN</td>\n",
       "      <td>Website</td>\n",
       "      <td>XXXXXXX</td>\n",
       "      <td>cXXXXXXX@gmail.com</td>\n",
       "      <td>Sales-Agent-10</td>\n",
       "      <td>NaN</td>\n",
       "      <td>Mode-5</td>\n",
       "      <td>Open</td>\n",
       "    </tr>\n",
       "  </tbody>\n",
       "</table>\n",
       "</div>"
      ],
      "text/plain": [
       "   Unnamed: 0           Created  Product_ID   Source      Mobile  \\\n",
       "0           0  14-11-2018 10:05         NaN  Website  984XXXXXXX   \n",
       "1           1  14-11-2018 09:22         NaN  Website     XXXXXXX   \n",
       "2           2  14-11-2018 09:21         NaN  Website     XXXXXXX   \n",
       "3           3  14-11-2018 08:46         NaN  Website     XXXXXXX   \n",
       "4           4  14-11-2018 07:34         NaN  Website     XXXXXXX   \n",
       "\n",
       "                EMAIL     Sales_Agent Location Delivery_Mode Status  \n",
       "0  aXXXXXXX@gmail.com  Sales-Agent-11      NaN        Mode-5   Open  \n",
       "1             #VALUE!  Sales-Agent-10      NaN        Mode-5   Open  \n",
       "2  dXXXXXXX@yahoo.com  Sales-Agent-10      NaN        Mode-5   Open  \n",
       "3  wXXXXXXX@gmail.com  Sales-Agent-10      NaN        Mode-5   Open  \n",
       "4  cXXXXXXX@gmail.com  Sales-Agent-10      NaN        Mode-5   Open  "
      ]
     },
     "execution_count": 2,
     "metadata": {},
     "output_type": "execute_result"
    }
   ],
   "source": [
    "data = pd.read_csv(\"project_sales_data.csv\")\n",
    "data.head()"
   ]
  },
  {
   "cell_type": "code",
   "execution_count": 3,
   "id": "d5332d3b",
   "metadata": {},
   "outputs": [],
   "source": [
    "data.drop(\"Unnamed: 0\", axis=1, inplace=True)"
   ]
  },
  {
   "cell_type": "code",
   "execution_count": 4,
   "id": "ab546506",
   "metadata": {},
   "outputs": [
    {
     "name": "stdout",
     "output_type": "stream",
     "text": [
      "<class 'pandas.core.frame.DataFrame'>\n",
      "RangeIndex: 7422 entries, 0 to 7421\n",
      "Data columns (total 9 columns):\n",
      " #   Column         Non-Null Count  Dtype  \n",
      "---  ------         --------------  -----  \n",
      " 0   Created        7422 non-null   object \n",
      " 1   Product_ID     7364 non-null   float64\n",
      " 2   Source         7405 non-null   object \n",
      " 3   Mobile         5612 non-null   object \n",
      " 4   EMAIL          7422 non-null   object \n",
      " 5   Sales_Agent    7399 non-null   object \n",
      " 6   Location       7364 non-null   object \n",
      " 7   Delivery_Mode  7422 non-null   object \n",
      " 8   Status         7422 non-null   object \n",
      "dtypes: float64(1), object(8)\n",
      "memory usage: 522.0+ KB\n"
     ]
    }
   ],
   "source": [
    "data.info()\n"
   ]
  },
  {
   "cell_type": "code",
   "execution_count": 5,
   "id": "1dc05d22",
   "metadata": {},
   "outputs": [
    {
     "data": {
      "text/html": [
       "<div>\n",
       "<style scoped>\n",
       "    .dataframe tbody tr th:only-of-type {\n",
       "        vertical-align: middle;\n",
       "    }\n",
       "\n",
       "    .dataframe tbody tr th {\n",
       "        vertical-align: top;\n",
       "    }\n",
       "\n",
       "    .dataframe thead th {\n",
       "        text-align: right;\n",
       "    }\n",
       "</style>\n",
       "<table border=\"1\" class=\"dataframe\">\n",
       "  <thead>\n",
       "    <tr style=\"text-align: right;\">\n",
       "      <th></th>\n",
       "      <th>Created</th>\n",
       "      <th>Source</th>\n",
       "      <th>Mobile</th>\n",
       "      <th>EMAIL</th>\n",
       "      <th>Sales_Agent</th>\n",
       "      <th>Location</th>\n",
       "      <th>Delivery_Mode</th>\n",
       "      <th>Status</th>\n",
       "    </tr>\n",
       "  </thead>\n",
       "  <tbody>\n",
       "    <tr>\n",
       "      <th>count</th>\n",
       "      <td>7422</td>\n",
       "      <td>7405</td>\n",
       "      <td>5612</td>\n",
       "      <td>7422</td>\n",
       "      <td>7399</td>\n",
       "      <td>7364</td>\n",
       "      <td>7422</td>\n",
       "      <td>7422</td>\n",
       "    </tr>\n",
       "    <tr>\n",
       "      <th>unique</th>\n",
       "      <td>6752</td>\n",
       "      <td>25</td>\n",
       "      <td>486</td>\n",
       "      <td>883</td>\n",
       "      <td>12</td>\n",
       "      <td>17</td>\n",
       "      <td>5</td>\n",
       "      <td>11</td>\n",
       "    </tr>\n",
       "    <tr>\n",
       "      <th>top</th>\n",
       "      <td>26-09-2018 11:30</td>\n",
       "      <td>Call</td>\n",
       "      <td>XXXXXXX</td>\n",
       "      <td>#VALUE!</td>\n",
       "      <td>Sales-Agent-4</td>\n",
       "      <td>Other Locations</td>\n",
       "      <td>Mode-5</td>\n",
       "      <td>Junk Lead</td>\n",
       "    </tr>\n",
       "    <tr>\n",
       "      <th>freq</th>\n",
       "      <td>4</td>\n",
       "      <td>2547</td>\n",
       "      <td>222</td>\n",
       "      <td>1701</td>\n",
       "      <td>1500</td>\n",
       "      <td>2500</td>\n",
       "      <td>2975</td>\n",
       "      <td>1536</td>\n",
       "    </tr>\n",
       "  </tbody>\n",
       "</table>\n",
       "</div>"
      ],
      "text/plain": [
       "                 Created Source   Mobile    EMAIL    Sales_Agent  \\\n",
       "count               7422   7405     5612     7422           7399   \n",
       "unique              6752     25      486      883             12   \n",
       "top     26-09-2018 11:30   Call  XXXXXXX  #VALUE!  Sales-Agent-4   \n",
       "freq                   4   2547      222     1701           1500   \n",
       "\n",
       "               Location Delivery_Mode     Status  \n",
       "count              7364          7422       7422  \n",
       "unique               17             5         11  \n",
       "top     Other Locations        Mode-5  Junk Lead  \n",
       "freq               2500          2975       1536  "
      ]
     },
     "execution_count": 5,
     "metadata": {},
     "output_type": "execute_result"
    }
   ],
   "source": [
    "data.describe(include=\"O\")"
   ]
  },
  {
   "cell_type": "markdown",
   "id": "a8c9d889",
   "metadata": {},
   "source": [
    "- The dataset contains 7422 entries with 10 columns- 1 numeric and 9 categorical.\n",
    "- The \"Created\" column is a date time stamp which could be converted into a more usable form like day, month, hour columns etc.\n",
    "- The 'Mobile' column has many unique values and isn't much useful since most numbers are hidden for privacy purposes. This columns has some missing values. \n",
    "- The 'EMAIL' column is also a unique value column where all details except the first and last 10 charachters of the email id are hidden. We could however extract the internet domain extensions of the email id and maybe get some insights through it.This columns has some missing values hidden under the label '#VALUE!' which shows that the email id for that entry is missing. \n",
    "- The status column contains 11 different labels which has to categorized into high or low potential labels which would serve as our target variable. "
   ]
  },
  {
   "cell_type": "markdown",
   "id": "b35260c8",
   "metadata": {},
   "source": [
    "# Domain Analysis"
   ]
  },
  {
   "cell_type": "markdown",
   "id": "f68d7113",
   "metadata": {},
   "source": [
    "### Created\n",
    "This feature gives us details about the date and time the order was generated. This feature could give interesting insights on certain days, months or time of the days when orders are more or less etc.\n",
    "\n",
    "### Product_ID\n",
    "This features gives us the ID of the IT product ordered by the customer.  \n",
    "\n",
    "### Source\n",
    "This feature tells us the the mode in which the customer placed the order such as website, call, live-chat direct.\n",
    "\n",
    "### Mobile\n",
    "The contact number of the customer. \n",
    "\n",
    "### Email \n",
    "The email id if the business/customer.\n",
    "\n",
    "### Sales_Agent\n",
    "The sales agent who was responsible for that sales if the product to the customer. Therer are 12 different sales agents. \n",
    "\n",
    "### Location\n",
    "The location of the customer- domestic or international. There are 17 different locations. \n",
    "\n",
    "### Delivery_Mode\n",
    "The mode of delivery of the product. There are 5 types of modes.\n",
    "\n",
    "### Status\n",
    "The current status of the customer's order. "
   ]
  },
  {
   "cell_type": "markdown",
   "id": "a86668ad",
   "metadata": {},
   "source": [
    "# Data Preparation"
   ]
  },
  {
   "cell_type": "markdown",
   "id": "6bab3fca",
   "metadata": {},
   "source": [
    "- This preprocessing step involves the manipulation and consolidation of raw data  into a standardized format so that it can be used in a model. This would include feature creation, cleaning data, data augmentation, transformations etc.\n",
    "- In this case, we need to convert the date and time related columns into a format which can be used for analysis and be understood by the model. \n",
    "- We also need to create the new target variable. "
   ]
  },
  {
   "cell_type": "markdown",
   "id": "9d7cd691",
   "metadata": {},
   "source": [
    "## Creation of DateTime columns"
   ]
  },
  {
   "cell_type": "code",
   "execution_count": 9,
   "id": "9971468e",
   "metadata": {},
   "outputs": [
    {
     "name": "stdout",
     "output_type": "stream",
     "text": [
      "<class 'pandas.core.frame.DataFrame'>\n",
      "RangeIndex: 7422 entries, 0 to 7421\n",
      "Data columns (total 9 columns):\n",
      " #   Column         Non-Null Count  Dtype         \n",
      "---  ------         --------------  -----         \n",
      " 0   Created        7422 non-null   datetime64[ns]\n",
      " 1   Product_ID     7364 non-null   float64       \n",
      " 2   Source         7405 non-null   object        \n",
      " 3   Mobile         5612 non-null   object        \n",
      " 4   EMAIL          7422 non-null   object        \n",
      " 5   Sales_Agent    7399 non-null   object        \n",
      " 6   Location       7364 non-null   object        \n",
      " 7   Delivery_Mode  7422 non-null   object        \n",
      " 8   Status         7422 non-null   object        \n",
      "dtypes: datetime64[ns](1), float64(1), object(7)\n",
      "memory usage: 522.0+ KB\n"
     ]
    }
   ],
   "source": [
    "data[\"Created\"] = pd.to_datetime(data[\"Created\"])\n",
    "data.info()"
   ]
  },
  {
   "cell_type": "code",
   "execution_count": 10,
   "id": "2403af9e",
   "metadata": {},
   "outputs": [
    {
     "data": {
      "text/html": [
       "<div>\n",
       "<style scoped>\n",
       "    .dataframe tbody tr th:only-of-type {\n",
       "        vertical-align: middle;\n",
       "    }\n",
       "\n",
       "    .dataframe tbody tr th {\n",
       "        vertical-align: top;\n",
       "    }\n",
       "\n",
       "    .dataframe thead th {\n",
       "        text-align: right;\n",
       "    }\n",
       "</style>\n",
       "<table border=\"1\" class=\"dataframe\">\n",
       "  <thead>\n",
       "    <tr style=\"text-align: right;\">\n",
       "      <th></th>\n",
       "      <th>Created</th>\n",
       "      <th>Product_ID</th>\n",
       "      <th>Source</th>\n",
       "      <th>Mobile</th>\n",
       "      <th>EMAIL</th>\n",
       "      <th>Sales_Agent</th>\n",
       "      <th>Location</th>\n",
       "      <th>Delivery_Mode</th>\n",
       "      <th>Status</th>\n",
       "      <th>Weekday</th>\n",
       "      <th>Month</th>\n",
       "      <th>Day</th>\n",
       "      <th>Hour</th>\n",
       "    </tr>\n",
       "  </thead>\n",
       "  <tbody>\n",
       "    <tr>\n",
       "      <th>0</th>\n",
       "      <td>2018-11-14 10:05:00</td>\n",
       "      <td>NaN</td>\n",
       "      <td>Website</td>\n",
       "      <td>984XXXXXXX</td>\n",
       "      <td>aXXXXXXX@gmail.com</td>\n",
       "      <td>Sales-Agent-11</td>\n",
       "      <td>NaN</td>\n",
       "      <td>Mode-5</td>\n",
       "      <td>Open</td>\n",
       "      <td>2</td>\n",
       "      <td>11</td>\n",
       "      <td>14</td>\n",
       "      <td>10</td>\n",
       "    </tr>\n",
       "    <tr>\n",
       "      <th>1</th>\n",
       "      <td>2018-11-14 09:22:00</td>\n",
       "      <td>NaN</td>\n",
       "      <td>Website</td>\n",
       "      <td>XXXXXXX</td>\n",
       "      <td>#VALUE!</td>\n",
       "      <td>Sales-Agent-10</td>\n",
       "      <td>NaN</td>\n",
       "      <td>Mode-5</td>\n",
       "      <td>Open</td>\n",
       "      <td>2</td>\n",
       "      <td>11</td>\n",
       "      <td>14</td>\n",
       "      <td>9</td>\n",
       "    </tr>\n",
       "    <tr>\n",
       "      <th>2</th>\n",
       "      <td>2018-11-14 09:21:00</td>\n",
       "      <td>NaN</td>\n",
       "      <td>Website</td>\n",
       "      <td>XXXXXXX</td>\n",
       "      <td>dXXXXXXX@yahoo.com</td>\n",
       "      <td>Sales-Agent-10</td>\n",
       "      <td>NaN</td>\n",
       "      <td>Mode-5</td>\n",
       "      <td>Open</td>\n",
       "      <td>2</td>\n",
       "      <td>11</td>\n",
       "      <td>14</td>\n",
       "      <td>9</td>\n",
       "    </tr>\n",
       "    <tr>\n",
       "      <th>3</th>\n",
       "      <td>2018-11-14 08:46:00</td>\n",
       "      <td>NaN</td>\n",
       "      <td>Website</td>\n",
       "      <td>XXXXXXX</td>\n",
       "      <td>wXXXXXXX@gmail.com</td>\n",
       "      <td>Sales-Agent-10</td>\n",
       "      <td>NaN</td>\n",
       "      <td>Mode-5</td>\n",
       "      <td>Open</td>\n",
       "      <td>2</td>\n",
       "      <td>11</td>\n",
       "      <td>14</td>\n",
       "      <td>8</td>\n",
       "    </tr>\n",
       "    <tr>\n",
       "      <th>4</th>\n",
       "      <td>2018-11-14 07:34:00</td>\n",
       "      <td>NaN</td>\n",
       "      <td>Website</td>\n",
       "      <td>XXXXXXX</td>\n",
       "      <td>cXXXXXXX@gmail.com</td>\n",
       "      <td>Sales-Agent-10</td>\n",
       "      <td>NaN</td>\n",
       "      <td>Mode-5</td>\n",
       "      <td>Open</td>\n",
       "      <td>2</td>\n",
       "      <td>11</td>\n",
       "      <td>14</td>\n",
       "      <td>7</td>\n",
       "    </tr>\n",
       "  </tbody>\n",
       "</table>\n",
       "</div>"
      ],
      "text/plain": [
       "              Created  Product_ID   Source      Mobile               EMAIL  \\\n",
       "0 2018-11-14 10:05:00         NaN  Website  984XXXXXXX  aXXXXXXX@gmail.com   \n",
       "1 2018-11-14 09:22:00         NaN  Website     XXXXXXX             #VALUE!   \n",
       "2 2018-11-14 09:21:00         NaN  Website     XXXXXXX  dXXXXXXX@yahoo.com   \n",
       "3 2018-11-14 08:46:00         NaN  Website     XXXXXXX  wXXXXXXX@gmail.com   \n",
       "4 2018-11-14 07:34:00         NaN  Website     XXXXXXX  cXXXXXXX@gmail.com   \n",
       "\n",
       "      Sales_Agent Location Delivery_Mode Status  Weekday  Month  Day  Hour  \n",
       "0  Sales-Agent-11      NaN        Mode-5   Open        2     11   14    10  \n",
       "1  Sales-Agent-10      NaN        Mode-5   Open        2     11   14     9  \n",
       "2  Sales-Agent-10      NaN        Mode-5   Open        2     11   14     9  \n",
       "3  Sales-Agent-10      NaN        Mode-5   Open        2     11   14     8  \n",
       "4  Sales-Agent-10      NaN        Mode-5   Open        2     11   14     7  "
      ]
     },
     "execution_count": 10,
     "metadata": {},
     "output_type": "execute_result"
    }
   ],
   "source": [
    "data[\"Weekday\"] = data[\"Created\"].dt.weekday\n",
    "data[\"Month\"] = data[\"Created\"].dt.month\n",
    "data[\"Day\"]= data[\"Created\"].dt.day\n",
    "data[\"Hour\"] = data[\"Created\"].dt.hour\n",
    "data.head()"
   ]
  },
  {
   "cell_type": "markdown",
   "id": "af3850e8",
   "metadata": {},
   "source": [
    "## Dropping Unique Value Features\n"
   ]
  },
  {
   "cell_type": "markdown",
   "id": "8c3f05b1",
   "metadata": {},
   "source": [
    "Dropping unique value columns i.e., email and mobile since these columns don't provide useful information that would help in prediction of the target variable. "
   ]
  },
  {
   "cell_type": "code",
   "execution_count": 11,
   "id": "c4fe69a2",
   "metadata": {},
   "outputs": [],
   "source": [
    "data.drop(\"Created\", axis=1, inplace=True)\n",
    "data.drop(\"Mobile\", axis=1, inplace=True)\n",
    "data.drop(\"EMAIL\", axis=1, inplace=True)\n"
   ]
  },
  {
   "cell_type": "markdown",
   "id": "a9485b03",
   "metadata": {},
   "source": [
    "## Creation of Target Variable"
   ]
  },
  {
   "cell_type": "code",
   "execution_count": 12,
   "id": "46a39ee1",
   "metadata": {},
   "outputs": [
    {
     "data": {
      "text/plain": [
       "array(['open', 'potential', 'in progress positive', 'not responding',\n",
       "       'just enquiry', 'junk lead', 'converted', 'in progress negative',\n",
       "       'lost', 'long term'], dtype=object)"
      ]
     },
     "execution_count": 12,
     "metadata": {},
     "output_type": "execute_result"
    }
   ],
   "source": [
    "data['Status'] = data['Status'].str.lower()\n",
    "data.Status.unique()"
   ]
  },
  {
   "cell_type": "markdown",
   "id": "7eb040d6",
   "metadata": {},
   "source": [
    "Categorizing the status labels as low or high potential and assigning it to the respective values. "
   ]
  },
  {
   "cell_type": "code",
   "execution_count": 13,
   "id": "4958739f",
   "metadata": {},
   "outputs": [
    {
     "data": {
      "text/html": [
       "<div>\n",
       "<style scoped>\n",
       "    .dataframe tbody tr th:only-of-type {\n",
       "        vertical-align: middle;\n",
       "    }\n",
       "\n",
       "    .dataframe tbody tr th {\n",
       "        vertical-align: top;\n",
       "    }\n",
       "\n",
       "    .dataframe thead th {\n",
       "        text-align: right;\n",
       "    }\n",
       "</style>\n",
       "<table border=\"1\" class=\"dataframe\">\n",
       "  <thead>\n",
       "    <tr style=\"text-align: right;\">\n",
       "      <th></th>\n",
       "      <th>Product_ID</th>\n",
       "      <th>Source</th>\n",
       "      <th>Sales_Agent</th>\n",
       "      <th>Location</th>\n",
       "      <th>Delivery_Mode</th>\n",
       "      <th>Status</th>\n",
       "      <th>Weekday</th>\n",
       "      <th>Month</th>\n",
       "      <th>Day</th>\n",
       "      <th>Hour</th>\n",
       "    </tr>\n",
       "  </thead>\n",
       "  <tbody>\n",
       "    <tr>\n",
       "      <th>0</th>\n",
       "      <td>NaN</td>\n",
       "      <td>Website</td>\n",
       "      <td>Sales-Agent-11</td>\n",
       "      <td>NaN</td>\n",
       "      <td>Mode-5</td>\n",
       "      <td>High Potential</td>\n",
       "      <td>2</td>\n",
       "      <td>11</td>\n",
       "      <td>14</td>\n",
       "      <td>10</td>\n",
       "    </tr>\n",
       "    <tr>\n",
       "      <th>1</th>\n",
       "      <td>NaN</td>\n",
       "      <td>Website</td>\n",
       "      <td>Sales-Agent-10</td>\n",
       "      <td>NaN</td>\n",
       "      <td>Mode-5</td>\n",
       "      <td>High Potential</td>\n",
       "      <td>2</td>\n",
       "      <td>11</td>\n",
       "      <td>14</td>\n",
       "      <td>9</td>\n",
       "    </tr>\n",
       "    <tr>\n",
       "      <th>2</th>\n",
       "      <td>NaN</td>\n",
       "      <td>Website</td>\n",
       "      <td>Sales-Agent-10</td>\n",
       "      <td>NaN</td>\n",
       "      <td>Mode-5</td>\n",
       "      <td>High Potential</td>\n",
       "      <td>2</td>\n",
       "      <td>11</td>\n",
       "      <td>14</td>\n",
       "      <td>9</td>\n",
       "    </tr>\n",
       "    <tr>\n",
       "      <th>3</th>\n",
       "      <td>NaN</td>\n",
       "      <td>Website</td>\n",
       "      <td>Sales-Agent-10</td>\n",
       "      <td>NaN</td>\n",
       "      <td>Mode-5</td>\n",
       "      <td>High Potential</td>\n",
       "      <td>2</td>\n",
       "      <td>11</td>\n",
       "      <td>14</td>\n",
       "      <td>8</td>\n",
       "    </tr>\n",
       "    <tr>\n",
       "      <th>4</th>\n",
       "      <td>NaN</td>\n",
       "      <td>Website</td>\n",
       "      <td>Sales-Agent-10</td>\n",
       "      <td>NaN</td>\n",
       "      <td>Mode-5</td>\n",
       "      <td>High Potential</td>\n",
       "      <td>2</td>\n",
       "      <td>11</td>\n",
       "      <td>14</td>\n",
       "      <td>7</td>\n",
       "    </tr>\n",
       "  </tbody>\n",
       "</table>\n",
       "</div>"
      ],
      "text/plain": [
       "   Product_ID   Source     Sales_Agent Location Delivery_Mode          Status  \\\n",
       "0         NaN  Website  Sales-Agent-11      NaN        Mode-5  High Potential   \n",
       "1         NaN  Website  Sales-Agent-10      NaN        Mode-5  High Potential   \n",
       "2         NaN  Website  Sales-Agent-10      NaN        Mode-5  High Potential   \n",
       "3         NaN  Website  Sales-Agent-10      NaN        Mode-5  High Potential   \n",
       "4         NaN  Website  Sales-Agent-10      NaN        Mode-5  High Potential   \n",
       "\n",
       "   Weekday  Month  Day  Hour  \n",
       "0        2     11   14    10  \n",
       "1        2     11   14     9  \n",
       "2        2     11   14     9  \n",
       "3        2     11   14     8  \n",
       "4        2     11   14     7  "
      ]
     },
     "execution_count": 13,
     "metadata": {},
     "output_type": "execute_result"
    }
   ],
   "source": [
    "data.Status= data.Status.map({'converted':'High Potential',\n",
    "                            'in progress positive':'High Potential',\n",
    "                            'potential':'High Potential',\n",
    "                            'open':'High Potential',\n",
    "                            'just enquiry':'High Potential',\n",
    "                            'long term':'Low Potential',\n",
    "                            'not responding':'Low Potential',\n",
    "                            'in progress negative':'Low Potential',\n",
    "                            'junk lead':'Low Potential', \n",
    "                            'lost':'Low Potential'})\n",
    "data.head()"
   ]
  },
  {
   "cell_type": "markdown",
   "id": "5afb3307",
   "metadata": {},
   "source": [
    "# EDA"
   ]
  },
  {
   "cell_type": "markdown",
   "id": "af6cae8b",
   "metadata": {},
   "source": [
    "After data preparation and cleaning we have 10 features that are all categorical in nature. "
   ]
  },
  {
   "cell_type": "markdown",
   "id": "96b644d4",
   "metadata": {},
   "source": [
    "## Univariate Analysis"
   ]
  },
  {
   "cell_type": "code",
   "execution_count": 34,
   "id": "bb07b916",
   "metadata": {},
   "outputs": [
    {
     "data": {
      "application/vnd.jupyter.widget-view+json": {
       "model_id": "f0afa6d1d3e040a7aa05c4baa214aa5a",
       "version_major": 2,
       "version_minor": 0
      },
      "text/plain": [
       "                                             |                                             | [  0%]   00:00 ->…"
      ]
     },
     "metadata": {},
     "output_type": "display_data"
    },
    {
     "name": "stdout",
     "output_type": "stream",
     "text": [
      "Report SWEETVIZ_REPORT.html was generated! NOTEBOOK/COLAB USERS: the web browser MAY not pop up, regardless, the report IS saved in your notebook/colab files.\n"
     ]
    }
   ],
   "source": [
    "import sweetviz as sv\n",
    "report = sv.analyze(data)\n",
    "report.show_html()"
   ]
  },
  {
   "cell_type": "markdown",
   "id": "72a950f9",
   "metadata": {},
   "source": [
    "### Product_ID"
   ]
  },
  {
   "cell_type": "code",
   "execution_count": 35,
   "id": "7af3c36a",
   "metadata": {},
   "outputs": [
    {
     "data": {
      "text/plain": [
       "<AxesSubplot:xlabel='Product_ID', ylabel='count'>"
      ]
     },
     "execution_count": 35,
     "metadata": {},
     "output_type": "execute_result"
    },
    {
     "data": {
      "image/png": "[encoded data removed]",
      "text/plain": [
       "<Figure size 1500x800 with 1 Axes>"
      ]
     },
     "metadata": {},
     "output_type": "display_data"
    }
   ],
   "source": [
    "plt.figure(figsize=(15,8))\n",
    "sns.countplot(data= data, x=\"Product_ID\")"
   ]
  },
  {
   "cell_type": "markdown",
   "id": "bfee9299",
   "metadata": {},
   "source": [
    "- Product ID is a categorical variable in a numeric form. The magnitude of the product id values have no impact on the target variable and hence need to be categorically encoded. \n",
    "- The most frequently ordered products are as follows in descending order- \n",
    "     - 18 (23.2%)\n",
    "     - 15 (20.6%)\n",
    "     - 19 (16.1%)\n",
    "     - 9  (13.5%)\n",
    "     - 27 (10.0%)\n",
    "     - 5  (6.6%)\n",
    "     - 10 (2.3%)\n",
    "- These 7 products make up 92% of the total products ordered while the remaining 22 products make up only 8%. \n",
    "- Product ID 18 is the most frequently ordered product while product IDs 4 & 7 are the least ordered products. "
   ]
  },
  {
   "cell_type": "markdown",
   "id": "e4850d52",
   "metadata": {},
   "source": [
    "### Source"
   ]
  },
  {
   "cell_type": "code",
   "execution_count": 36,
   "id": "3a13235a",
   "metadata": {},
   "outputs": [
    {
     "data": {
      "text/plain": [
       "<AxesSubplot:xlabel='count', ylabel='Source'>"
      ]
     },
     "execution_count": 36,
     "metadata": {},
     "output_type": "execute_result"
    },
    {
     "data": {
      "image/png": "[encoded data removed]",
      "text/plain": [
       "<Figure size 800x900 with 1 Axes>"
      ]
     },
     "metadata": {},
     "output_type": "display_data"
    }
   ],
   "source": [
    "plt.figure(figsize=(8,9))\n",
    "sns.countplot(data= data, y=\"Source\")"
   ]
  },
  {
   "cell_type": "markdown",
   "id": "3bac4c2b",
   "metadata": {},
   "source": [
    "- There are 25 different sources from which the orders were recieved. \n",
    "- Calls is the most frequently used source with 34% observations followed by Live Chat-Direct with 25% and Website 22% of observations. \n",
    "- The reamining sources together make up less than 20 % of observations. \n",
    "- E-Mail Message and Live Chat-Justdial are the sources from where the least orders were recieved.\n",
    "- Overall, most of the sources were from online platforms like websites and live-chats with comaparitively fewer direct voice calls. This shows that customers tend to prefer using such online platforms as compared to making calls. Improving the quality of these online platforms could lead to higher customer churn and order conversion rates. "
   ]
  },
  {
   "cell_type": "markdown",
   "id": "e7406b7e",
   "metadata": {},
   "source": [
    "### Sales_Agent"
   ]
  },
  {
   "cell_type": "code",
   "execution_count": 37,
   "id": "4a7adee6",
   "metadata": {},
   "outputs": [
    {
     "data": {
      "text/plain": [
       "<AxesSubplot:xlabel='count', ylabel='Sales_Agent'>"
      ]
     },
     "execution_count": 37,
     "metadata": {},
     "output_type": "execute_result"
    },
    {
     "data": {
      "image/png": "[encoded data removed]",
      "text/plain": [
       "<Figure size 800x500 with 1 Axes>"
      ]
     },
     "metadata": {},
     "output_type": "display_data"
    }
   ],
   "source": [
    "plt.figure(figsize=(8,5))\n",
    "sns.countplot(data= data, y=\"Sales_Agent\")"
   ]
  },
  {
   "cell_type": "markdown",
   "id": "9aa94fd1",
   "metadata": {},
   "source": [
    "- The sales agents responsible for a particular order could be one of the key indicators of lead quality as well as a mark of their work performance. This seems to be an important feature for our model.\n",
    "- There are 12 different sales agents\n",
    "- The top 6 sales agents with the most orders are as follows in descending order\n",
    "    - Sales-Agent-4:  20%\n",
    "    - Sales-Agent-11: 19%\n",
    "    - Sales-Agent-5:  16%\n",
    "    - Sales-Agent-9:  12%\n",
    "    - Sales-Agent-3:  11%\n",
    "    - Sales-Agent-7:  10%\n",
    "- The reamaining make up less than 12 % of the observations\n",
    "- Sales-Agent-1 has the least number of observations\n"
   ]
  },
  {
   "cell_type": "markdown",
   "id": "93e6e489",
   "metadata": {},
   "source": [
    "### Location"
   ]
  },
  {
   "cell_type": "code",
   "execution_count": 38,
   "id": "c84b72ce",
   "metadata": {},
   "outputs": [
    {
     "data": {
      "text/plain": [
       "<AxesSubplot:xlabel='count', ylabel='Location'>"
      ]
     },
     "execution_count": 38,
     "metadata": {},
     "output_type": "execute_result"
    },
    {
     "data": {
      "image/png": "[encoded data removed]",
      "text/plain": [
       "<Figure size 700x600 with 1 Axes>"
      ]
     },
     "metadata": {},
     "output_type": "display_data"
    }
   ],
   "source": [
    "plt.figure(figsize=(7,6))\n",
    "sns.countplot(data= data, y=\"Location\")"
   ]
  },
  {
   "cell_type": "markdown",
   "id": "5e4c5c4f",
   "metadata": {},
   "source": [
    "- There are 17 different customer locations - 7 international, 9 domestic and one 'other' category that clubs all the remainng locations. \n",
    "- The top 6 most frequently occuring locations in descending order are as follows-\n",
    "  - Other Locations (34%)\n",
    "  - Bangalore (28%)\n",
    "  - Chennai (12%)\n",
    "  - Hyderabad (7%)\n",
    "  - Delhi (6%)\n",
    "  - Mumbai (5%)\n",
    "- Howrah is the location with the least number of sales leads of the product. \n",
    "- The sales in the domestic market is greater with almost 60% of the total as comapred to sales in the international markets with less than 6% of the total.\n",
    "- Bangalore is the domestic location with most sales while UAE is the international location with the most orders. "
   ]
  },
  {
   "cell_type": "markdown",
   "id": "d7265941",
   "metadata": {},
   "source": [
    "### Delivery Mode"
   ]
  },
  {
   "cell_type": "code",
   "execution_count": 39,
   "id": "e56b896c",
   "metadata": {},
   "outputs": [
    {
     "data": {
      "text/plain": [
       "<AxesSubplot:title={'center':'Delivery_Mode'}>"
      ]
     },
     "execution_count": 39,
     "metadata": {},
     "output_type": "execute_result"
    },
    {
     "data": {
      "image/png": "[encoded data removed]",
      "text/plain": [
       "<Figure size 1100x500 with 2 Axes>"
      ]
     },
     "metadata": {},
     "output_type": "display_data"
    }
   ],
   "source": [
    "plt.figure(figsize=(11,5))\n",
    "ax= plt.subplot(1,2,1)\n",
    "sns.countplot(data= data, x=\"Delivery_Mode\")\n",
    "ax= plt.subplot(1,2,2)\n",
    "data.groupby(\"Delivery_Mode\").size().plot(kind=\"pie\", title=\"Delivery_Mode\", ylabel=\"\", autopct='%1.1f%%', colormap=\"tab10\")"
   ]
  },
  {
   "cell_type": "markdown",
   "id": "42061cb3",
   "metadata": {},
   "source": [
    "- There are 5 types of delivery modes\n",
    "- Delivery mode-5 is the most frequently occuring type with 40% observations while delivery mode-2 is the least with 0.1% observations.\n"
   ]
  },
  {
   "cell_type": "markdown",
   "id": "9469b1a9",
   "metadata": {},
   "source": [
    "### Weekday"
   ]
  },
  {
   "cell_type": "code",
   "execution_count": 40,
   "id": "148d11d6",
   "metadata": {},
   "outputs": [
    {
     "data": {
      "text/plain": [
       "<AxesSubplot:xlabel='Weekday', ylabel='count'>"
      ]
     },
     "execution_count": 40,
     "metadata": {},
     "output_type": "execute_result"
    },
    {
     "data": {
      "image/png": "[encoded data removed]",
      "text/plain": [
       "<Figure size 600x400 with 1 Axes>"
      ]
     },
     "metadata": {},
     "output_type": "display_data"
    }
   ],
   "source": [
    "plt.figure(figsize=(6,4))\n",
    "sns.countplot(data= data, x=\"Weekday\")"
   ]
  },
  {
   "cell_type": "markdown",
   "id": "6967dfd3",
   "metadata": {},
   "source": [
    "- The percentage orders recieved on the weekdays are as follows- \n",
    "  - 0-Monday: 20%\n",
    "  - 1-Tuesday: 16%\n",
    "  - 2-Wednesday: 16%\n",
    "  - 3-Thursday: 15%\n",
    "  - 4-Friday: 14%\n",
    "  - 5-Saturday: 11%\n",
    "  - 6-Sunday: 8%\n",
    "- Most orders are recieved on Monday while least on Sunday.\n",
    "- Percentage of orders placed decreases as the week progresses. \n"
   ]
  },
  {
   "cell_type": "markdown",
   "id": "86d2d0b8",
   "metadata": {},
   "source": [
    "### Month"
   ]
  },
  {
   "cell_type": "code",
   "execution_count": 41,
   "id": "248bb341",
   "metadata": {},
   "outputs": [
    {
     "data": {
      "text/plain": [
       "<AxesSubplot:xlabel='Month', ylabel='count'>"
      ]
     },
     "execution_count": 41,
     "metadata": {},
     "output_type": "execute_result"
    },
    {
     "data": {
      "image/png": "[encoded data removed]",
      "text/plain": [
       "<Figure size 800x500 with 1 Axes>"
      ]
     },
     "metadata": {},
     "output_type": "display_data"
    }
   ],
   "source": [
    "plt.figure(figsize=(8,5))\n",
    "sns.countplot(data= data, x=\"Month\")"
   ]
  },
  {
   "cell_type": "markdown",
   "id": "e1b1ac3f",
   "metadata": {},
   "source": [
    "- The percentage orders recieved on a monthly basis arranged in descending order are as follows- \n",
    "   - 6-June: 14.1%\n",
    "   - 5-May: 14.0%\n",
    "   - 7-July: 12.9%\n",
    "   - 9-September: 12.4%\n",
    "   - 8-August: 12.3%\n",
    "   - 10-October: 11.2%\n",
    "   - 4-April: 5.0%\n",
    "   - 11-November: 4.7%\n",
    "   - 2-February: 4.0%\n",
    "   - 3-March: 3.4%\n",
    "   - 1-January: 3.0%\n",
    "   - 12-December: 2.9%\n",
    "- The maximum orders are in the month of June while the least is in the month of December. \n",
    "- Most sales happen mid year with the second and third quarter of the year making the maximum sales. The companies sales dip towards  the end and the beignning of the year i.e., the months of December and January. \n",
    "- The companies sales are best between May-September and peak during the months of May and June. "
   ]
  },
  {
   "cell_type": "markdown",
   "id": "3328d6c0",
   "metadata": {},
   "source": [
    "### Day"
   ]
  },
  {
   "cell_type": "code",
   "execution_count": 42,
   "id": "777707f8",
   "metadata": {},
   "outputs": [
    {
     "data": {
      "text/plain": [
       "<AxesSubplot:xlabel='Day', ylabel='count'>"
      ]
     },
     "execution_count": 42,
     "metadata": {},
     "output_type": "execute_result"
    },
    {
     "data": {
      "image/png": "[encoded data removed]",
      "text/plain": [
       "<Figure size 1500x800 with 1 Axes>"
      ]
     },
     "metadata": {},
     "output_type": "display_data"
    }
   ],
   "source": [
    "plt.figure(figsize=(15,8))\n",
    "sns.countplot(data= data, x=\"Day\")"
   ]
  },
  {
   "cell_type": "markdown",
   "id": "a97f5265",
   "metadata": {},
   "source": [
    "- Most orders are recieved on the 6th day of the month while the least on the 31st.\n",
    "- In general, the number of orders recived are high in the beginning of the month from the 5h to 10th and gradually decline as the month progresses achieving somewhat of a constant graph with few small peaks. \n",
    "- In conclusion, more orders are placed during the beginning of the month as compared to the end or middle. "
   ]
  },
  {
   "cell_type": "markdown",
   "id": "860960c7",
   "metadata": {},
   "source": [
    "### Hour"
   ]
  },
  {
   "cell_type": "code",
   "execution_count": 43,
   "id": "6fd6da8c",
   "metadata": {},
   "outputs": [
    {
     "data": {
      "text/plain": [
       "<AxesSubplot:xlabel='Hour', ylabel='count'>"
      ]
     },
     "execution_count": 43,
     "metadata": {},
     "output_type": "execute_result"
    },
    {
     "data": {
      "image/png": "[encoded data removed]",
      "text/plain": [
       "<Figure size 1500x700 with 1 Axes>"
      ]
     },
     "metadata": {},
     "output_type": "display_data"
    }
   ],
   "source": [
    "plt.figure(figsize=(15,7))\n",
    "sns.countplot(data= data, x=\"Hour\")"
   ]
  },
  {
   "cell_type": "markdown",
   "id": "6cb40268",
   "metadata": {},
   "source": [
    "- Late morning i.e. from 10:00a.m -12:00p.m seems to be the most popular time of the day to place orders while the early morning hours i.e, from 1:00a.m -6:00a.m is the least popular time. The evening and afternoon hours recieve lesser orders as compared to late mornings. This pattern seems to be in accordance with the genearl working hours of a company. \n",
    "- Most orders are placed at 11:00 a.m while the least at 2:00 a.m.\n",
    "- In conclusion, the orders placed are less till 8:00 am, then gradually increase and peak at 11:00 am and finally decrease as the hours progress. "
   ]
  },
  {
   "cell_type": "markdown",
   "id": "cc48d10f",
   "metadata": {},
   "source": [
    "### Status"
   ]
  },
  {
   "cell_type": "code",
   "execution_count": 44,
   "id": "c362b3ee",
   "metadata": {},
   "outputs": [
    {
     "data": {
      "text/plain": [
       "<AxesSubplot:xlabel='count', ylabel='Status'>"
      ]
     },
     "execution_count": 44,
     "metadata": {},
     "output_type": "execute_result"
    },
    {
     "data": {
      "image/png": "[encoded data removed]",
      "text/plain": [
       "<Figure size 600x300 with 1 Axes>"
      ]
     },
     "metadata": {},
     "output_type": "display_data"
    }
   ],
   "source": [
    "plt.figure(figsize=(6,3))\n",
    "sns.countplot(data= data, y=\"Status\")"
   ]
  },
  {
   "cell_type": "markdown",
   "id": "6798090e",
   "metadata": {},
   "source": [
    "After categorizing the 12 different labels of the status column into high or low potential, we can see that more orders are low potential (60%) as comapred to high potential (40%). This is our target variable. "
   ]
  },
  {
   "cell_type": "markdown",
   "id": "16902d33",
   "metadata": {},
   "source": [
    "## Bivariate Analysis"
   ]
  },
  {
   "cell_type": "markdown",
   "id": "eb894f44",
   "metadata": {},
   "source": [
    "### Product_ID vs Status"
   ]
  },
  {
   "cell_type": "code",
   "execution_count": 45,
   "id": "566fbcef",
   "metadata": {},
   "outputs": [
    {
     "data": {
      "text/plain": [
       "<AxesSubplot:xlabel='count', ylabel='Product_ID'>"
      ]
     },
     "execution_count": 45,
     "metadata": {},
     "output_type": "execute_result"
    },
    {
     "data": {
      "image/png": "[encoded data removed]",
      "text/plain": [
       "<Figure size 1000x700 with 1 Axes>"
      ]
     },
     "metadata": {},
     "output_type": "display_data"
    }
   ],
   "source": [
    "plt.figure(figsize=(10,7))\n",
    "sns.countplot(data=data, y=\"Product_ID\", hue=\"Status\", palette=\"cool\")"
   ]
  },
  {
   "cell_type": "markdown",
   "id": "a13f194f",
   "metadata": {},
   "source": [
    "- In general, most products have low lead potential.\n",
    "- Product id 15 has almost 5 times more observations that are low lead potential as compared to high potential.\n",
    "- Product id 19 and 20 have more entries with higher lead potential i.e, customers seem to purchase these products more. "
   ]
  },
  {
   "cell_type": "markdown",
   "id": "8c206722",
   "metadata": {},
   "source": [
    "### Sales_Agent vs Status"
   ]
  },
  {
   "cell_type": "code",
   "execution_count": 46,
   "id": "e44bdd30",
   "metadata": {},
   "outputs": [
    {
     "data": {
      "text/plain": [
       "<AxesSubplot:xlabel='count', ylabel='Sales_Agent'>"
      ]
     },
     "execution_count": 46,
     "metadata": {},
     "output_type": "execute_result"
    },
    {
     "data": {
      "image/png": "[encoded data removed]",
      "text/plain": [
       "<Figure size 1000x600 with 1 Axes>"
      ]
     },
     "metadata": {},
     "output_type": "display_data"
    }
   ],
   "source": [
    "plt.figure(figsize=(10,6))\n",
    "sns.countplot(data=data, y=\"Sales_Agent\", hue=\"Status\")"
   ]
  },
  {
   "cell_type": "markdown",
   "id": "7be93345",
   "metadata": {},
   "source": [
    "- In general most sales agents have customers with low lead potential.\n",
    "- Customers with sales-agent-4 have the most observations with low lead potential while sales-agent-2 has proprtionally the most customers with low lead potential. This could be indicative of poor work performance of these sales agents.\n",
    "- Sales-agent-9 and 8 has more customers with high lead potential.  \n",
    "- Sales-agent 10 has proportionally the most customers with high lead potential. This could be indicative of excellent work performance. "
   ]
  },
  {
   "cell_type": "markdown",
   "id": "d081001f",
   "metadata": {},
   "source": [
    "### Source vs Status"
   ]
  },
  {
   "cell_type": "code",
   "execution_count": 47,
   "id": "e3611572",
   "metadata": {},
   "outputs": [
    {
     "data": {
      "text/plain": [
       "<AxesSubplot:xlabel='count', ylabel='Source'>"
      ]
     },
     "execution_count": 47,
     "metadata": {},
     "output_type": "execute_result"
    },
    {
     "data": {
      "image/png": "[encoded data removed]",
      "text/plain": [
       "<Figure size 1000x700 with 1 Axes>"
      ]
     },
     "metadata": {},
     "output_type": "display_data"
    }
   ],
   "source": [
    "plt.figure(figsize=(10,7))\n",
    "sns.countplot(data=data, y=\"Source\", hue=\"Status\", palette=\"gist_rainbow\")"
   ]
  },
  {
   "cell_type": "markdown",
   "id": "bfd94334",
   "metadata": {},
   "source": [
    "- Clients recieved through Customer referrals and recommendations generates the highest lead potential. Existing clents/customers and personal contacts are sources that generate more high lead qualities as well. \n",
    "- Customers from US Website source have the most low potential leads.\n",
    "- Sources from live chats and direct calls have more cutomers with low lead potential as compared to high. "
   ]
  },
  {
   "cell_type": "markdown",
   "id": "ee3850a4",
   "metadata": {},
   "source": [
    "### Delivery_Mode vs Status"
   ]
  },
  {
   "cell_type": "code",
   "execution_count": 48,
   "id": "e389bb73",
   "metadata": {},
   "outputs": [
    {
     "data": {
      "text/plain": [
       "<AxesSubplot:xlabel='Delivery_Mode', ylabel='count'>"
      ]
     },
     "execution_count": 48,
     "metadata": {},
     "output_type": "execute_result"
    },
    {
     "data": {
      "image/png": "[encoded data removed]",
      "text/plain": [
       "<Figure size 800x500 with 1 Axes>"
      ]
     },
     "metadata": {},
     "output_type": "display_data"
    }
   ],
   "source": [
    "plt.figure(figsize=(8,5))\n",
    "sns.countplot(data=data, x=\"Delivery_Mode\", hue=\"Status\" ,palette=\"turbo\")"
   ]
  },
  {
   "cell_type": "markdown",
   "id": "27525655",
   "metadata": {},
   "source": [
    "- Delivery mode-2 and 4 have twice as more high potential clients as comapred to low.\n",
    "- Delivery mode-3 and 1 have almost the same number of high and low potential clients.\n",
    "- Delivery mode-5 has twice as many low potential customers as compared to high potential. "
   ]
  },
  {
   "cell_type": "markdown",
   "id": "f7d48692",
   "metadata": {},
   "source": [
    "### Location vs Status"
   ]
  },
  {
   "cell_type": "code",
   "execution_count": 49,
   "id": "ac3180e1",
   "metadata": {},
   "outputs": [
    {
     "data": {
      "text/plain": [
       "<AxesSubplot:xlabel='count', ylabel='Location'>"
      ]
     },
     "execution_count": 49,
     "metadata": {},
     "output_type": "execute_result"
    },
    {
     "data": {
      "image/png": "[encoded data removed]",
      "text/plain": [
       "<Figure size 1000x600 with 1 Axes>"
      ]
     },
     "metadata": {},
     "output_type": "display_data"
    }
   ],
   "source": [
    "plt.figure(figsize=(10,6))\n",
    "sns.countplot(data=data, y=\"Location\", hue=\"Status\", palette=\"Set1\")"
   ]
  },
  {
   "cell_type": "markdown",
   "id": "94abd0c7",
   "metadata": {},
   "source": [
    "- Chennai, Trivandrim, Bangalore and  have almost the same number of high and low potential customers.\n",
    "- Major Indian cities like Delhi, Mumbai, Kolkata and Pune have more low potential customers than high. \n",
    "- Other locations has the most low potential customers. \n",
    "- UK, Australia and UAE have almost half as more high potential customers as compared to low. \n",
    "- International locations seem to have more high potential customers as comapred to domestic locations although more number of orders come from the domestic market."
   ]
  },
  {
   "cell_type": "markdown",
   "id": "32e1a4af",
   "metadata": {},
   "source": [
    "### Weekday vs Status"
   ]
  },
  {
   "cell_type": "code",
   "execution_count": 50,
   "id": "83705316",
   "metadata": {},
   "outputs": [
    {
     "data": {
      "text/plain": [
       "<AxesSubplot:xlabel='Weekday', ylabel='count'>"
      ]
     },
     "execution_count": 50,
     "metadata": {},
     "output_type": "execute_result"
    },
    {
     "data": {
      "image/png": "[encoded data removed]",
      "text/plain": [
       "<Figure size 600x400 with 1 Axes>"
      ]
     },
     "metadata": {},
     "output_type": "display_data"
    }
   ],
   "source": [
    "plt.figure(figsize=(6,4))\n",
    "sns.countplot(data=data, x=\"Weekday\", hue=\"Status\", palette=\"Paired\", )"
   ]
  },
  {
   "cell_type": "markdown",
   "id": "150946fe",
   "metadata": {},
   "source": [
    "- The lead quality i.e, high or low potential customers doesn't seem to be dependent on the weekday since all days have more low than high potential customers. This is in accordance to the fact that in general, the comapny recieves more low potential customers (60%) as seen in the univariate analysis."
   ]
  },
  {
   "cell_type": "markdown",
   "id": "e2046661",
   "metadata": {},
   "source": [
    "### Month vs Status"
   ]
  },
  {
   "cell_type": "code",
   "execution_count": 51,
   "id": "48fbdb2f",
   "metadata": {},
   "outputs": [
    {
     "data": {
      "text/plain": [
       "<AxesSubplot:xlabel='Month', ylabel='count'>"
      ]
     },
     "execution_count": 51,
     "metadata": {},
     "output_type": "execute_result"
    },
    {
     "data": {
      "image/png": "[encoded data removed]",
      "text/plain": [
       "<Figure size 1200x600 with 1 Axes>"
      ]
     },
     "metadata": {},
     "output_type": "display_data"
    }
   ],
   "source": [
    "plt.figure(figsize=(12,6))\n",
    "sns.countplot(data=data, x=\"Month\", hue=\"Status\", palette=\"viridis\")"
   ]
  },
  {
   "cell_type": "markdown",
   "id": "29b14df8",
   "metadata": {},
   "source": [
    "- The month of October has the most high potential customers.\n",
    "- The month of May has the most low potential customers.\n",
    "- The months of September, November and December have almost the same number of high and low potential customers.\n",
    "- In general, the number of low potential leads are higher for most months. "
   ]
  },
  {
   "cell_type": "markdown",
   "id": "fce52bf5",
   "metadata": {},
   "source": [
    "### Day vs Status"
   ]
  },
  {
   "cell_type": "code",
   "execution_count": 52,
   "id": "3ce657a3",
   "metadata": {},
   "outputs": [
    {
     "data": {
      "text/plain": [
       "<AxesSubplot:xlabel='Day', ylabel='count'>"
      ]
     },
     "execution_count": 52,
     "metadata": {},
     "output_type": "execute_result"
    },
    {
     "data": {
      "image/png": "[encoded data removed]",
      "text/plain": [
       "<Figure size 1200x600 with 1 Axes>"
      ]
     },
     "metadata": {},
     "output_type": "display_data"
    }
   ],
   "source": [
    "plt.figure(figsize=(12,6))\n",
    "sns.countplot(data=data, x=\"Day\", hue=\"Status\", palette=\"autumn\")"
   ]
  },
  {
   "cell_type": "markdown",
   "id": "4a5755c0",
   "metadata": {},
   "source": [
    "- The 10th and 11th days of the month have the most high potential clients.\n",
    "- The first week i.e 5th-8th days of the month have the most low potential customers. Despite there being more orders placed during this time, most of them are low potential. \n",
    "- Mid month days (15th-22nd) and the 31st i.e last days of the month have almost the same number of high and low potential clients.\n",
    "\n"
   ]
  },
  {
   "cell_type": "markdown",
   "id": "78d4be15",
   "metadata": {},
   "source": [
    "### Hour vs Status"
   ]
  },
  {
   "cell_type": "code",
   "execution_count": 53,
   "id": "d7b0d95a",
   "metadata": {},
   "outputs": [
    {
     "data": {
      "text/plain": [
       "<AxesSubplot:xlabel='Hour', ylabel='count'>"
      ]
     },
     "execution_count": 53,
     "metadata": {},
     "output_type": "execute_result"
    },
    {
     "data": {
      "image/png": "[encoded data removed]",
      "text/plain": [
       "<Figure size 1200x600 with 1 Axes>"
      ]
     },
     "metadata": {},
     "output_type": "display_data"
    }
   ],
   "source": [
    "plt.figure(figsize=(12,6))\n",
    "sns.countplot(data=data, x=\"Hour\", hue=\"Status\", palette=\"magma\")"
   ]
  },
  {
   "cell_type": "markdown",
   "id": "2303f086",
   "metadata": {},
   "source": [
    "- The hour doesn't seem to be a storng indicator of lead quality since on all hours low potential clients are higher.\n",
    "- In general orders placed during the evening/night (3:00p.m-12:00a.m) and early morning (7:00- 8:00a.m) hours have proportionally more number of customers with high lead quality. "
   ]
  },
  {
   "cell_type": "markdown",
   "id": "f4b90122",
   "metadata": {},
   "source": [
    "# Data Preprocessing"
   ]
  },
  {
   "cell_type": "markdown",
   "id": "e2c124ed",
   "metadata": {},
   "source": [
    "## Missing Values"
   ]
  },
  {
   "cell_type": "code",
   "execution_count": 14,
   "id": "4f761fd3",
   "metadata": {},
   "outputs": [
    {
     "data": {
      "text/plain": [
       "Product_ID       58\n",
       "Source           17\n",
       "Sales_Agent      23\n",
       "Location         58\n",
       "Delivery_Mode     0\n",
       "Status            0\n",
       "Weekday           0\n",
       "Month             0\n",
       "Day               0\n",
       "Hour              0\n",
       "dtype: int64"
      ]
     },
     "execution_count": 14,
     "metadata": {},
     "output_type": "execute_result"
    }
   ],
   "source": [
    "data.isnull().sum()"
   ]
  },
  {
   "cell_type": "markdown",
   "id": "0a18ae40",
   "metadata": {},
   "source": [
    "There are 4 features with missing values."
   ]
  },
  {
   "cell_type": "code",
   "execution_count": 15,
   "id": "b1b14bf7",
   "metadata": {},
   "outputs": [
    {
     "data": {
      "text/html": [
       "<div>\n",
       "<style scoped>\n",
       "    .dataframe tbody tr th:only-of-type {\n",
       "        vertical-align: middle;\n",
       "    }\n",
       "\n",
       "    .dataframe tbody tr th {\n",
       "        vertical-align: top;\n",
       "    }\n",
       "\n",
       "    .dataframe thead th {\n",
       "        text-align: right;\n",
       "    }\n",
       "</style>\n",
       "<table border=\"1\" class=\"dataframe\">\n",
       "  <thead>\n",
       "    <tr style=\"text-align: right;\">\n",
       "      <th></th>\n",
       "      <th>Product_ID</th>\n",
       "      <th>Source</th>\n",
       "      <th>Sales_Agent</th>\n",
       "      <th>Location</th>\n",
       "      <th>Delivery_Mode</th>\n",
       "      <th>Status</th>\n",
       "      <th>Weekday</th>\n",
       "      <th>Month</th>\n",
       "      <th>Day</th>\n",
       "      <th>Hour</th>\n",
       "    </tr>\n",
       "  </thead>\n",
       "  <tbody>\n",
       "    <tr>\n",
       "      <th>0</th>\n",
       "      <td>NaN</td>\n",
       "      <td>Website</td>\n",
       "      <td>Sales-Agent-11</td>\n",
       "      <td>NaN</td>\n",
       "      <td>Mode-5</td>\n",
       "      <td>High Potential</td>\n",
       "      <td>2</td>\n",
       "      <td>11</td>\n",
       "      <td>14</td>\n",
       "      <td>10</td>\n",
       "    </tr>\n",
       "    <tr>\n",
       "      <th>1</th>\n",
       "      <td>NaN</td>\n",
       "      <td>Website</td>\n",
       "      <td>Sales-Agent-10</td>\n",
       "      <td>NaN</td>\n",
       "      <td>Mode-5</td>\n",
       "      <td>High Potential</td>\n",
       "      <td>2</td>\n",
       "      <td>11</td>\n",
       "      <td>14</td>\n",
       "      <td>9</td>\n",
       "    </tr>\n",
       "    <tr>\n",
       "      <th>2</th>\n",
       "      <td>NaN</td>\n",
       "      <td>Website</td>\n",
       "      <td>Sales-Agent-10</td>\n",
       "      <td>NaN</td>\n",
       "      <td>Mode-5</td>\n",
       "      <td>High Potential</td>\n",
       "      <td>2</td>\n",
       "      <td>11</td>\n",
       "      <td>14</td>\n",
       "      <td>9</td>\n",
       "    </tr>\n",
       "    <tr>\n",
       "      <th>3</th>\n",
       "      <td>NaN</td>\n",
       "      <td>Website</td>\n",
       "      <td>Sales-Agent-10</td>\n",
       "      <td>NaN</td>\n",
       "      <td>Mode-5</td>\n",
       "      <td>High Potential</td>\n",
       "      <td>2</td>\n",
       "      <td>11</td>\n",
       "      <td>14</td>\n",
       "      <td>8</td>\n",
       "    </tr>\n",
       "    <tr>\n",
       "      <th>4</th>\n",
       "      <td>NaN</td>\n",
       "      <td>Website</td>\n",
       "      <td>Sales-Agent-10</td>\n",
       "      <td>NaN</td>\n",
       "      <td>Mode-5</td>\n",
       "      <td>High Potential</td>\n",
       "      <td>2</td>\n",
       "      <td>11</td>\n",
       "      <td>14</td>\n",
       "      <td>7</td>\n",
       "    </tr>\n",
       "    <tr>\n",
       "      <th>5</th>\n",
       "      <td>NaN</td>\n",
       "      <td>Website</td>\n",
       "      <td>Sales-Agent-10</td>\n",
       "      <td>NaN</td>\n",
       "      <td>Mode-5</td>\n",
       "      <td>High Potential</td>\n",
       "      <td>2</td>\n",
       "      <td>11</td>\n",
       "      <td>14</td>\n",
       "      <td>7</td>\n",
       "    </tr>\n",
       "    <tr>\n",
       "      <th>6</th>\n",
       "      <td>NaN</td>\n",
       "      <td>Website</td>\n",
       "      <td>Sales-Agent-10</td>\n",
       "      <td>NaN</td>\n",
       "      <td>Mode-5</td>\n",
       "      <td>High Potential</td>\n",
       "      <td>2</td>\n",
       "      <td>11</td>\n",
       "      <td>14</td>\n",
       "      <td>5</td>\n",
       "    </tr>\n",
       "    <tr>\n",
       "      <th>7</th>\n",
       "      <td>NaN</td>\n",
       "      <td>Website</td>\n",
       "      <td>Sales-Agent-10</td>\n",
       "      <td>NaN</td>\n",
       "      <td>Mode-5</td>\n",
       "      <td>High Potential</td>\n",
       "      <td>2</td>\n",
       "      <td>11</td>\n",
       "      <td>14</td>\n",
       "      <td>5</td>\n",
       "    </tr>\n",
       "    <tr>\n",
       "      <th>8</th>\n",
       "      <td>NaN</td>\n",
       "      <td>Website</td>\n",
       "      <td>Sales-Agent-10</td>\n",
       "      <td>NaN</td>\n",
       "      <td>Mode-5</td>\n",
       "      <td>High Potential</td>\n",
       "      <td>2</td>\n",
       "      <td>11</td>\n",
       "      <td>14</td>\n",
       "      <td>5</td>\n",
       "    </tr>\n",
       "    <tr>\n",
       "      <th>9</th>\n",
       "      <td>NaN</td>\n",
       "      <td>Website</td>\n",
       "      <td>Sales-Agent-10</td>\n",
       "      <td>NaN</td>\n",
       "      <td>Mode-5</td>\n",
       "      <td>High Potential</td>\n",
       "      <td>2</td>\n",
       "      <td>11</td>\n",
       "      <td>14</td>\n",
       "      <td>5</td>\n",
       "    </tr>\n",
       "    <tr>\n",
       "      <th>10</th>\n",
       "      <td>NaN</td>\n",
       "      <td>Website</td>\n",
       "      <td>Sales-Agent-10</td>\n",
       "      <td>NaN</td>\n",
       "      <td>Mode-5</td>\n",
       "      <td>High Potential</td>\n",
       "      <td>2</td>\n",
       "      <td>11</td>\n",
       "      <td>14</td>\n",
       "      <td>5</td>\n",
       "    </tr>\n",
       "    <tr>\n",
       "      <th>11</th>\n",
       "      <td>NaN</td>\n",
       "      <td>Website</td>\n",
       "      <td>Sales-Agent-10</td>\n",
       "      <td>NaN</td>\n",
       "      <td>Mode-5</td>\n",
       "      <td>High Potential</td>\n",
       "      <td>2</td>\n",
       "      <td>11</td>\n",
       "      <td>14</td>\n",
       "      <td>4</td>\n",
       "    </tr>\n",
       "    <tr>\n",
       "      <th>12</th>\n",
       "      <td>NaN</td>\n",
       "      <td>Website</td>\n",
       "      <td>Sales-Agent-10</td>\n",
       "      <td>NaN</td>\n",
       "      <td>Mode-5</td>\n",
       "      <td>High Potential</td>\n",
       "      <td>2</td>\n",
       "      <td>11</td>\n",
       "      <td>14</td>\n",
       "      <td>2</td>\n",
       "    </tr>\n",
       "    <tr>\n",
       "      <th>13</th>\n",
       "      <td>NaN</td>\n",
       "      <td>NaN</td>\n",
       "      <td>Sales-Agent-10</td>\n",
       "      <td>NaN</td>\n",
       "      <td>Mode-5</td>\n",
       "      <td>High Potential</td>\n",
       "      <td>1</td>\n",
       "      <td>11</td>\n",
       "      <td>13</td>\n",
       "      <td>23</td>\n",
       "    </tr>\n",
       "    <tr>\n",
       "      <th>14</th>\n",
       "      <td>NaN</td>\n",
       "      <td>Website</td>\n",
       "      <td>Sales-Agent-10</td>\n",
       "      <td>NaN</td>\n",
       "      <td>Mode-5</td>\n",
       "      <td>High Potential</td>\n",
       "      <td>1</td>\n",
       "      <td>11</td>\n",
       "      <td>13</td>\n",
       "      <td>21</td>\n",
       "    </tr>\n",
       "    <tr>\n",
       "      <th>15</th>\n",
       "      <td>NaN</td>\n",
       "      <td>NaN</td>\n",
       "      <td>Sales-Agent-10</td>\n",
       "      <td>NaN</td>\n",
       "      <td>Mode-5</td>\n",
       "      <td>High Potential</td>\n",
       "      <td>1</td>\n",
       "      <td>11</td>\n",
       "      <td>13</td>\n",
       "      <td>20</td>\n",
       "    </tr>\n",
       "    <tr>\n",
       "      <th>16</th>\n",
       "      <td>NaN</td>\n",
       "      <td>Website</td>\n",
       "      <td>Sales-Agent-10</td>\n",
       "      <td>NaN</td>\n",
       "      <td>Mode-5</td>\n",
       "      <td>High Potential</td>\n",
       "      <td>1</td>\n",
       "      <td>11</td>\n",
       "      <td>13</td>\n",
       "      <td>20</td>\n",
       "    </tr>\n",
       "    <tr>\n",
       "      <th>17</th>\n",
       "      <td>NaN</td>\n",
       "      <td>Website</td>\n",
       "      <td>Sales-Agent-10</td>\n",
       "      <td>NaN</td>\n",
       "      <td>Mode-5</td>\n",
       "      <td>High Potential</td>\n",
       "      <td>1</td>\n",
       "      <td>11</td>\n",
       "      <td>13</td>\n",
       "      <td>20</td>\n",
       "    </tr>\n",
       "    <tr>\n",
       "      <th>20</th>\n",
       "      <td>NaN</td>\n",
       "      <td>Website</td>\n",
       "      <td>Sales-Agent-10</td>\n",
       "      <td>NaN</td>\n",
       "      <td>Mode-5</td>\n",
       "      <td>High Potential</td>\n",
       "      <td>1</td>\n",
       "      <td>11</td>\n",
       "      <td>13</td>\n",
       "      <td>18</td>\n",
       "    </tr>\n",
       "    <tr>\n",
       "      <th>21</th>\n",
       "      <td>NaN</td>\n",
       "      <td>NaN</td>\n",
       "      <td>Sales-Agent-10</td>\n",
       "      <td>NaN</td>\n",
       "      <td>Mode-5</td>\n",
       "      <td>High Potential</td>\n",
       "      <td>1</td>\n",
       "      <td>11</td>\n",
       "      <td>13</td>\n",
       "      <td>18</td>\n",
       "    </tr>\n",
       "    <tr>\n",
       "      <th>22</th>\n",
       "      <td>NaN</td>\n",
       "      <td>Website</td>\n",
       "      <td>Sales-Agent-10</td>\n",
       "      <td>NaN</td>\n",
       "      <td>Mode-5</td>\n",
       "      <td>High Potential</td>\n",
       "      <td>1</td>\n",
       "      <td>11</td>\n",
       "      <td>13</td>\n",
       "      <td>18</td>\n",
       "    </tr>\n",
       "    <tr>\n",
       "      <th>23</th>\n",
       "      <td>NaN</td>\n",
       "      <td>Call</td>\n",
       "      <td>Sales-Agent-9</td>\n",
       "      <td>UAE</td>\n",
       "      <td>Mode-3</td>\n",
       "      <td>High Potential</td>\n",
       "      <td>1</td>\n",
       "      <td>11</td>\n",
       "      <td>13</td>\n",
       "      <td>17</td>\n",
       "    </tr>\n",
       "    <tr>\n",
       "      <th>126</th>\n",
       "      <td>NaN</td>\n",
       "      <td>Website</td>\n",
       "      <td>Sales-Agent-10</td>\n",
       "      <td>NaN</td>\n",
       "      <td>Mode-5</td>\n",
       "      <td>High Potential</td>\n",
       "      <td>3</td>\n",
       "      <td>10</td>\n",
       "      <td>11</td>\n",
       "      <td>22</td>\n",
       "    </tr>\n",
       "    <tr>\n",
       "      <th>127</th>\n",
       "      <td>NaN</td>\n",
       "      <td>Website</td>\n",
       "      <td>Sales-Agent-10</td>\n",
       "      <td>NaN</td>\n",
       "      <td>Mode-5</td>\n",
       "      <td>High Potential</td>\n",
       "      <td>3</td>\n",
       "      <td>10</td>\n",
       "      <td>11</td>\n",
       "      <td>21</td>\n",
       "    </tr>\n",
       "    <tr>\n",
       "      <th>128</th>\n",
       "      <td>NaN</td>\n",
       "      <td>NaN</td>\n",
       "      <td>Sales-Agent-10</td>\n",
       "      <td>NaN</td>\n",
       "      <td>Mode-5</td>\n",
       "      <td>High Potential</td>\n",
       "      <td>3</td>\n",
       "      <td>10</td>\n",
       "      <td>11</td>\n",
       "      <td>20</td>\n",
       "    </tr>\n",
       "    <tr>\n",
       "      <th>129</th>\n",
       "      <td>NaN</td>\n",
       "      <td>Website</td>\n",
       "      <td>Sales-Agent-10</td>\n",
       "      <td>NaN</td>\n",
       "      <td>Mode-5</td>\n",
       "      <td>High Potential</td>\n",
       "      <td>3</td>\n",
       "      <td>10</td>\n",
       "      <td>11</td>\n",
       "      <td>20</td>\n",
       "    </tr>\n",
       "    <tr>\n",
       "      <th>130</th>\n",
       "      <td>NaN</td>\n",
       "      <td>Website</td>\n",
       "      <td>Sales-Agent-10</td>\n",
       "      <td>NaN</td>\n",
       "      <td>Mode-5</td>\n",
       "      <td>High Potential</td>\n",
       "      <td>3</td>\n",
       "      <td>10</td>\n",
       "      <td>11</td>\n",
       "      <td>20</td>\n",
       "    </tr>\n",
       "    <tr>\n",
       "      <th>131</th>\n",
       "      <td>NaN</td>\n",
       "      <td>Website</td>\n",
       "      <td>Sales-Agent-10</td>\n",
       "      <td>NaN</td>\n",
       "      <td>Mode-5</td>\n",
       "      <td>High Potential</td>\n",
       "      <td>3</td>\n",
       "      <td>10</td>\n",
       "      <td>11</td>\n",
       "      <td>20</td>\n",
       "    </tr>\n",
       "    <tr>\n",
       "      <th>132</th>\n",
       "      <td>NaN</td>\n",
       "      <td>Website</td>\n",
       "      <td>Sales-Agent-10</td>\n",
       "      <td>NaN</td>\n",
       "      <td>Mode-5</td>\n",
       "      <td>High Potential</td>\n",
       "      <td>3</td>\n",
       "      <td>10</td>\n",
       "      <td>11</td>\n",
       "      <td>20</td>\n",
       "    </tr>\n",
       "    <tr>\n",
       "      <th>133</th>\n",
       "      <td>NaN</td>\n",
       "      <td>Website</td>\n",
       "      <td>Sales-Agent-10</td>\n",
       "      <td>NaN</td>\n",
       "      <td>Mode-5</td>\n",
       "      <td>High Potential</td>\n",
       "      <td>3</td>\n",
       "      <td>10</td>\n",
       "      <td>11</td>\n",
       "      <td>20</td>\n",
       "    </tr>\n",
       "    <tr>\n",
       "      <th>134</th>\n",
       "      <td>NaN</td>\n",
       "      <td>Website</td>\n",
       "      <td>Sales-Agent-10</td>\n",
       "      <td>NaN</td>\n",
       "      <td>Mode-5</td>\n",
       "      <td>High Potential</td>\n",
       "      <td>3</td>\n",
       "      <td>10</td>\n",
       "      <td>11</td>\n",
       "      <td>20</td>\n",
       "    </tr>\n",
       "    <tr>\n",
       "      <th>135</th>\n",
       "      <td>NaN</td>\n",
       "      <td>Website</td>\n",
       "      <td>Sales-Agent-10</td>\n",
       "      <td>NaN</td>\n",
       "      <td>Mode-5</td>\n",
       "      <td>High Potential</td>\n",
       "      <td>3</td>\n",
       "      <td>10</td>\n",
       "      <td>11</td>\n",
       "      <td>20</td>\n",
       "    </tr>\n",
       "    <tr>\n",
       "      <th>136</th>\n",
       "      <td>NaN</td>\n",
       "      <td>Website</td>\n",
       "      <td>Sales-Agent-10</td>\n",
       "      <td>NaN</td>\n",
       "      <td>Mode-5</td>\n",
       "      <td>High Potential</td>\n",
       "      <td>3</td>\n",
       "      <td>10</td>\n",
       "      <td>11</td>\n",
       "      <td>19</td>\n",
       "    </tr>\n",
       "    <tr>\n",
       "      <th>137</th>\n",
       "      <td>NaN</td>\n",
       "      <td>Website</td>\n",
       "      <td>Sales-Agent-10</td>\n",
       "      <td>NaN</td>\n",
       "      <td>Mode-5</td>\n",
       "      <td>High Potential</td>\n",
       "      <td>3</td>\n",
       "      <td>10</td>\n",
       "      <td>11</td>\n",
       "      <td>19</td>\n",
       "    </tr>\n",
       "    <tr>\n",
       "      <th>138</th>\n",
       "      <td>NaN</td>\n",
       "      <td>NaN</td>\n",
       "      <td>Sales-Agent-10</td>\n",
       "      <td>NaN</td>\n",
       "      <td>Mode-5</td>\n",
       "      <td>High Potential</td>\n",
       "      <td>3</td>\n",
       "      <td>10</td>\n",
       "      <td>11</td>\n",
       "      <td>18</td>\n",
       "    </tr>\n",
       "    <tr>\n",
       "      <th>1888</th>\n",
       "      <td>NaN</td>\n",
       "      <td>Live Chat-Direct</td>\n",
       "      <td>Sales-Agent-5</td>\n",
       "      <td>Mumbai</td>\n",
       "      <td>Mode-3</td>\n",
       "      <td>Low Potential</td>\n",
       "      <td>0</td>\n",
       "      <td>9</td>\n",
       "      <td>17</td>\n",
       "      <td>18</td>\n",
       "    </tr>\n",
       "    <tr>\n",
       "      <th>2487</th>\n",
       "      <td>NaN</td>\n",
       "      <td>Website</td>\n",
       "      <td>Sales-Agent-10</td>\n",
       "      <td>NaN</td>\n",
       "      <td>Mode-5</td>\n",
       "      <td>High Potential</td>\n",
       "      <td>4</td>\n",
       "      <td>8</td>\n",
       "      <td>31</td>\n",
       "      <td>22</td>\n",
       "    </tr>\n",
       "    <tr>\n",
       "      <th>2488</th>\n",
       "      <td>NaN</td>\n",
       "      <td>Website</td>\n",
       "      <td>Sales-Agent-10</td>\n",
       "      <td>NaN</td>\n",
       "      <td>Mode-5</td>\n",
       "      <td>High Potential</td>\n",
       "      <td>4</td>\n",
       "      <td>8</td>\n",
       "      <td>31</td>\n",
       "      <td>21</td>\n",
       "    </tr>\n",
       "    <tr>\n",
       "      <th>2489</th>\n",
       "      <td>NaN</td>\n",
       "      <td>Website</td>\n",
       "      <td>Sales-Agent-10</td>\n",
       "      <td>NaN</td>\n",
       "      <td>Mode-5</td>\n",
       "      <td>High Potential</td>\n",
       "      <td>4</td>\n",
       "      <td>8</td>\n",
       "      <td>31</td>\n",
       "      <td>20</td>\n",
       "    </tr>\n",
       "    <tr>\n",
       "      <th>2556</th>\n",
       "      <td>NaN</td>\n",
       "      <td>NaN</td>\n",
       "      <td>Sales-Agent-1</td>\n",
       "      <td>NaN</td>\n",
       "      <td>Mode-5</td>\n",
       "      <td>High Potential</td>\n",
       "      <td>2</td>\n",
       "      <td>8</td>\n",
       "      <td>29</td>\n",
       "      <td>19</td>\n",
       "    </tr>\n",
       "    <tr>\n",
       "      <th>2726</th>\n",
       "      <td>NaN</td>\n",
       "      <td>Website</td>\n",
       "      <td>Sales-Agent-11</td>\n",
       "      <td>NaN</td>\n",
       "      <td>Mode-5</td>\n",
       "      <td>High Potential</td>\n",
       "      <td>4</td>\n",
       "      <td>8</td>\n",
       "      <td>24</td>\n",
       "      <td>15</td>\n",
       "    </tr>\n",
       "    <tr>\n",
       "      <th>2727</th>\n",
       "      <td>NaN</td>\n",
       "      <td>US Website</td>\n",
       "      <td>Sales-Agent-5</td>\n",
       "      <td>NaN</td>\n",
       "      <td>Mode-5</td>\n",
       "      <td>Low Potential</td>\n",
       "      <td>4</td>\n",
       "      <td>8</td>\n",
       "      <td>24</td>\n",
       "      <td>14</td>\n",
       "    </tr>\n",
       "    <tr>\n",
       "      <th>2729</th>\n",
       "      <td>NaN</td>\n",
       "      <td>US Website</td>\n",
       "      <td>Sales-Agent-11</td>\n",
       "      <td>NaN</td>\n",
       "      <td>Mode-5</td>\n",
       "      <td>High Potential</td>\n",
       "      <td>4</td>\n",
       "      <td>8</td>\n",
       "      <td>24</td>\n",
       "      <td>13</td>\n",
       "    </tr>\n",
       "    <tr>\n",
       "      <th>3023</th>\n",
       "      <td>NaN</td>\n",
       "      <td>Call</td>\n",
       "      <td>Sales-Agent-5</td>\n",
       "      <td>Other Locations</td>\n",
       "      <td>Mode-5</td>\n",
       "      <td>Low Potential</td>\n",
       "      <td>3</td>\n",
       "      <td>8</td>\n",
       "      <td>16</td>\n",
       "      <td>12</td>\n",
       "    </tr>\n",
       "    <tr>\n",
       "      <th>3051</th>\n",
       "      <td>NaN</td>\n",
       "      <td>NaN</td>\n",
       "      <td>Sales-Agent-1</td>\n",
       "      <td>NaN</td>\n",
       "      <td>Mode-5</td>\n",
       "      <td>High Potential</td>\n",
       "      <td>2</td>\n",
       "      <td>8</td>\n",
       "      <td>15</td>\n",
       "      <td>21</td>\n",
       "    </tr>\n",
       "    <tr>\n",
       "      <th>3053</th>\n",
       "      <td>NaN</td>\n",
       "      <td>Website</td>\n",
       "      <td>Sales-Agent-10</td>\n",
       "      <td>NaN</td>\n",
       "      <td>Mode-5</td>\n",
       "      <td>High Potential</td>\n",
       "      <td>2</td>\n",
       "      <td>8</td>\n",
       "      <td>15</td>\n",
       "      <td>20</td>\n",
       "    </tr>\n",
       "    <tr>\n",
       "      <th>3061</th>\n",
       "      <td>NaN</td>\n",
       "      <td>Website</td>\n",
       "      <td>Sales-Agent-10</td>\n",
       "      <td>NaN</td>\n",
       "      <td>Mode-5</td>\n",
       "      <td>High Potential</td>\n",
       "      <td>1</td>\n",
       "      <td>8</td>\n",
       "      <td>14</td>\n",
       "      <td>21</td>\n",
       "    </tr>\n",
       "    <tr>\n",
       "      <th>3130</th>\n",
       "      <td>NaN</td>\n",
       "      <td>Website</td>\n",
       "      <td>Sales-Agent-10</td>\n",
       "      <td>NaN</td>\n",
       "      <td>Mode-5</td>\n",
       "      <td>High Potential</td>\n",
       "      <td>0</td>\n",
       "      <td>8</td>\n",
       "      <td>13</td>\n",
       "      <td>16</td>\n",
       "    </tr>\n",
       "    <tr>\n",
       "      <th>3250</th>\n",
       "      <td>NaN</td>\n",
       "      <td>Website</td>\n",
       "      <td>Sales-Agent-10</td>\n",
       "      <td>NaN</td>\n",
       "      <td>Mode-5</td>\n",
       "      <td>High Potential</td>\n",
       "      <td>5</td>\n",
       "      <td>9</td>\n",
       "      <td>8</td>\n",
       "      <td>18</td>\n",
       "    </tr>\n",
       "    <tr>\n",
       "      <th>3384</th>\n",
       "      <td>NaN</td>\n",
       "      <td>US Website</td>\n",
       "      <td>Sales-Agent-10</td>\n",
       "      <td>NaN</td>\n",
       "      <td>Mode-5</td>\n",
       "      <td>High Potential</td>\n",
       "      <td>4</td>\n",
       "      <td>6</td>\n",
       "      <td>8</td>\n",
       "      <td>20</td>\n",
       "    </tr>\n",
       "    <tr>\n",
       "      <th>3740</th>\n",
       "      <td>NaN</td>\n",
       "      <td>Website</td>\n",
       "      <td>Sales-Agent-10</td>\n",
       "      <td>NaN</td>\n",
       "      <td>Mode-5</td>\n",
       "      <td>High Potential</td>\n",
       "      <td>5</td>\n",
       "      <td>7</td>\n",
       "      <td>28</td>\n",
       "      <td>23</td>\n",
       "    </tr>\n",
       "    <tr>\n",
       "      <th>3752</th>\n",
       "      <td>NaN</td>\n",
       "      <td>Live Chat-Direct</td>\n",
       "      <td>Sales-Agent-5</td>\n",
       "      <td>Other Locations</td>\n",
       "      <td>Mode-5</td>\n",
       "      <td>High Potential</td>\n",
       "      <td>5</td>\n",
       "      <td>7</td>\n",
       "      <td>28</td>\n",
       "      <td>12</td>\n",
       "    </tr>\n",
       "    <tr>\n",
       "      <th>4979</th>\n",
       "      <td>NaN</td>\n",
       "      <td>NaN</td>\n",
       "      <td>Sales-Agent-1</td>\n",
       "      <td>NaN</td>\n",
       "      <td>Mode-5</td>\n",
       "      <td>High Potential</td>\n",
       "      <td>0</td>\n",
       "      <td>6</td>\n",
       "      <td>25</td>\n",
       "      <td>16</td>\n",
       "    </tr>\n",
       "    <tr>\n",
       "      <th>5086</th>\n",
       "      <td>NaN</td>\n",
       "      <td>Website</td>\n",
       "      <td>Sales-Agent-4</td>\n",
       "      <td>Other Locations</td>\n",
       "      <td>Mode-3</td>\n",
       "      <td>Low Potential</td>\n",
       "      <td>4</td>\n",
       "      <td>6</td>\n",
       "      <td>22</td>\n",
       "      <td>15</td>\n",
       "    </tr>\n",
       "    <tr>\n",
       "      <th>5235</th>\n",
       "      <td>NaN</td>\n",
       "      <td>Website</td>\n",
       "      <td>Sales-Agent-10</td>\n",
       "      <td>NaN</td>\n",
       "      <td>Mode-5</td>\n",
       "      <td>High Potential</td>\n",
       "      <td>1</td>\n",
       "      <td>6</td>\n",
       "      <td>19</td>\n",
       "      <td>23</td>\n",
       "    </tr>\n",
       "    <tr>\n",
       "      <th>5258</th>\n",
       "      <td>NaN</td>\n",
       "      <td>NaN</td>\n",
       "      <td>Sales-Agent-1</td>\n",
       "      <td>NaN</td>\n",
       "      <td>Mode-5</td>\n",
       "      <td>High Potential</td>\n",
       "      <td>1</td>\n",
       "      <td>6</td>\n",
       "      <td>19</td>\n",
       "      <td>17</td>\n",
       "    </tr>\n",
       "    <tr>\n",
       "      <th>5549</th>\n",
       "      <td>NaN</td>\n",
       "      <td>NaN</td>\n",
       "      <td>Sales-Agent-10</td>\n",
       "      <td>NaN</td>\n",
       "      <td>Mode-5</td>\n",
       "      <td>High Potential</td>\n",
       "      <td>3</td>\n",
       "      <td>12</td>\n",
       "      <td>6</td>\n",
       "      <td>21</td>\n",
       "    </tr>\n",
       "    <tr>\n",
       "      <th>5664</th>\n",
       "      <td>NaN</td>\n",
       "      <td>US Website</td>\n",
       "      <td>Sales-Agent-4</td>\n",
       "      <td>Other Locations</td>\n",
       "      <td>Mode-5</td>\n",
       "      <td>Low Potential</td>\n",
       "      <td>5</td>\n",
       "      <td>10</td>\n",
       "      <td>6</td>\n",
       "      <td>11</td>\n",
       "    </tr>\n",
       "  </tbody>\n",
       "</table>\n",
       "</div>"
      ],
      "text/plain": [
       "      Product_ID            Source     Sales_Agent         Location  \\\n",
       "0            NaN           Website  Sales-Agent-11              NaN   \n",
       "1            NaN           Website  Sales-Agent-10              NaN   \n",
       "2            NaN           Website  Sales-Agent-10              NaN   \n",
       "3            NaN           Website  Sales-Agent-10              NaN   \n",
       "4            NaN           Website  Sales-Agent-10              NaN   \n",
       "5            NaN           Website  Sales-Agent-10              NaN   \n",
       "6            NaN           Website  Sales-Agent-10              NaN   \n",
       "7            NaN           Website  Sales-Agent-10              NaN   \n",
       "8            NaN           Website  Sales-Agent-10              NaN   \n",
       "9            NaN           Website  Sales-Agent-10              NaN   \n",
       "10           NaN           Website  Sales-Agent-10              NaN   \n",
       "11           NaN           Website  Sales-Agent-10              NaN   \n",
       "12           NaN           Website  Sales-Agent-10              NaN   \n",
       "13           NaN               NaN  Sales-Agent-10              NaN   \n",
       "14           NaN           Website  Sales-Agent-10              NaN   \n",
       "15           NaN               NaN  Sales-Agent-10              NaN   \n",
       "16           NaN           Website  Sales-Agent-10              NaN   \n",
       "17           NaN           Website  Sales-Agent-10              NaN   \n",
       "20           NaN           Website  Sales-Agent-10              NaN   \n",
       "21           NaN               NaN  Sales-Agent-10              NaN   \n",
       "22           NaN           Website  Sales-Agent-10              NaN   \n",
       "23           NaN              Call   Sales-Agent-9              UAE   \n",
       "126          NaN           Website  Sales-Agent-10              NaN   \n",
       "127          NaN           Website  Sales-Agent-10              NaN   \n",
       "128          NaN               NaN  Sales-Agent-10              NaN   \n",
       "129          NaN           Website  Sales-Agent-10              NaN   \n",
       "130          NaN           Website  Sales-Agent-10              NaN   \n",
       "131          NaN           Website  Sales-Agent-10              NaN   \n",
       "132          NaN           Website  Sales-Agent-10              NaN   \n",
       "133          NaN           Website  Sales-Agent-10              NaN   \n",
       "134          NaN           Website  Sales-Agent-10              NaN   \n",
       "135          NaN           Website  Sales-Agent-10              NaN   \n",
       "136          NaN           Website  Sales-Agent-10              NaN   \n",
       "137          NaN           Website  Sales-Agent-10              NaN   \n",
       "138          NaN               NaN  Sales-Agent-10              NaN   \n",
       "1888         NaN  Live Chat-Direct   Sales-Agent-5           Mumbai   \n",
       "2487         NaN           Website  Sales-Agent-10              NaN   \n",
       "2488         NaN           Website  Sales-Agent-10              NaN   \n",
       "2489         NaN           Website  Sales-Agent-10              NaN   \n",
       "2556         NaN               NaN   Sales-Agent-1              NaN   \n",
       "2726         NaN           Website  Sales-Agent-11              NaN   \n",
       "2727         NaN        US Website   Sales-Agent-5              NaN   \n",
       "2729         NaN        US Website  Sales-Agent-11              NaN   \n",
       "3023         NaN              Call   Sales-Agent-5  Other Locations   \n",
       "3051         NaN               NaN   Sales-Agent-1              NaN   \n",
       "3053         NaN           Website  Sales-Agent-10              NaN   \n",
       "3061         NaN           Website  Sales-Agent-10              NaN   \n",
       "3130         NaN           Website  Sales-Agent-10              NaN   \n",
       "3250         NaN           Website  Sales-Agent-10              NaN   \n",
       "3384         NaN        US Website  Sales-Agent-10              NaN   \n",
       "3740         NaN           Website  Sales-Agent-10              NaN   \n",
       "3752         NaN  Live Chat-Direct   Sales-Agent-5  Other Locations   \n",
       "4979         NaN               NaN   Sales-Agent-1              NaN   \n",
       "5086         NaN           Website   Sales-Agent-4  Other Locations   \n",
       "5235         NaN           Website  Sales-Agent-10              NaN   \n",
       "5258         NaN               NaN   Sales-Agent-1              NaN   \n",
       "5549         NaN               NaN  Sales-Agent-10              NaN   \n",
       "5664         NaN        US Website   Sales-Agent-4  Other Locations   \n",
       "\n",
       "     Delivery_Mode          Status  Weekday  Month  Day  Hour  \n",
       "0           Mode-5  High Potential        2     11   14    10  \n",
       "1           Mode-5  High Potential        2     11   14     9  \n",
       "2           Mode-5  High Potential        2     11   14     9  \n",
       "3           Mode-5  High Potential        2     11   14     8  \n",
       "4           Mode-5  High Potential        2     11   14     7  \n",
       "5           Mode-5  High Potential        2     11   14     7  \n",
       "6           Mode-5  High Potential        2     11   14     5  \n",
       "7           Mode-5  High Potential        2     11   14     5  \n",
       "8           Mode-5  High Potential        2     11   14     5  \n",
       "9           Mode-5  High Potential        2     11   14     5  \n",
       "10          Mode-5  High Potential        2     11   14     5  \n",
       "11          Mode-5  High Potential        2     11   14     4  \n",
       "12          Mode-5  High Potential        2     11   14     2  \n",
       "13          Mode-5  High Potential        1     11   13    23  \n",
       "14          Mode-5  High Potential        1     11   13    21  \n",
       "15          Mode-5  High Potential        1     11   13    20  \n",
       "16          Mode-5  High Potential        1     11   13    20  \n",
       "17          Mode-5  High Potential        1     11   13    20  \n",
       "20          Mode-5  High Potential        1     11   13    18  \n",
       "21          Mode-5  High Potential        1     11   13    18  \n",
       "22          Mode-5  High Potential        1     11   13    18  \n",
       "23          Mode-3  High Potential        1     11   13    17  \n",
       "126         Mode-5  High Potential        3     10   11    22  \n",
       "127         Mode-5  High Potential        3     10   11    21  \n",
       "128         Mode-5  High Potential        3     10   11    20  \n",
       "129         Mode-5  High Potential        3     10   11    20  \n",
       "130         Mode-5  High Potential        3     10   11    20  \n",
       "131         Mode-5  High Potential        3     10   11    20  \n",
       "132         Mode-5  High Potential        3     10   11    20  \n",
       "133         Mode-5  High Potential        3     10   11    20  \n",
       "134         Mode-5  High Potential        3     10   11    20  \n",
       "135         Mode-5  High Potential        3     10   11    20  \n",
       "136         Mode-5  High Potential        3     10   11    19  \n",
       "137         Mode-5  High Potential        3     10   11    19  \n",
       "138         Mode-5  High Potential        3     10   11    18  \n",
       "1888        Mode-3   Low Potential        0      9   17    18  \n",
       "2487        Mode-5  High Potential        4      8   31    22  \n",
       "2488        Mode-5  High Potential        4      8   31    21  \n",
       "2489        Mode-5  High Potential        4      8   31    20  \n",
       "2556        Mode-5  High Potential        2      8   29    19  \n",
       "2726        Mode-5  High Potential        4      8   24    15  \n",
       "2727        Mode-5   Low Potential        4      8   24    14  \n",
       "2729        Mode-5  High Potential        4      8   24    13  \n",
       "3023        Mode-5   Low Potential        3      8   16    12  \n",
       "3051        Mode-5  High Potential        2      8   15    21  \n",
       "3053        Mode-5  High Potential        2      8   15    20  \n",
       "3061        Mode-5  High Potential        1      8   14    21  \n",
       "3130        Mode-5  High Potential        0      8   13    16  \n",
       "3250        Mode-5  High Potential        5      9    8    18  \n",
       "3384        Mode-5  High Potential        4      6    8    20  \n",
       "3740        Mode-5  High Potential        5      7   28    23  \n",
       "3752        Mode-5  High Potential        5      7   28    12  \n",
       "4979        Mode-5  High Potential        0      6   25    16  \n",
       "5086        Mode-3   Low Potential        4      6   22    15  \n",
       "5235        Mode-5  High Potential        1      6   19    23  \n",
       "5258        Mode-5  High Potential        1      6   19    17  \n",
       "5549        Mode-5  High Potential        3     12    6    21  \n",
       "5664        Mode-5   Low Potential        5     10    6    11  "
      ]
     },
     "execution_count": 15,
     "metadata": {},
     "output_type": "execute_result"
    }
   ],
   "source": [
    "data.loc[data.Product_ID.isnull()]"
   ]
  },
  {
   "cell_type": "code",
   "execution_count": 16,
   "id": "8f061e8e",
   "metadata": {},
   "outputs": [
    {
     "data": {
      "text/html": [
       "<div>\n",
       "<style scoped>\n",
       "    .dataframe tbody tr th:only-of-type {\n",
       "        vertical-align: middle;\n",
       "    }\n",
       "\n",
       "    .dataframe tbody tr th {\n",
       "        vertical-align: top;\n",
       "    }\n",
       "\n",
       "    .dataframe thead th {\n",
       "        text-align: right;\n",
       "    }\n",
       "</style>\n",
       "<table border=\"1\" class=\"dataframe\">\n",
       "  <thead>\n",
       "    <tr style=\"text-align: right;\">\n",
       "      <th></th>\n",
       "      <th>Product_ID</th>\n",
       "      <th>Source</th>\n",
       "      <th>Sales_Agent</th>\n",
       "      <th>Location</th>\n",
       "      <th>Delivery_Mode</th>\n",
       "      <th>Status</th>\n",
       "      <th>Weekday</th>\n",
       "      <th>Month</th>\n",
       "      <th>Day</th>\n",
       "      <th>Hour</th>\n",
       "    </tr>\n",
       "  </thead>\n",
       "  <tbody>\n",
       "    <tr>\n",
       "      <th>13</th>\n",
       "      <td>NaN</td>\n",
       "      <td>NaN</td>\n",
       "      <td>Sales-Agent-10</td>\n",
       "      <td>NaN</td>\n",
       "      <td>Mode-5</td>\n",
       "      <td>High Potential</td>\n",
       "      <td>1</td>\n",
       "      <td>11</td>\n",
       "      <td>13</td>\n",
       "      <td>23</td>\n",
       "    </tr>\n",
       "    <tr>\n",
       "      <th>15</th>\n",
       "      <td>NaN</td>\n",
       "      <td>NaN</td>\n",
       "      <td>Sales-Agent-10</td>\n",
       "      <td>NaN</td>\n",
       "      <td>Mode-5</td>\n",
       "      <td>High Potential</td>\n",
       "      <td>1</td>\n",
       "      <td>11</td>\n",
       "      <td>13</td>\n",
       "      <td>20</td>\n",
       "    </tr>\n",
       "    <tr>\n",
       "      <th>21</th>\n",
       "      <td>NaN</td>\n",
       "      <td>NaN</td>\n",
       "      <td>Sales-Agent-10</td>\n",
       "      <td>NaN</td>\n",
       "      <td>Mode-5</td>\n",
       "      <td>High Potential</td>\n",
       "      <td>1</td>\n",
       "      <td>11</td>\n",
       "      <td>13</td>\n",
       "      <td>18</td>\n",
       "    </tr>\n",
       "    <tr>\n",
       "      <th>128</th>\n",
       "      <td>NaN</td>\n",
       "      <td>NaN</td>\n",
       "      <td>Sales-Agent-10</td>\n",
       "      <td>NaN</td>\n",
       "      <td>Mode-5</td>\n",
       "      <td>High Potential</td>\n",
       "      <td>3</td>\n",
       "      <td>10</td>\n",
       "      <td>11</td>\n",
       "      <td>20</td>\n",
       "    </tr>\n",
       "    <tr>\n",
       "      <th>138</th>\n",
       "      <td>NaN</td>\n",
       "      <td>NaN</td>\n",
       "      <td>Sales-Agent-10</td>\n",
       "      <td>NaN</td>\n",
       "      <td>Mode-5</td>\n",
       "      <td>High Potential</td>\n",
       "      <td>3</td>\n",
       "      <td>10</td>\n",
       "      <td>11</td>\n",
       "      <td>18</td>\n",
       "    </tr>\n",
       "    <tr>\n",
       "      <th>2518</th>\n",
       "      <td>18.0</td>\n",
       "      <td>NaN</td>\n",
       "      <td>Sales-Agent-5</td>\n",
       "      <td>Other Locations</td>\n",
       "      <td>Mode-3</td>\n",
       "      <td>Low Potential</td>\n",
       "      <td>3</td>\n",
       "      <td>8</td>\n",
       "      <td>30</td>\n",
       "      <td>20</td>\n",
       "    </tr>\n",
       "    <tr>\n",
       "      <th>2556</th>\n",
       "      <td>NaN</td>\n",
       "      <td>NaN</td>\n",
       "      <td>Sales-Agent-1</td>\n",
       "      <td>NaN</td>\n",
       "      <td>Mode-5</td>\n",
       "      <td>High Potential</td>\n",
       "      <td>2</td>\n",
       "      <td>8</td>\n",
       "      <td>29</td>\n",
       "      <td>19</td>\n",
       "    </tr>\n",
       "    <tr>\n",
       "      <th>2686</th>\n",
       "      <td>9.0</td>\n",
       "      <td>NaN</td>\n",
       "      <td>Sales-Agent-5</td>\n",
       "      <td>Mumbai</td>\n",
       "      <td>Mode-3</td>\n",
       "      <td>High Potential</td>\n",
       "      <td>6</td>\n",
       "      <td>8</td>\n",
       "      <td>26</td>\n",
       "      <td>11</td>\n",
       "    </tr>\n",
       "    <tr>\n",
       "      <th>2712</th>\n",
       "      <td>15.0</td>\n",
       "      <td>NaN</td>\n",
       "      <td>Sales-Agent-5</td>\n",
       "      <td>Mumbai</td>\n",
       "      <td>Mode-5</td>\n",
       "      <td>Low Potential</td>\n",
       "      <td>5</td>\n",
       "      <td>8</td>\n",
       "      <td>25</td>\n",
       "      <td>10</td>\n",
       "    </tr>\n",
       "    <tr>\n",
       "      <th>2767</th>\n",
       "      <td>15.0</td>\n",
       "      <td>NaN</td>\n",
       "      <td>Sales-Agent-11</td>\n",
       "      <td>Hyderabad</td>\n",
       "      <td>Mode-5</td>\n",
       "      <td>Low Potential</td>\n",
       "      <td>3</td>\n",
       "      <td>8</td>\n",
       "      <td>23</td>\n",
       "      <td>14</td>\n",
       "    </tr>\n",
       "    <tr>\n",
       "      <th>3051</th>\n",
       "      <td>NaN</td>\n",
       "      <td>NaN</td>\n",
       "      <td>Sales-Agent-1</td>\n",
       "      <td>NaN</td>\n",
       "      <td>Mode-5</td>\n",
       "      <td>High Potential</td>\n",
       "      <td>2</td>\n",
       "      <td>8</td>\n",
       "      <td>15</td>\n",
       "      <td>21</td>\n",
       "    </tr>\n",
       "    <tr>\n",
       "      <th>4979</th>\n",
       "      <td>NaN</td>\n",
       "      <td>NaN</td>\n",
       "      <td>Sales-Agent-1</td>\n",
       "      <td>NaN</td>\n",
       "      <td>Mode-5</td>\n",
       "      <td>High Potential</td>\n",
       "      <td>0</td>\n",
       "      <td>6</td>\n",
       "      <td>25</td>\n",
       "      <td>16</td>\n",
       "    </tr>\n",
       "    <tr>\n",
       "      <th>5258</th>\n",
       "      <td>NaN</td>\n",
       "      <td>NaN</td>\n",
       "      <td>Sales-Agent-1</td>\n",
       "      <td>NaN</td>\n",
       "      <td>Mode-5</td>\n",
       "      <td>High Potential</td>\n",
       "      <td>1</td>\n",
       "      <td>6</td>\n",
       "      <td>19</td>\n",
       "      <td>17</td>\n",
       "    </tr>\n",
       "    <tr>\n",
       "      <th>5549</th>\n",
       "      <td>NaN</td>\n",
       "      <td>NaN</td>\n",
       "      <td>Sales-Agent-10</td>\n",
       "      <td>NaN</td>\n",
       "      <td>Mode-5</td>\n",
       "      <td>High Potential</td>\n",
       "      <td>3</td>\n",
       "      <td>12</td>\n",
       "      <td>6</td>\n",
       "      <td>21</td>\n",
       "    </tr>\n",
       "    <tr>\n",
       "      <th>6627</th>\n",
       "      <td>9.0</td>\n",
       "      <td>NaN</td>\n",
       "      <td>Sales-Agent-7</td>\n",
       "      <td>Bangalore</td>\n",
       "      <td>Mode-1</td>\n",
       "      <td>Low Potential</td>\n",
       "      <td>3</td>\n",
       "      <td>5</td>\n",
       "      <td>17</td>\n",
       "      <td>14</td>\n",
       "    </tr>\n",
       "    <tr>\n",
       "      <th>6886</th>\n",
       "      <td>5.0</td>\n",
       "      <td>NaN</td>\n",
       "      <td>Sales-Agent-11</td>\n",
       "      <td>Other Locations</td>\n",
       "      <td>Mode-1</td>\n",
       "      <td>High Potential</td>\n",
       "      <td>4</td>\n",
       "      <td>10</td>\n",
       "      <td>5</td>\n",
       "      <td>21</td>\n",
       "    </tr>\n",
       "    <tr>\n",
       "      <th>6910</th>\n",
       "      <td>18.0</td>\n",
       "      <td>NaN</td>\n",
       "      <td>Sales-Agent-7</td>\n",
       "      <td>Chennai</td>\n",
       "      <td>Mode-1</td>\n",
       "      <td>Low Potential</td>\n",
       "      <td>4</td>\n",
       "      <td>10</td>\n",
       "      <td>5</td>\n",
       "      <td>14</td>\n",
       "    </tr>\n",
       "  </tbody>\n",
       "</table>\n",
       "</div>"
      ],
      "text/plain": [
       "      Product_ID Source     Sales_Agent         Location Delivery_Mode  \\\n",
       "13           NaN    NaN  Sales-Agent-10              NaN        Mode-5   \n",
       "15           NaN    NaN  Sales-Agent-10              NaN        Mode-5   \n",
       "21           NaN    NaN  Sales-Agent-10              NaN        Mode-5   \n",
       "128          NaN    NaN  Sales-Agent-10              NaN        Mode-5   \n",
       "138          NaN    NaN  Sales-Agent-10              NaN        Mode-5   \n",
       "2518        18.0    NaN   Sales-Agent-5  Other Locations        Mode-3   \n",
       "2556         NaN    NaN   Sales-Agent-1              NaN        Mode-5   \n",
       "2686         9.0    NaN   Sales-Agent-5           Mumbai        Mode-3   \n",
       "2712        15.0    NaN   Sales-Agent-5           Mumbai        Mode-5   \n",
       "2767        15.0    NaN  Sales-Agent-11        Hyderabad        Mode-5   \n",
       "3051         NaN    NaN   Sales-Agent-1              NaN        Mode-5   \n",
       "4979         NaN    NaN   Sales-Agent-1              NaN        Mode-5   \n",
       "5258         NaN    NaN   Sales-Agent-1              NaN        Mode-5   \n",
       "5549         NaN    NaN  Sales-Agent-10              NaN        Mode-5   \n",
       "6627         9.0    NaN   Sales-Agent-7        Bangalore        Mode-1   \n",
       "6886         5.0    NaN  Sales-Agent-11  Other Locations        Mode-1   \n",
       "6910        18.0    NaN   Sales-Agent-7          Chennai        Mode-1   \n",
       "\n",
       "              Status  Weekday  Month  Day  Hour  \n",
       "13    High Potential        1     11   13    23  \n",
       "15    High Potential        1     11   13    20  \n",
       "21    High Potential        1     11   13    18  \n",
       "128   High Potential        3     10   11    20  \n",
       "138   High Potential        3     10   11    18  \n",
       "2518   Low Potential        3      8   30    20  \n",
       "2556  High Potential        2      8   29    19  \n",
       "2686  High Potential        6      8   26    11  \n",
       "2712   Low Potential        5      8   25    10  \n",
       "2767   Low Potential        3      8   23    14  \n",
       "3051  High Potential        2      8   15    21  \n",
       "4979  High Potential        0      6   25    16  \n",
       "5258  High Potential        1      6   19    17  \n",
       "5549  High Potential        3     12    6    21  \n",
       "6627   Low Potential        3      5   17    14  \n",
       "6886  High Potential        4     10    5    21  \n",
       "6910   Low Potential        4     10    5    14  "
      ]
     },
     "execution_count": 16,
     "metadata": {},
     "output_type": "execute_result"
    }
   ],
   "source": [
    "data.loc[data.Source.isnull()]"
   ]
  },
  {
   "cell_type": "markdown",
   "id": "f757db73",
   "metadata": {},
   "source": [
    "As we can see from the above missing value subsets of the dataframe, most rows contain multiple NaN values. Thus it would be better to drop these NaN values rather than imputing them. Also there are only 156 missing values which makes up only about 0.02% of total observations. Moreover since some rows contain multiple columns with NaN values, the actual number of rows dropped is reduced to 94."
   ]
  },
  {
   "cell_type": "code",
   "execution_count": 17,
   "id": "694169f3",
   "metadata": {},
   "outputs": [
    {
     "data": {
      "text/plain": [
       "Product_ID       0\n",
       "Source           0\n",
       "Sales_Agent      0\n",
       "Location         0\n",
       "Delivery_Mode    0\n",
       "Status           0\n",
       "Weekday          0\n",
       "Month            0\n",
       "Day              0\n",
       "Hour             0\n",
       "dtype: int64"
      ]
     },
     "execution_count": 17,
     "metadata": {},
     "output_type": "execute_result"
    }
   ],
   "source": [
    "data.dropna(inplace=True)\n",
    "data.isnull().sum()\n"
   ]
  },
  {
   "cell_type": "markdown",
   "id": "d0c4cf1c",
   "metadata": {},
   "source": [
    "## Categorical Encoding"
   ]
  },
  {
   "cell_type": "markdown",
   "id": "ac6a72d9",
   "metadata": {},
   "source": [
    "One of the main challenges of this dataset is that it contains multiple high cardinality categorical features which need to be encoded. Using a combination of various types of encoding for different columns like target encoding, one hot encoding, manual encoding etc. would be the best approach since it would help reduce the number of new dimensions created and thus avoid the curse of dimensionality."
   ]
  },
  {
   "cell_type": "markdown",
   "id": "5f457742",
   "metadata": {},
   "source": [
    "#### Manual Encoding 'Status' (target variable)\n",
    "Since our target variable is binary in nature, we will manually encode it by assinging 0 to Low Potential and 1 to High Potential. "
   ]
  },
  {
   "cell_type": "code",
   "execution_count": 18,
   "id": "dc8240d1",
   "metadata": {},
   "outputs": [],
   "source": [
    "data.Status= data.Status.map({'Low Potential':0,'High Potential':1})\n"
   ]
  },
  {
   "cell_type": "markdown",
   "id": "229465f0",
   "metadata": {},
   "source": [
    "#### Target encoding 'Source' and 'Location' \n",
    "These two features have comparitively higher cardinality and thus one hot encoding would result in generation of too many new dimensions. To avoid the curse of dimensionality, we will use target encoding for these features."
   ]
  },
  {
   "cell_type": "code",
   "execution_count": 19,
   "id": "9c0be51b",
   "metadata": {},
   "outputs": [],
   "source": [
    "import category_encoders as ce\n",
    "encoder = ce.TargetEncoder()\n",
    "data.Source = encoder.fit_transform(data.Source, data.Status)\n",
    "data.Location = encoder.fit_transform(data.Location, data.Status)"
   ]
  },
  {
   "cell_type": "markdown",
   "id": "793bfbe5",
   "metadata": {},
   "source": [
    "#### One Hot Encoding 'Sales_Agent', \"Product_ID\" and 'Delivery_Mode'"
   ]
  },
  {
   "cell_type": "code",
   "execution_count": 22,
   "id": "f24b632d",
   "metadata": {},
   "outputs": [],
   "source": [
    "data.Product_ID = data.Product_ID.astype('object')\n",
    "data = pd.get_dummies(data=data, drop_first=True)"
   ]
  },
  {
   "cell_type": "code",
   "execution_count": 23,
   "id": "afd413dd",
   "metadata": {},
   "outputs": [
    {
     "data": {
      "text/html": [
       "<div>\n",
       "<style scoped>\n",
       "    .dataframe tbody tr th:only-of-type {\n",
       "        vertical-align: middle;\n",
       "    }\n",
       "\n",
       "    .dataframe tbody tr th {\n",
       "        vertical-align: top;\n",
       "    }\n",
       "\n",
       "    .dataframe thead th {\n",
       "        text-align: right;\n",
       "    }\n",
       "</style>\n",
       "<table border=\"1\" class=\"dataframe\">\n",
       "  <thead>\n",
       "    <tr style=\"text-align: right;\">\n",
       "      <th></th>\n",
       "      <th>Source</th>\n",
       "      <th>Location</th>\n",
       "      <th>Status</th>\n",
       "      <th>Weekday</th>\n",
       "      <th>Month</th>\n",
       "      <th>Day</th>\n",
       "      <th>Hour</th>\n",
       "      <th>Sales_Agent_Sales-Agent-11</th>\n",
       "      <th>Sales_Agent_Sales-Agent-12</th>\n",
       "      <th>Sales_Agent_Sales-Agent-2</th>\n",
       "      <th>...</th>\n",
       "      <th>Product_ID_19.0</th>\n",
       "      <th>Product_ID_20.0</th>\n",
       "      <th>Product_ID_21.0</th>\n",
       "      <th>Product_ID_22.0</th>\n",
       "      <th>Product_ID_23.0</th>\n",
       "      <th>Product_ID_24.0</th>\n",
       "      <th>Product_ID_25.0</th>\n",
       "      <th>Product_ID_26.0</th>\n",
       "      <th>Product_ID_27.0</th>\n",
       "      <th>Product_ID_28.0</th>\n",
       "    </tr>\n",
       "  </thead>\n",
       "  <tbody>\n",
       "    <tr>\n",
       "      <th>18</th>\n",
       "      <td>0.412639</td>\n",
       "      <td>0.505532</td>\n",
       "      <td>1</td>\n",
       "      <td>1</td>\n",
       "      <td>11</td>\n",
       "      <td>13</td>\n",
       "      <td>18</td>\n",
       "      <td>0</td>\n",
       "      <td>0</td>\n",
       "      <td>0</td>\n",
       "      <td>...</td>\n",
       "      <td>0</td>\n",
       "      <td>0</td>\n",
       "      <td>0</td>\n",
       "      <td>0</td>\n",
       "      <td>0</td>\n",
       "      <td>0</td>\n",
       "      <td>0</td>\n",
       "      <td>0</td>\n",
       "      <td>0</td>\n",
       "      <td>0</td>\n",
       "    </tr>\n",
       "    <tr>\n",
       "      <th>19</th>\n",
       "      <td>0.365536</td>\n",
       "      <td>0.265216</td>\n",
       "      <td>1</td>\n",
       "      <td>1</td>\n",
       "      <td>11</td>\n",
       "      <td>13</td>\n",
       "      <td>18</td>\n",
       "      <td>0</td>\n",
       "      <td>0</td>\n",
       "      <td>0</td>\n",
       "      <td>...</td>\n",
       "      <td>1</td>\n",
       "      <td>0</td>\n",
       "      <td>0</td>\n",
       "      <td>0</td>\n",
       "      <td>0</td>\n",
       "      <td>0</td>\n",
       "      <td>0</td>\n",
       "      <td>0</td>\n",
       "      <td>0</td>\n",
       "      <td>0</td>\n",
       "    </tr>\n",
       "    <tr>\n",
       "      <th>24</th>\n",
       "      <td>0.405545</td>\n",
       "      <td>0.465517</td>\n",
       "      <td>1</td>\n",
       "      <td>1</td>\n",
       "      <td>11</td>\n",
       "      <td>13</td>\n",
       "      <td>17</td>\n",
       "      <td>1</td>\n",
       "      <td>0</td>\n",
       "      <td>0</td>\n",
       "      <td>...</td>\n",
       "      <td>0</td>\n",
       "      <td>0</td>\n",
       "      <td>0</td>\n",
       "      <td>0</td>\n",
       "      <td>0</td>\n",
       "      <td>0</td>\n",
       "      <td>0</td>\n",
       "      <td>0</td>\n",
       "      <td>0</td>\n",
       "      <td>0</td>\n",
       "    </tr>\n",
       "    <tr>\n",
       "      <th>25</th>\n",
       "      <td>0.405545</td>\n",
       "      <td>0.428843</td>\n",
       "      <td>0</td>\n",
       "      <td>1</td>\n",
       "      <td>11</td>\n",
       "      <td>13</td>\n",
       "      <td>16</td>\n",
       "      <td>0</td>\n",
       "      <td>0</td>\n",
       "      <td>0</td>\n",
       "      <td>...</td>\n",
       "      <td>0</td>\n",
       "      <td>0</td>\n",
       "      <td>0</td>\n",
       "      <td>0</td>\n",
       "      <td>0</td>\n",
       "      <td>0</td>\n",
       "      <td>0</td>\n",
       "      <td>0</td>\n",
       "      <td>0</td>\n",
       "      <td>0</td>\n",
       "    </tr>\n",
       "    <tr>\n",
       "      <th>26</th>\n",
       "      <td>0.365536</td>\n",
       "      <td>0.505532</td>\n",
       "      <td>1</td>\n",
       "      <td>1</td>\n",
       "      <td>11</td>\n",
       "      <td>13</td>\n",
       "      <td>16</td>\n",
       "      <td>0</td>\n",
       "      <td>0</td>\n",
       "      <td>0</td>\n",
       "      <td>...</td>\n",
       "      <td>0</td>\n",
       "      <td>0</td>\n",
       "      <td>0</td>\n",
       "      <td>0</td>\n",
       "      <td>0</td>\n",
       "      <td>0</td>\n",
       "      <td>0</td>\n",
       "      <td>0</td>\n",
       "      <td>0</td>\n",
       "      <td>0</td>\n",
       "    </tr>\n",
       "    <tr>\n",
       "      <th>...</th>\n",
       "      <td>...</td>\n",
       "      <td>...</td>\n",
       "      <td>...</td>\n",
       "      <td>...</td>\n",
       "      <td>...</td>\n",
       "      <td>...</td>\n",
       "      <td>...</td>\n",
       "      <td>...</td>\n",
       "      <td>...</td>\n",
       "      <td>...</td>\n",
       "      <td>...</td>\n",
       "      <td>...</td>\n",
       "      <td>...</td>\n",
       "      <td>...</td>\n",
       "      <td>...</td>\n",
       "      <td>...</td>\n",
       "      <td>...</td>\n",
       "      <td>...</td>\n",
       "      <td>...</td>\n",
       "      <td>...</td>\n",
       "      <td>...</td>\n",
       "    </tr>\n",
       "    <tr>\n",
       "      <th>7417</th>\n",
       "      <td>0.365536</td>\n",
       "      <td>0.423559</td>\n",
       "      <td>0</td>\n",
       "      <td>5</td>\n",
       "      <td>4</td>\n",
       "      <td>28</td>\n",
       "      <td>9</td>\n",
       "      <td>0</td>\n",
       "      <td>0</td>\n",
       "      <td>0</td>\n",
       "      <td>...</td>\n",
       "      <td>0</td>\n",
       "      <td>0</td>\n",
       "      <td>0</td>\n",
       "      <td>0</td>\n",
       "      <td>0</td>\n",
       "      <td>0</td>\n",
       "      <td>0</td>\n",
       "      <td>0</td>\n",
       "      <td>0</td>\n",
       "      <td>0</td>\n",
       "    </tr>\n",
       "    <tr>\n",
       "      <th>7418</th>\n",
       "      <td>0.365536</td>\n",
       "      <td>0.265216</td>\n",
       "      <td>0</td>\n",
       "      <td>5</td>\n",
       "      <td>4</td>\n",
       "      <td>28</td>\n",
       "      <td>9</td>\n",
       "      <td>0</td>\n",
       "      <td>1</td>\n",
       "      <td>0</td>\n",
       "      <td>...</td>\n",
       "      <td>0</td>\n",
       "      <td>0</td>\n",
       "      <td>0</td>\n",
       "      <td>0</td>\n",
       "      <td>0</td>\n",
       "      <td>0</td>\n",
       "      <td>0</td>\n",
       "      <td>0</td>\n",
       "      <td>0</td>\n",
       "      <td>0</td>\n",
       "    </tr>\n",
       "    <tr>\n",
       "      <th>7419</th>\n",
       "      <td>0.423645</td>\n",
       "      <td>0.505532</td>\n",
       "      <td>0</td>\n",
       "      <td>5</td>\n",
       "      <td>4</td>\n",
       "      <td>28</td>\n",
       "      <td>9</td>\n",
       "      <td>1</td>\n",
       "      <td>0</td>\n",
       "      <td>0</td>\n",
       "      <td>...</td>\n",
       "      <td>0</td>\n",
       "      <td>0</td>\n",
       "      <td>0</td>\n",
       "      <td>0</td>\n",
       "      <td>0</td>\n",
       "      <td>0</td>\n",
       "      <td>0</td>\n",
       "      <td>0</td>\n",
       "      <td>0</td>\n",
       "      <td>0</td>\n",
       "    </tr>\n",
       "    <tr>\n",
       "      <th>7420</th>\n",
       "      <td>0.363636</td>\n",
       "      <td>0.265216</td>\n",
       "      <td>1</td>\n",
       "      <td>5</td>\n",
       "      <td>4</td>\n",
       "      <td>28</td>\n",
       "      <td>8</td>\n",
       "      <td>0</td>\n",
       "      <td>0</td>\n",
       "      <td>0</td>\n",
       "      <td>...</td>\n",
       "      <td>0</td>\n",
       "      <td>0</td>\n",
       "      <td>1</td>\n",
       "      <td>0</td>\n",
       "      <td>0</td>\n",
       "      <td>0</td>\n",
       "      <td>0</td>\n",
       "      <td>0</td>\n",
       "      <td>0</td>\n",
       "      <td>0</td>\n",
       "    </tr>\n",
       "    <tr>\n",
       "      <th>7421</th>\n",
       "      <td>0.405545</td>\n",
       "      <td>0.507166</td>\n",
       "      <td>1</td>\n",
       "      <td>5</td>\n",
       "      <td>4</td>\n",
       "      <td>28</td>\n",
       "      <td>7</td>\n",
       "      <td>0</td>\n",
       "      <td>0</td>\n",
       "      <td>0</td>\n",
       "      <td>...</td>\n",
       "      <td>0</td>\n",
       "      <td>0</td>\n",
       "      <td>0</td>\n",
       "      <td>0</td>\n",
       "      <td>0</td>\n",
       "      <td>0</td>\n",
       "      <td>1</td>\n",
       "      <td>0</td>\n",
       "      <td>0</td>\n",
       "      <td>0</td>\n",
       "    </tr>\n",
       "  </tbody>\n",
       "</table>\n",
       "<p>7328 rows × 49 columns</p>\n",
       "</div>"
      ],
      "text/plain": [
       "        Source  Location  Status  Weekday  Month  Day  Hour  \\\n",
       "18    0.412639  0.505532       1        1     11   13    18   \n",
       "19    0.365536  0.265216       1        1     11   13    18   \n",
       "24    0.405545  0.465517       1        1     11   13    17   \n",
       "25    0.405545  0.428843       0        1     11   13    16   \n",
       "26    0.365536  0.505532       1        1     11   13    16   \n",
       "...        ...       ...     ...      ...    ...  ...   ...   \n",
       "7417  0.365536  0.423559       0        5      4   28     9   \n",
       "7418  0.365536  0.265216       0        5      4   28     9   \n",
       "7419  0.423645  0.505532       0        5      4   28     9   \n",
       "7420  0.363636  0.265216       1        5      4   28     8   \n",
       "7421  0.405545  0.507166       1        5      4   28     7   \n",
       "\n",
       "      Sales_Agent_Sales-Agent-11  Sales_Agent_Sales-Agent-12  \\\n",
       "18                             0                           0   \n",
       "19                             0                           0   \n",
       "24                             1                           0   \n",
       "25                             0                           0   \n",
       "26                             0                           0   \n",
       "...                          ...                         ...   \n",
       "7417                           0                           0   \n",
       "7418                           0                           1   \n",
       "7419                           1                           0   \n",
       "7420                           0                           0   \n",
       "7421                           0                           0   \n",
       "\n",
       "      Sales_Agent_Sales-Agent-2  ...  Product_ID_19.0  Product_ID_20.0  \\\n",
       "18                            0  ...                0                0   \n",
       "19                            0  ...                1                0   \n",
       "24                            0  ...                0                0   \n",
       "25                            0  ...                0                0   \n",
       "26                            0  ...                0                0   \n",
       "...                         ...  ...              ...              ...   \n",
       "7417                          0  ...                0                0   \n",
       "7418                          0  ...                0                0   \n",
       "7419                          0  ...                0                0   \n",
       "7420                          0  ...                0                0   \n",
       "7421                          0  ...                0                0   \n",
       "\n",
       "      Product_ID_21.0  Product_ID_22.0  Product_ID_23.0  Product_ID_24.0  \\\n",
       "18                  0                0                0                0   \n",
       "19                  0                0                0                0   \n",
       "24                  0                0                0                0   \n",
       "25                  0                0                0                0   \n",
       "26                  0                0                0                0   \n",
       "...               ...              ...              ...              ...   \n",
       "7417                0                0                0                0   \n",
       "7418                0                0                0                0   \n",
       "7419                0                0                0                0   \n",
       "7420                1                0                0                0   \n",
       "7421                0                0                0                0   \n",
       "\n",
       "      Product_ID_25.0  Product_ID_26.0  Product_ID_27.0  Product_ID_28.0  \n",
       "18                  0                0                0                0  \n",
       "19                  0                0                0                0  \n",
       "24                  0                0                0                0  \n",
       "25                  0                0                0                0  \n",
       "26                  0                0                0                0  \n",
       "...               ...              ...              ...              ...  \n",
       "7417                0                0                0                0  \n",
       "7418                0                0                0                0  \n",
       "7419                0                0                0                0  \n",
       "7420                0                0                0                0  \n",
       "7421                1                0                0                0  \n",
       "\n",
       "[7328 rows x 49 columns]"
      ]
     },
     "execution_count": 23,
     "metadata": {},
     "output_type": "execute_result"
    }
   ],
   "source": [
    "data"
   ]
  },
  {
   "cell_type": "markdown",
   "id": "3a4c6bfa",
   "metadata": {},
   "source": [
    "## Handling Outliers\n",
    "Since all of our features are categorical in nature, we dont have to handle any outliers. "
   ]
  },
  {
   "cell_type": "markdown",
   "id": "7a8b4221",
   "metadata": {},
   "source": [
    "# Model Creation"
   ]
  },
  {
   "cell_type": "markdown",
   "id": "1e5ba0c0",
   "metadata": {},
   "source": [
    "## Splitting the Dataset"
   ]
  },
  {
   "cell_type": "code",
   "execution_count": 24,
   "id": "8f400289",
   "metadata": {},
   "outputs": [],
   "source": [
    "from sklearn.model_selection import train_test_split\n",
    "\n",
    "X= data.drop(\"Status\", axis=1)\n",
    "y = data.Status\n",
    "\n",
    "X_train,X_test,y_train,y_test=train_test_split(X,y,random_state=42)"
   ]
  },
  {
   "cell_type": "markdown",
   "id": "07337989",
   "metadata": {},
   "source": [
    "## Model\n"
   ]
  },
  {
   "cell_type": "code",
   "execution_count": 47,
   "id": "50e7c0e3",
   "metadata": {},
   "outputs": [],
   "source": [
    "# Building the ANN\n",
    "import tensorflow as tf\n",
    "ann = tf.keras.models.Sequential()\n",
    "\n",
    "# First Hidden Layer\n",
    "ann.add(tf.keras.layers.Dense(units=32, activation='relu'))\n",
    "\n",
    "# Second Hidden Layer\n",
    "ann.add(tf.keras.layers.Dense(units=6, activation='relu'))\n",
    "\n",
    "# Adding fully connected layer with a sigmoid activation function\n",
    "ann.add(tf.keras.layers.Dense(units=1, activation='sigmoid'))"
   ]
  },
  {
   "cell_type": "code",
   "execution_count": 48,
   "id": "a0ad3583",
   "metadata": {},
   "outputs": [],
   "source": [
    "#Compiling the Model\n",
    "ann.compile(optimizer = 'adam', loss = 'binary_crossentropy', metrics = ['accuracy'])"
   ]
  },
  {
   "cell_type": "code",
   "execution_count": 49,
   "id": "5824b74a",
   "metadata": {},
   "outputs": [
    {
     "name": "stdout",
     "output_type": "stream",
     "text": [
      "Epoch 1/25\n",
      "220/220 [==============================] - 1s 2ms/step - loss: 0.6840 - accuracy: 0.5933\n",
      "Epoch 2/25\n",
      "220/220 [==============================] - 0s 2ms/step - loss: 0.6287 - accuracy: 0.6430\n",
      "Epoch 3/25\n",
      "220/220 [==============================] - 0s 2ms/step - loss: 0.6079 - accuracy: 0.6639\n",
      "Epoch 4/25\n",
      "220/220 [==============================] - 0s 2ms/step - loss: 0.6002 - accuracy: 0.6676\n",
      "Epoch 5/25\n",
      "220/220 [==============================] - 0s 2ms/step - loss: 0.5942 - accuracy: 0.6636\n",
      "Epoch 6/25\n",
      "220/220 [==============================] - 0s 2ms/step - loss: 0.5927 - accuracy: 0.6732\n",
      "Epoch 7/25\n",
      "220/220 [==============================] - 0s 2ms/step - loss: 0.5909 - accuracy: 0.6665\n",
      "Epoch 8/25\n",
      "220/220 [==============================] - 0s 2ms/step - loss: 0.5887 - accuracy: 0.6743\n",
      "Epoch 9/25\n",
      "220/220 [==============================] - 0s 2ms/step - loss: 0.5850 - accuracy: 0.6730\n",
      "Epoch 10/25\n",
      "220/220 [==============================] - 0s 2ms/step - loss: 0.5827 - accuracy: 0.6798\n",
      "Epoch 11/25\n",
      "220/220 [==============================] - 0s 2ms/step - loss: 0.5815 - accuracy: 0.6821\n",
      "Epoch 12/25\n",
      "220/220 [==============================] - 0s 2ms/step - loss: 0.5788 - accuracy: 0.6830\n",
      "Epoch 13/25\n",
      "220/220 [==============================] - 0s 2ms/step - loss: 0.5799 - accuracy: 0.6845\n",
      "Epoch 14/25\n",
      "220/220 [==============================] - 0s 2ms/step - loss: 0.5777 - accuracy: 0.6901\n",
      "Epoch 15/25\n",
      "220/220 [==============================] - 0s 2ms/step - loss: 0.5734 - accuracy: 0.6903\n",
      "Epoch 16/25\n",
      "220/220 [==============================] - 0s 2ms/step - loss: 0.5741 - accuracy: 0.6872\n",
      "Epoch 17/25\n",
      "220/220 [==============================] - 0s 2ms/step - loss: 0.5694 - accuracy: 0.6874\n",
      "Epoch 18/25\n",
      "220/220 [==============================] - 0s 2ms/step - loss: 0.5713 - accuracy: 0.6925\n",
      "Epoch 19/25\n",
      "220/220 [==============================] - 0s 2ms/step - loss: 0.5719 - accuracy: 0.6892\n",
      "Epoch 20/25\n",
      "220/220 [==============================] - 0s 2ms/step - loss: 0.5681 - accuracy: 0.6876\n",
      "Epoch 21/25\n",
      "220/220 [==============================] - 0s 2ms/step - loss: 0.5650 - accuracy: 0.6967\n",
      "Epoch 22/25\n",
      "220/220 [==============================] - 0s 2ms/step - loss: 0.5632 - accuracy: 0.6965\n",
      "Epoch 23/25\n",
      "220/220 [==============================] - 0s 2ms/step - loss: 0.5625 - accuracy: 0.6961\n",
      "Epoch 24/25\n",
      "220/220 [==============================] - 0s 2ms/step - loss: 0.5638 - accuracy: 0.6949\n",
      "Epoch 25/25\n",
      "220/220 [==============================] - 0s 2ms/step - loss: 0.5651 - accuracy: 0.6947\n"
     ]
    },
    {
     "data": {
      "text/plain": [
       "<keras.callbacks.History at 0x246d5764820>"
      ]
     },
     "execution_count": 49,
     "metadata": {},
     "output_type": "execute_result"
    }
   ],
   "source": [
    "#Fitting the Model\n",
    "ann.fit(X_train, y_train, batch_size =25, epochs =25)"
   ]
  },
  {
   "cell_type": "markdown",
   "id": "c4b35cc1",
   "metadata": {},
   "source": [
    "Since the outputs from the ANN model is in terms of probabilities, I have converted them to 0 and 1 as required for evaluation. Probability values less than 0.5 have been assigned the 0 class while probabilities greater than or equal to 0.5 have been assigned 1 class."
   ]
  },
  {
   "cell_type": "code",
   "execution_count": 50,
   "id": "e8fc10d2",
   "metadata": {},
   "outputs": [
    {
     "name": "stdout",
     "output_type": "stream",
     "text": [
      "58/58 [==============================] - 0s 1ms/step\n"
     ]
    },
    {
     "data": {
      "text/plain": [
       "array([[0.],\n",
       "       [0.],\n",
       "       [0.],\n",
       "       ...,\n",
       "       [0.],\n",
       "       [0.],\n",
       "       [0.]], dtype=float32)"
      ]
     },
     "execution_count": 50,
     "metadata": {},
     "output_type": "execute_result"
    }
   ],
   "source": [
    "y_pred = ann.predict(X_test)\n",
    "for i in range(0,len(y_pred)):\n",
    "    if y_pred[i]>=0.5:\n",
    "        y_pred[i]=1\n",
    "    else:\n",
    "        y_pred[i]=0\n",
    "y_pred"
   ]
  },
  {
   "cell_type": "markdown",
   "id": "7b636859",
   "metadata": {},
   "source": [
    "## Model Evaluation"
   ]
  },
  {
   "cell_type": "code",
   "execution_count": 51,
   "id": "848c659e",
   "metadata": {},
   "outputs": [
    {
     "data": {
      "text/plain": [
       "array([[605, 457],\n",
       "       [172, 598]], dtype=int64)"
      ]
     },
     "execution_count": 51,
     "metadata": {},
     "output_type": "execute_result"
    }
   ],
   "source": [
    "from sklearn.metrics import confusion_matrix, classification_report, RocCurveDisplay, roc_curve, roc_auc_score\n",
    "cm = confusion_matrix(y_test, y_pred)\n",
    "cm"
   ]
  },
  {
   "cell_type": "code",
   "execution_count": 52,
   "id": "72a6077e",
   "metadata": {},
   "outputs": [
    {
     "name": "stdout",
     "output_type": "stream",
     "text": [
      "The model's Recall score is 0.78.\n",
      "he model's Precision score is 0.57\n",
      "The model's f1 score is 0.66\n"
     ]
    }
   ],
   "source": [
    "from sklearn.metrics import recall_score, precision_score, f1_score\n",
    "print(f\"The model's Recall score is {round(recall_score(y_test, y_pred),2)}.\\nhe model's Precision score is {round(precision_score(y_test, y_pred),2)}\\nThe model's f1 score is {round(f1_score(y_test, y_pred),2)}\")"
   ]
  },
  {
   "cell_type": "code",
   "execution_count": 53,
   "id": "759448a7",
   "metadata": {},
   "outputs": [
    {
     "name": "stdout",
     "output_type": "stream",
     "text": [
      "              precision    recall  f1-score   support\n",
      "\n",
      "           0       0.78      0.57      0.66      1062\n",
      "           1       0.57      0.78      0.66       770\n",
      "\n",
      "    accuracy                           0.66      1832\n",
      "   macro avg       0.67      0.67      0.66      1832\n",
      "weighted avg       0.69      0.66      0.66      1832\n",
      "\n"
     ]
    }
   ],
   "source": [
    "print(classification_report(y_test, y_pred))"
   ]
  },
  {
   "cell_type": "markdown",
   "id": "1256f35c",
   "metadata": {},
   "source": [
    "In this use case, it is important that our recall is high. The number of false negatives i.e., a customer actually being high potential but model predicting low potential must be low. We could be linient on the False Positives i.e customer being low potential but model predicting customer to be high potential i.e. lower Precison score for higher Recall. This is because it would be more costly to the business to lose out on a high potential customer than following up with a low potential customer."
   ]
  },
  {
   "cell_type": "markdown",
   "id": "84a31c16",
   "metadata": {},
   "source": [
    "From the classification report we can see that although the accuracy and precision is poor the recall score is good for the positive class which is our primary evaluation metric. "
   ]
  },
  {
   "cell_type": "markdown",
   "id": "e82ddb23",
   "metadata": {},
   "source": [
    "## Cross Validation"
   ]
  },
  {
   "cell_type": "markdown",
   "id": "0756733e",
   "metadata": {},
   "source": [
    "In order to perform cross validation using the cross_val_score function of the scikit learn library, we have to create a function that builds the model and then wrap this keras object so that it can be used by sklearn package. "
   ]
  },
  {
   "cell_type": "code",
   "execution_count": 54,
   "id": "58ad8f30",
   "metadata": {},
   "outputs": [],
   "source": [
    "# Creating a function that returns a compiled network\n",
    "def create_network():\n",
    "    # Building the ANN\n",
    "        ann = tf.keras.models.Sequential()\n",
    "        ann.add(tf.keras.layers.Dense(units=32, activation='relu'))\n",
    "        ann.add(tf.keras.layers.Dense(units=6, activation='relu'))\n",
    "        ann.add(tf.keras.layers.Dense(units=1, activation='sigmoid'))\n",
    "\n",
    "        # Compiling neural network\n",
    "        ann.compile(loss='binary_crossentropy', # Cross-entropy\n",
    "                    optimizer='adam', # Root Mean Square Propagation\n",
    "                    metrics=['accuracy']) # Accuracy performance metric\n",
    "    \n",
    "    # Returning compiled network\n",
    "        return ann"
   ]
  },
  {
   "cell_type": "code",
   "execution_count": 55,
   "id": "e32d47de",
   "metadata": {},
   "outputs": [],
   "source": [
    "from keras.wrappers.scikit_learn import KerasClassifier\n",
    "# Wrapping Keras model so it can be used by scikit-learn\n",
    "neural_network = KerasClassifier(build_fn=create_network, \n",
    "                                 epochs=25, \n",
    "                                 batch_size=25, \n",
    "                                 verbose=0)"
   ]
  },
  {
   "cell_type": "code",
   "execution_count": 56,
   "id": "be417fe8",
   "metadata": {},
   "outputs": [
    {
     "name": "stdout",
     "output_type": "stream",
     "text": [
      "23/23 [==============================] - 0s 1ms/step\n",
      "23/23 [==============================] - 0s 1ms/step\n",
      "23/23 [==============================] - 0s 1ms/step\n",
      "23/23 [==============================] - 0s 1000us/step\n",
      "23/23 [==============================] - 0s 1ms/step\n",
      "23/23 [==============================] - 0s 1ms/step\n",
      "23/23 [==============================] - 0s 1ms/step\n",
      "23/23 [==============================] - 0s 1ms/step\n",
      "23/23 [==============================] - 0s 1ms/step\n",
      "23/23 [==============================] - 0s 1ms/step\n",
      "[0.64392906 0.64120055 0.64120055 0.64529332 0.66439291 0.61664393\n",
      " 0.66712142 0.63983629 0.71857923 0.7363388 ]\n",
      "Cross validation Score: 0.6614536040972425\n",
      "Std : 0.03574317587950233\n"
     ]
    }
   ],
   "source": [
    "from sklearn.model_selection import cross_val_score\n",
    "\n",
    "ANN_crossval_score = cross_val_score(neural_network,X,y,cv=10, scoring=\"accuracy\", error_score=\"raise\")\n",
    "print(ANN_crossval_score)\n",
    "print(\"Cross validation Score:\",ANN_crossval_score.mean())\n",
    "print(\"Std :\",ANN_crossval_score.std())\n",
    "#std of < 0.05 is good. "
   ]
  },
  {
   "cell_type": "markdown",
   "id": "a55843a1",
   "metadata": {},
   "source": [
    "10 fold cross validation scores reveal that the model has an average accuracy of 0.66 with a standard deviation of 0.03."
   ]
  },
  {
   "cell_type": "markdown",
   "id": "f77e22f9",
   "metadata": {},
   "source": [
    "## Conclusion\n",
    "\n",
    "Our ANN has an avergae model performnce but comapritively better recall scores than other models. One of the main reasons for this performnce could be lack of much useful information in the dataset. The mobile and email columns had to be dropped which further reduced the available data in the first place. I feel more information/features such as the customers business type etc., would have helped the model performance. "
   ]
  },
  {
   "cell_type": "markdown",
   "id": "a0aa5413",
   "metadata": {},
   "source": [
    "## Kindly review the report for detailed analysis"
   ]
  },
  {
   "cell_type": "code",
   "execution_count": null,
   "id": "8b0a6919",
   "metadata": {},
   "outputs": [],
   "source": []
  }
 ],
 "metadata": {
  "kernelspec": {
   "display_name": "Python 3 (ipykernel)",
   "language": "python",
   "name": "python3"
  },
  "language_info": {
   "codemirror_mode": {
    "name": "ipython",
    "version": 3
   },
   "file_extension": ".py",
   "mimetype": "text/x-python",
   "name": "python",
   "nbconvert_exporter": "python",
   "pygments_lexer": "ipython3",
   "version": "3.10.9"
  }
 },
 "nbformat": 4,
 "nbformat_minor": 5
}
